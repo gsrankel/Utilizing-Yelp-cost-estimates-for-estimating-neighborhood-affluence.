{
 "cells": [
  {
   "cell_type": "markdown",
   "metadata": {},
   "source": [
    "# Using YELP \n",
    "by \n",
    "Greg, Varun, Adriana"
   ]
  },
  {
   "cell_type": "markdown",
   "metadata": {},
   "source": [
    "## Problem Statement\n",
    "\n",
    "- to be filled \n",
    " - decide on a metric? "
   ]
  },
  {
   "cell_type": "markdown",
   "metadata": {},
   "source": [
    "## Executive Summary"
   ]
  },
  {
   "cell_type": "markdown",
   "metadata": {},
   "source": [
    "- how we obtained data\n",
    "\n",
    "- link to the scraping notebooks\n",
    "\n",
    "- data points\n",
    "\n",
    "- initital observations\n",
    "\n",
    "- how we decided what \"affluency\" is\n",
    "\n",
    "- IRS proces\n",
    "\n",
    "- processes EDA observations\n",
    "\n",
    "- models used\n",
    "\n",
    "- results\n"
   ]
  },
  {
   "cell_type": "markdown",
   "metadata": {},
   "source": [
    "## Table of contents:\n",
    "- [Acquiring and Preprocessing Data](#Acquiring-and-Preprocessing-Data)\n",
    "- [Loading Libraries](#Loading-Libraries)\n",
    "- [Loading Data](#Loading-Data)\n",
    "- [Model Preparation](#Model-Preparation)\n",
    "- [Modeling](#Modeling)\n",
    "- [Baseline Model](#Modeling)\n",
    "- [Grid Search with a Pipe with Logistic Regression and TFIDF](#Grid-Search-with-a-Pipe-with-Logistic-Regression-and-TFIDF)\n",
    "- [CountVectorizer in a Pipe with Decision Trees, and Grid Search](#CountVectorizer-in-a-Pipe-with-Decision-Trees,-and-Grid-Search)\n",
    "- [Bagging Classifier in a pipe with TFIDF](#Bagging-Classifier-in-a-pipe-with-TFIDF)\n",
    "- [Naive Bayes with CountVectorizer](#Naive-Bayes-with-CountVectorizer)\n",
    "- [Model Selection](#Model-Selection)\n",
    "- [Model Evaluation](#Model-Evaluation)\n",
    "- [Conclusion](#Conclusion)\n"
   ]
  },
  {
   "cell_type": "markdown",
   "metadata": {},
   "source": [
    "## Acquiring and Preprocessing Data"
   ]
  },
  {
   "cell_type": "markdown",
   "metadata": {},
   "source": [
    "We have scrapped yelp - and IRS \n",
    "- link to notebooks, data sets\n"
   ]
  },
  {
   "cell_type": "markdown",
   "metadata": {},
   "source": [
    "We have preprocessed the scrapped and concatenated data in the notebook [title_preprocessing.ipynb'](./title_preprocessing.ipynb) that can be found in the same folder as this notebook."
   ]
  },
  {
   "cell_type": "markdown",
   "metadata": {},
   "source": [
    "## Data Dictionary"
   ]
  },
  {
   "cell_type": "markdown",
   "metadata": {},
   "source": [
    "## Loading Libraries"
   ]
  },
  {
   "cell_type": "markdown",
   "metadata": {},
   "source": [
    "Libraries are used in python to automate functions in order to clean data, engineer data, and model data"
   ]
  },
  {
   "cell_type": "code",
   "execution_count": 1,
   "metadata": {},
   "outputs": [],
   "source": [
    "\n",
    "##Import libraties for cleaning\n",
    "\n",
    "import pandas as pd\n",
    "import datetime as dt\n",
    "import time\n",
    "import requests\n",
    "import numpy as np\n",
    "import math\n",
    "from ast import literal_eval\n",
    "##Import modeling libraries\n",
    "\n",
    "from sklearn.linear_model import LogisticRegression\n",
    "from sklearn.pipeline import Pipeline\n",
    "from sklearn.model_selection import cross_val_score, train_test_split, GridSearchCV\n",
    "from nltk.stem.snowball import SnowballStemmer\n",
    "from nltk.tokenize import RegexpTokenizer\n",
    "from sklearn.tree import DecisionTreeClassifier\n",
    "from sklearn.ensemble import BaggingClassifier\n",
    "from sklearn.naive_bayes import GaussianNB\n",
    "from sklearn.ensemble import GradientBoostingClassifier, AdaBoostClassifier, VotingClassifier\n",
    "from sklearn.tree import DecisionTreeClassifier\n",
    "from sklearn.model_selection import train_test_split, GridSearchCV\n",
    "from sklearn.datasets import make_classification\n",
    "import seaborn as sns\n",
    "import matplotlib.pyplot as plt\n",
    "\n",
    "\n",
    "#Import metrics \n",
    "from sklearn.metrics import roc_auc_score\n",
    "from sklearn.metrics import recall_score\n",
    "from sklearn.metrics import confusion_matrix\n",
    "from sklearn.metrics import make_scorer\n",
    "\n",
    "\n",
    "\n",
    "import warnings\n",
    "warnings.filterwarnings('ignore')"
   ]
  },
  {
   "cell_type": "markdown",
   "metadata": {},
   "source": [
    "## Loading Data"
   ]
  },
  {
   "cell_type": "markdown",
   "metadata": {},
   "source": [
    "We decied to scrape yelp business data based on the 4 closer bouroughs, Manahattan, Queens, Bronx, Brooklyn. \n",
    "In addition, to extact more data points we decided to query from specific addresses and yelp's api is smart\n",
    "enough to pull from the surrounding areas. This will allow us to get more data and more precise data. "
   ]
  },
  {
   "cell_type": "code",
   "execution_count": 2,
   "metadata": {},
   "outputs": [],
   "source": [
    "##Use pandas to read csv. File Path ./data\n",
    "df_midtowneast = pd.read_csv('../data/midtownqueensvg.csv')\n",
    "df_uppereast = pd.read_csv('../data/adriana_data.csv')\n",
    "df_brooklyn = pd.read_csv('../data/greg_data.csv')"
   ]
  },
  {
   "cell_type": "markdown",
   "metadata": {},
   "source": [
    "## YELP EDA"
   ]
  },
  {
   "cell_type": "markdown",
   "metadata": {},
   "source": [
    "Drop Unnamed Columns in brooklyn. Will be better for merging"
   ]
  },
  {
   "cell_type": "code",
   "execution_count": 3,
   "metadata": {},
   "outputs": [],
   "source": [
    "##Use drop on columns, axis = 1(columns)\n",
    "df_brooklyn = df_brooklyn.drop('Unnamed: 0', axis =1)"
   ]
  },
  {
   "cell_type": "markdown",
   "metadata": {},
   "source": [
    "Concat all 3 data frames into one big data frame. "
   ]
  },
  {
   "cell_type": "code",
   "execution_count": 4,
   "metadata": {},
   "outputs": [],
   "source": [
    "##use pandas concat to add everything\n",
    "df_yelp = pd.concat([df_midtowneast, df_uppereast, df_brooklyn])"
   ]
  },
  {
   "cell_type": "markdown",
   "metadata": {},
   "source": [
    "Drop all duplicates"
   ]
  },
  {
   "cell_type": "code",
   "execution_count": 5,
   "metadata": {},
   "outputs": [],
   "source": [
    "##Drop method\n",
    "df_yelp.drop_duplicates('id', inplace=True)"
   ]
  },
  {
   "cell_type": "markdown",
   "metadata": {},
   "source": [
    "Check for Nulls"
   ]
  },
  {
   "cell_type": "code",
   "execution_count": 6,
   "metadata": {},
   "outputs": [
    {
     "data": {
      "text/plain": [
       "623"
      ]
     },
     "execution_count": 6,
     "metadata": {},
     "output_type": "execute_result"
    }
   ],
   "source": [
    "##isnull(sum) method to check nulls\n",
    "df_yelp['price'].isnull().sum()"
   ]
  },
  {
   "cell_type": "markdown",
   "metadata": {},
   "source": [
    "Drop rows with null prices. We are worried abot the data that has price ratings based on user input. No value means no data. We cannot assume its a cheap restaurant or cannot fill with median or mean"
   ]
  },
  {
   "cell_type": "code",
   "execution_count": 7,
   "metadata": {},
   "outputs": [],
   "source": [
    "##Use drop method\n",
    "df_yelp = df_yelp.dropna(subset = [\"price\"])"
   ]
  },
  {
   "cell_type": "markdown",
   "metadata": {},
   "source": [
    "Map Price to numeric values. This will be of use when measuring affluency as stated in our problem statement. We are concerned with the price rating per zip code"
   ]
  },
  {
   "cell_type": "code",
   "execution_count": 8,
   "metadata": {},
   "outputs": [],
   "source": [
    "df_yelp['price'] = df_yelp['price'].map({'$': 1, '$$': 2, '$$$': 3, '$$$$': 4})"
   ]
  },
  {
   "cell_type": "markdown",
   "metadata": {},
   "source": [
    "Check Which Zip codes have NAN values"
   ]
  },
  {
   "cell_type": "code",
   "execution_count": 9,
   "metadata": {},
   "outputs": [
    {
     "data": {
      "text/html": [
       "<div>\n",
       "<style scoped>\n",
       "    .dataframe tbody tr th:only-of-type {\n",
       "        vertical-align: middle;\n",
       "    }\n",
       "\n",
       "    .dataframe tbody tr th {\n",
       "        vertical-align: top;\n",
       "    }\n",
       "\n",
       "    .dataframe thead th {\n",
       "        text-align: right;\n",
       "    }\n",
       "</style>\n",
       "<table border=\"1\" class=\"dataframe\">\n",
       "  <thead>\n",
       "    <tr style=\"text-align: right;\">\n",
       "      <th></th>\n",
       "      <th>id</th>\n",
       "      <th>alias</th>\n",
       "      <th>name</th>\n",
       "      <th>image_url</th>\n",
       "      <th>is_closed</th>\n",
       "      <th>url</th>\n",
       "      <th>review_count</th>\n",
       "      <th>categories</th>\n",
       "      <th>rating</th>\n",
       "      <th>coordinates</th>\n",
       "      <th>transactions</th>\n",
       "      <th>price</th>\n",
       "      <th>location</th>\n",
       "      <th>phone</th>\n",
       "      <th>display_phone</th>\n",
       "      <th>distance</th>\n",
       "      <th>zip_codes</th>\n",
       "    </tr>\n",
       "  </thead>\n",
       "  <tbody>\n",
       "    <tr>\n",
       "      <th>1746</th>\n",
       "      <td>BilbRcNQXKmcBFvLm4gxAQ</td>\n",
       "      <td>halal-cart-queens-2</td>\n",
       "      <td>Halal Cart</td>\n",
       "      <td>https://s3-media1.fl.yelpcdn.com/bphoto/Bq_MTq...</td>\n",
       "      <td>False</td>\n",
       "      <td>https://www.yelp.com/biz/halal-cart-queens-2?a...</td>\n",
       "      <td>3</td>\n",
       "      <td>[{'alias': 'foodstands', 'title': 'Food Stands'}]</td>\n",
       "      <td>5.0</td>\n",
       "      <td>{'latitude': 40.7488639529741, 'longitude': -7...</td>\n",
       "      <td>[]</td>\n",
       "      <td>2</td>\n",
       "      <td>{'address1': '74 St 37th Ave', 'address2': '',...</td>\n",
       "      <td>NaN</td>\n",
       "      <td>NaN</td>\n",
       "      <td>2129.853970</td>\n",
       "      <td>NaN</td>\n",
       "    </tr>\n",
       "    <tr>\n",
       "      <th>1799</th>\n",
       "      <td>jZzbV6SRt9FXdCoziNv5xw</td>\n",
       "      <td>elmhurst-green-market-queens</td>\n",
       "      <td>Elmhurst Green Market</td>\n",
       "      <td>https://s3-media1.fl.yelpcdn.com/bphoto/yW3gl0...</td>\n",
       "      <td>False</td>\n",
       "      <td>https://www.yelp.com/biz/elmhurst-green-market...</td>\n",
       "      <td>4</td>\n",
       "      <td>[{'alias': 'farmersmarket', 'title': 'Farmers ...</td>\n",
       "      <td>4.0</td>\n",
       "      <td>{'latitude': 40.7454635299775, 'longitude': -7...</td>\n",
       "      <td>[]</td>\n",
       "      <td>2</td>\n",
       "      <td>{'address1': '41st Ave between 80th &amp; 81st St'...</td>\n",
       "      <td>NaN</td>\n",
       "      <td>NaN</td>\n",
       "      <td>1611.572779</td>\n",
       "      <td>NaN</td>\n",
       "    </tr>\n",
       "    <tr>\n",
       "      <th>1814</th>\n",
       "      <td>sdJR2FH3Yj3yE-X-ShEnlQ</td>\n",
       "      <td>chilis-queens</td>\n",
       "      <td>Chili's</td>\n",
       "      <td>https://s3-media1.fl.yelpcdn.com/bphoto/7GSL-V...</td>\n",
       "      <td>False</td>\n",
       "      <td>https://www.yelp.com/biz/chilis-queens?adjust_...</td>\n",
       "      <td>27</td>\n",
       "      <td>[{'alias': 'bars', 'title': 'Bars'}, {'alias':...</td>\n",
       "      <td>2.0</td>\n",
       "      <td>{'latitude': 40.7140007, 'longitude': -73.8299...</td>\n",
       "      <td>[]</td>\n",
       "      <td>2</td>\n",
       "      <td>{'address1': 'Atlas Park', 'address2': '', 'ad...</td>\n",
       "      <td>NaN</td>\n",
       "      <td>NaN</td>\n",
       "      <td>1777.430525</td>\n",
       "      <td>NaN</td>\n",
       "    </tr>\n",
       "    <tr>\n",
       "      <th>663</th>\n",
       "      <td>v1aO9kQuRKq90xxq_qujxA</td>\n",
       "      <td>coolhaus-ice-cream-sandwiches-new-york-2</td>\n",
       "      <td>Coolhaus Ice Cream Sandwiches</td>\n",
       "      <td>https://s3-media1.fl.yelpcdn.com/bphoto/K-IgXP...</td>\n",
       "      <td>False</td>\n",
       "      <td>https://www.yelp.com/biz/coolhaus-ice-cream-sa...</td>\n",
       "      <td>198</td>\n",
       "      <td>[{'alias': 'icecream', 'title': 'Ice Cream &amp; F...</td>\n",
       "      <td>4.0</td>\n",
       "      <td>{'latitude': 40.7154670332003, 'longitude': -7...</td>\n",
       "      <td>[]</td>\n",
       "      <td>1</td>\n",
       "      <td>{'address1': '', 'address2': '', 'address3': '...</td>\n",
       "      <td>1.917934e+10</td>\n",
       "      <td>(917) 933-8638</td>\n",
       "      <td>1956.663385</td>\n",
       "      <td>NaN</td>\n",
       "    </tr>\n",
       "  </tbody>\n",
       "</table>\n",
       "</div>"
      ],
      "text/plain": [
       "                          id                                     alias  \\\n",
       "1746  BilbRcNQXKmcBFvLm4gxAQ                       halal-cart-queens-2   \n",
       "1799  jZzbV6SRt9FXdCoziNv5xw              elmhurst-green-market-queens   \n",
       "1814  sdJR2FH3Yj3yE-X-ShEnlQ                             chilis-queens   \n",
       "663   v1aO9kQuRKq90xxq_qujxA  coolhaus-ice-cream-sandwiches-new-york-2   \n",
       "\n",
       "                               name  \\\n",
       "1746                     Halal Cart   \n",
       "1799          Elmhurst Green Market   \n",
       "1814                        Chili's   \n",
       "663   Coolhaus Ice Cream Sandwiches   \n",
       "\n",
       "                                              image_url  is_closed  \\\n",
       "1746  https://s3-media1.fl.yelpcdn.com/bphoto/Bq_MTq...      False   \n",
       "1799  https://s3-media1.fl.yelpcdn.com/bphoto/yW3gl0...      False   \n",
       "1814  https://s3-media1.fl.yelpcdn.com/bphoto/7GSL-V...      False   \n",
       "663   https://s3-media1.fl.yelpcdn.com/bphoto/K-IgXP...      False   \n",
       "\n",
       "                                                    url  review_count  \\\n",
       "1746  https://www.yelp.com/biz/halal-cart-queens-2?a...             3   \n",
       "1799  https://www.yelp.com/biz/elmhurst-green-market...             4   \n",
       "1814  https://www.yelp.com/biz/chilis-queens?adjust_...            27   \n",
       "663   https://www.yelp.com/biz/coolhaus-ice-cream-sa...           198   \n",
       "\n",
       "                                             categories  rating  \\\n",
       "1746  [{'alias': 'foodstands', 'title': 'Food Stands'}]     5.0   \n",
       "1799  [{'alias': 'farmersmarket', 'title': 'Farmers ...     4.0   \n",
       "1814  [{'alias': 'bars', 'title': 'Bars'}, {'alias':...     2.0   \n",
       "663   [{'alias': 'icecream', 'title': 'Ice Cream & F...     4.0   \n",
       "\n",
       "                                            coordinates transactions  price  \\\n",
       "1746  {'latitude': 40.7488639529741, 'longitude': -7...           []      2   \n",
       "1799  {'latitude': 40.7454635299775, 'longitude': -7...           []      2   \n",
       "1814  {'latitude': 40.7140007, 'longitude': -73.8299...           []      2   \n",
       "663   {'latitude': 40.7154670332003, 'longitude': -7...           []      1   \n",
       "\n",
       "                                               location         phone  \\\n",
       "1746  {'address1': '74 St 37th Ave', 'address2': '',...           NaN   \n",
       "1799  {'address1': '41st Ave between 80th & 81st St'...           NaN   \n",
       "1814  {'address1': 'Atlas Park', 'address2': '', 'ad...           NaN   \n",
       "663   {'address1': '', 'address2': '', 'address3': '...  1.917934e+10   \n",
       "\n",
       "       display_phone     distance  zip_codes  \n",
       "1746             NaN  2129.853970        NaN  \n",
       "1799             NaN  1611.572779        NaN  \n",
       "1814             NaN  1777.430525        NaN  \n",
       "663   (917) 933-8638  1956.663385        NaN  "
      ]
     },
     "execution_count": 9,
     "metadata": {},
     "output_type": "execute_result"
    }
   ],
   "source": [
    "df_yelp[df_yelp['zip_codes'].isin(['NaN'])]"
   ]
  },
  {
   "cell_type": "markdown",
   "metadata": {},
   "source": [
    "We researched for nan values on yelp to see where these restaurants where located. We can also use google maps to locate where these restuarants are on the map. No need to drop values when we have outside resources to confirm the zipcodes of nan values"
   ]
  },
  {
   "cell_type": "code",
   "execution_count": 10,
   "metadata": {},
   "outputs": [],
   "source": [
    "##use loc method to identify nan zipcodes and fill them value\n",
    "df_yelp.loc[df_yelp['id'] == 'BilbRcNQXKmcBFvLm4gxAQ', 'zip_codes'] = 11372\n",
    "df_yelp.loc[df_yelp['id'] == 'jZzbV6SRt9FXdCoziNv5xw', 'zip_codes' ] = 11372\n",
    "df_yelp.loc[df_yelp['id'] == 'sdJR2FH3Yj3yE-X-ShEnlQ', 'zip_codes'] = 11372\n",
    "df_yelp.loc[df_yelp['id'] == 'v1aO9kQuRKq90xxq_qujxA','zip_codes'] = 11372"
   ]
  },
  {
   "cell_type": "markdown",
   "metadata": {},
   "source": [
    "Check if is closed is False, aka the restaurants must be open. "
   ]
  },
  {
   "cell_type": "code",
   "execution_count": 11,
   "metadata": {},
   "outputs": [
    {
     "data": {
      "text/plain": [
       "array([False])"
      ]
     },
     "execution_count": 11,
     "metadata": {},
     "output_type": "execute_result"
    }
   ],
   "source": [
    "df_yelp['is_closed'].unique()"
   ]
  },
  {
   "cell_type": "markdown",
   "metadata": {},
   "source": [
    "All restaurants are open"
   ]
  },
  {
   "cell_type": "markdown",
   "metadata": {},
   "source": [
    " We want to parse out from location the cities and state. Cities is a another way to group and classify an area by affluency. Cities is an umbrella to the zipcodes, where the data becomes more percise. Percision is key when preparing for disasters, especially in New York where neighborhoods are divese and clustered\n",
    "\n",
    "Below is a function that parses out the string and keys from the data frame column location\n",
    "\n",
    "The code below is adopted from NYC(2) project"
   ]
  },
  {
   "cell_type": "code",
   "execution_count": 12,
   "metadata": {},
   "outputs": [],
   "source": [
    "##This function takes in a string and is able to index it by column name. \n",
    "\n",
    "def get_keys_from_sting_dict(string, keys):\n",
    " \n",
    "    if len(string) == 0:\n",
    "        return None\n",
    "    dic = literal_eval(string)\n",
    "    out = {}\n",
    "    for key in keys:\n",
    "        out[key] = dic.get(key)\n",
    "    return out"
   ]
  },
  {
   "cell_type": "markdown",
   "metadata": {},
   "source": [
    "We can drop location because we have the information from location"
   ]
  },
  {
   "cell_type": "code",
   "execution_count": 13,
   "metadata": {},
   "outputs": [],
   "source": [
    "location = \"location\"\n",
    "keys = [\"city\", 'state']\n",
    "zips_and_cities = df_yelp[location].map(lambda string: get_keys_from_sting_dict(string, keys))\n",
    "\n",
    "for key in keys:\n",
    "    df_yelp[key] = [pair[key] for pair in zips_and_cities]\n",
    "    \n",
    "df_yelp.drop(columns=[location], inplace = True)"
   ]
  },
  {
   "cell_type": "markdown",
   "metadata": {},
   "source": [
    "We want to parse out from coordinates with longitude and lattitude. Longitude and Lattidue is a another way to group and classify an area by affluency. Longitude and Lat is a little more percises than zipcodes, where the data becomes more percise. Percision is key when preparing for disasters, especially in New York where neighborhoods are divese and clustered\n",
    "\n",
    "Below is a function that parses out the string and keys from the data frame the coordinates section\n",
    "\n",
    "The code below is adopted from NYC(2) project"
   ]
  },
  {
   "cell_type": "code",
   "execution_count": 14,
   "metadata": {},
   "outputs": [],
   "source": [
    "coordinates = \"coordinates\"\n",
    "coord_keys = [\"latitude\", \"longitude\"]\n",
    "lat_and_long = df_yelp[coordinates].map(lambda string: get_keys_from_sting_dict(string, coord_keys))\n",
    "\n",
    "for key in coord_keys:\n",
    "    df_yelp[key] = [pair[key] for pair in lat_and_long]\n",
    "\n",
    "df_yelp.drop(columns=[coordinates], inplace = True)"
   ]
  },
  {
   "cell_type": "markdown",
   "metadata": {},
   "source": [
    "We want to parse out the categories for busineses. This will allow us to get what types or businesses are in affluent or non affluent ares"
   ]
  },
  {
   "cell_type": "code",
   "execution_count": 15,
   "metadata": {},
   "outputs": [],
   "source": [
    "def convert_string_dict_to_string(string, key):\n",
    "    '''Returns a string of a string-link dictionary given extraction keys'''\n",
    "    return \",\".join([dic[key] for dic in literal_eval(string)])\n",
    "\n",
    "df_yelp[\"categories\"] = df_yelp[\"categories\"].map(lambda s: convert_string_dict_to_string(s,\"alias\"))"
   ]
  },
  {
   "cell_type": "markdown",
   "metadata": {},
   "source": [
    "We decided to order the location features from less percision to more percision. As you can see state is the less percise and lat/long are the most percise. As stated in our problem statement, percision is key when it comes to location. Price is based on the business and is going to be used later to measure affluency"
   ]
  },
  {
   "cell_type": "code",
   "execution_count": 16,
   "metadata": {},
   "outputs": [],
   "source": [
    "features = ['state', 'city','zip_codes','latitude', 'longitude','id', 'name', 'review_count', 'categories', \n",
    "        'rating','price']"
   ]
  },
  {
   "cell_type": "code",
   "execution_count": 17,
   "metadata": {},
   "outputs": [],
   "source": [
    "df_yelp = df_yelp[features]"
   ]
  },
  {
   "cell_type": "code",
   "execution_count": 18,
   "metadata": {},
   "outputs": [],
   "source": [
    "df_yelp['zip_codes'] = df_yelp['zip_codes'].astype(int)"
   ]
  },
  {
   "cell_type": "code",
   "execution_count": 19,
   "metadata": {},
   "outputs": [],
   "source": [
    "df_yelp['zip_codes'] = df_yelp['zip_codes'].astype(str)"
   ]
  },
  {
   "cell_type": "markdown",
   "metadata": {},
   "source": [
    "Ensure that the zip codes are 5 digits"
   ]
  },
  {
   "cell_type": "code",
   "execution_count": 20,
   "metadata": {},
   "outputs": [],
   "source": [
    "df_yelp = df_yelp[df_yelp.zip_codes.str.match(\"\\d{5}\")]\n"
   ]
  },
  {
   "cell_type": "markdown",
   "metadata": {},
   "source": [
    "Change zipcode column type from object to int"
   ]
  },
  {
   "cell_type": "code",
   "execution_count": 21,
   "metadata": {},
   "outputs": [],
   "source": [
    "df_yelp['zip_codes'] = df_yelp['zip_codes'].astype('int64')"
   ]
  },
  {
   "cell_type": "markdown",
   "metadata": {},
   "source": [
    "We decided to group all the data by zip codes. One zip code can have many businesses so we want to count the amount of businesses based on dollar amount. This will allow us to easily merge irs data to have a clean data set when we measure affluency"
   ]
  },
  {
   "cell_type": "code",
   "execution_count": 22,
   "metadata": {},
   "outputs": [],
   "source": [
    "df_count_zips = df_yelp.set_index('zip_codes')\n",
    "pivoted = pd.pivot_table(df_count_zips, index='zip_codes', columns=['price'], values='id', aggfunc=\"count\",fill_value=0)\n",
    "flattened = pd.DataFrame(pivoted.to_records())\n",
    "\n",
    "df_count_zips = flattened.rename(columns={'1':'yelp_dollar_1','2':'yelp_dollar_2','3':'yelp_dollar_3','4':'yelp_dollar_4'})\n",
    "df_count_zips['Total_Business'] = df_count_zips['yelp_dollar_1'] + df_count_zips['yelp_dollar_2'] +  df_count_zips['yelp_dollar_3'] + df_count_zips['yelp_dollar_4']"
   ]
  },
  {
   "cell_type": "markdown",
   "metadata": {},
   "source": [
    "We want to keep zipcodes that have over a therhsold of amount of businesses. We decided to keep the zipcodes with over 20 businesses. "
   ]
  },
  {
   "cell_type": "code",
   "execution_count": 23,
   "metadata": {},
   "outputs": [],
   "source": [
    "df_yelp_zips = df_count_zips[df_count_zips['Total_Business'] > 20]"
   ]
  },
  {
   "cell_type": "code",
   "execution_count": 24,
   "metadata": {},
   "outputs": [],
   "source": [
    "df_yelp_zips = df_yelp_zips.sort_values('Total_Business', ascending = False)"
   ]
  },
  {
   "cell_type": "code",
   "execution_count": 25,
   "metadata": {},
   "outputs": [
    {
     "data": {
      "text/html": [
       "<div>\n",
       "<style scoped>\n",
       "    .dataframe tbody tr th:only-of-type {\n",
       "        vertical-align: middle;\n",
       "    }\n",
       "\n",
       "    .dataframe tbody tr th {\n",
       "        vertical-align: top;\n",
       "    }\n",
       "\n",
       "    .dataframe thead th {\n",
       "        text-align: right;\n",
       "    }\n",
       "</style>\n",
       "<table border=\"1\" class=\"dataframe\">\n",
       "  <thead>\n",
       "    <tr style=\"text-align: right;\">\n",
       "      <th></th>\n",
       "      <th>zip_codes</th>\n",
       "      <th>yelp_dollar_1</th>\n",
       "      <th>yelp_dollar_2</th>\n",
       "      <th>yelp_dollar_3</th>\n",
       "      <th>yelp_dollar_4</th>\n",
       "      <th>Total_Business</th>\n",
       "    </tr>\n",
       "  </thead>\n",
       "  <tbody>\n",
       "    <tr>\n",
       "      <th>70</th>\n",
       "      <td>11211</td>\n",
       "      <td>127</td>\n",
       "      <td>228</td>\n",
       "      <td>17</td>\n",
       "      <td>1</td>\n",
       "      <td>373</td>\n",
       "    </tr>\n",
       "    <tr>\n",
       "      <th>66</th>\n",
       "      <td>11201</td>\n",
       "      <td>75</td>\n",
       "      <td>205</td>\n",
       "      <td>16</td>\n",
       "      <td>1</td>\n",
       "      <td>297</td>\n",
       "    </tr>\n",
       "    <tr>\n",
       "      <th>11</th>\n",
       "      <td>10013</td>\n",
       "      <td>65</td>\n",
       "      <td>159</td>\n",
       "      <td>30</td>\n",
       "      <td>12</td>\n",
       "      <td>266</td>\n",
       "    </tr>\n",
       "    <tr>\n",
       "      <th>10</th>\n",
       "      <td>10012</td>\n",
       "      <td>41</td>\n",
       "      <td>155</td>\n",
       "      <td>37</td>\n",
       "      <td>8</td>\n",
       "      <td>241</td>\n",
       "    </tr>\n",
       "    <tr>\n",
       "      <th>87</th>\n",
       "      <td>11372</td>\n",
       "      <td>114</td>\n",
       "      <td>108</td>\n",
       "      <td>1</td>\n",
       "      <td>0</td>\n",
       "      <td>223</td>\n",
       "    </tr>\n",
       "    <tr>\n",
       "      <th>88</th>\n",
       "      <td>11373</td>\n",
       "      <td>131</td>\n",
       "      <td>79</td>\n",
       "      <td>1</td>\n",
       "      <td>0</td>\n",
       "      <td>211</td>\n",
       "    </tr>\n",
       "    <tr>\n",
       "      <th>73</th>\n",
       "      <td>11222</td>\n",
       "      <td>79</td>\n",
       "      <td>117</td>\n",
       "      <td>7</td>\n",
       "      <td>2</td>\n",
       "      <td>205</td>\n",
       "    </tr>\n",
       "    <tr>\n",
       "      <th>16</th>\n",
       "      <td>10019</td>\n",
       "      <td>24</td>\n",
       "      <td>123</td>\n",
       "      <td>40</td>\n",
       "      <td>16</td>\n",
       "      <td>203</td>\n",
       "    </tr>\n",
       "    <tr>\n",
       "      <th>13</th>\n",
       "      <td>10016</td>\n",
       "      <td>23</td>\n",
       "      <td>143</td>\n",
       "      <td>19</td>\n",
       "      <td>10</td>\n",
       "      <td>195</td>\n",
       "    </tr>\n",
       "    <tr>\n",
       "      <th>60</th>\n",
       "      <td>11103</td>\n",
       "      <td>77</td>\n",
       "      <td>115</td>\n",
       "      <td>2</td>\n",
       "      <td>0</td>\n",
       "      <td>194</td>\n",
       "    </tr>\n",
       "    <tr>\n",
       "      <th>19</th>\n",
       "      <td>10022</td>\n",
       "      <td>22</td>\n",
       "      <td>110</td>\n",
       "      <td>46</td>\n",
       "      <td>14</td>\n",
       "      <td>192</td>\n",
       "    </tr>\n",
       "    <tr>\n",
       "      <th>26</th>\n",
       "      <td>10036</td>\n",
       "      <td>23</td>\n",
       "      <td>129</td>\n",
       "      <td>28</td>\n",
       "      <td>7</td>\n",
       "      <td>187</td>\n",
       "    </tr>\n",
       "    <tr>\n",
       "      <th>2</th>\n",
       "      <td>10003</td>\n",
       "      <td>25</td>\n",
       "      <td>124</td>\n",
       "      <td>25</td>\n",
       "      <td>8</td>\n",
       "      <td>182</td>\n",
       "    </tr>\n",
       "    <tr>\n",
       "      <th>0</th>\n",
       "      <td>10001</td>\n",
       "      <td>28</td>\n",
       "      <td>126</td>\n",
       "      <td>18</td>\n",
       "      <td>1</td>\n",
       "      <td>173</td>\n",
       "    </tr>\n",
       "    <tr>\n",
       "      <th>72</th>\n",
       "      <td>11217</td>\n",
       "      <td>45</td>\n",
       "      <td>119</td>\n",
       "      <td>5</td>\n",
       "      <td>0</td>\n",
       "      <td>169</td>\n",
       "    </tr>\n",
       "    <tr>\n",
       "      <th>1</th>\n",
       "      <td>10002</td>\n",
       "      <td>47</td>\n",
       "      <td>87</td>\n",
       "      <td>17</td>\n",
       "      <td>1</td>\n",
       "      <td>152</td>\n",
       "    </tr>\n",
       "    <tr>\n",
       "      <th>63</th>\n",
       "      <td>11106</td>\n",
       "      <td>58</td>\n",
       "      <td>77</td>\n",
       "      <td>1</td>\n",
       "      <td>0</td>\n",
       "      <td>136</td>\n",
       "    </tr>\n",
       "    <tr>\n",
       "      <th>62</th>\n",
       "      <td>11105</td>\n",
       "      <td>49</td>\n",
       "      <td>82</td>\n",
       "      <td>3</td>\n",
       "      <td>0</td>\n",
       "      <td>134</td>\n",
       "    </tr>\n",
       "    <tr>\n",
       "      <th>14</th>\n",
       "      <td>10017</td>\n",
       "      <td>22</td>\n",
       "      <td>67</td>\n",
       "      <td>28</td>\n",
       "      <td>9</td>\n",
       "      <td>126</td>\n",
       "    </tr>\n",
       "    <tr>\n",
       "      <th>24</th>\n",
       "      <td>10028</td>\n",
       "      <td>19</td>\n",
       "      <td>86</td>\n",
       "      <td>18</td>\n",
       "      <td>1</td>\n",
       "      <td>124</td>\n",
       "    </tr>\n",
       "    <tr>\n",
       "      <th>12</th>\n",
       "      <td>10014</td>\n",
       "      <td>14</td>\n",
       "      <td>75</td>\n",
       "      <td>31</td>\n",
       "      <td>3</td>\n",
       "      <td>123</td>\n",
       "    </tr>\n",
       "    <tr>\n",
       "      <th>80</th>\n",
       "      <td>11238</td>\n",
       "      <td>21</td>\n",
       "      <td>90</td>\n",
       "      <td>10</td>\n",
       "      <td>0</td>\n",
       "      <td>121</td>\n",
       "    </tr>\n",
       "    <tr>\n",
       "      <th>9</th>\n",
       "      <td>10011</td>\n",
       "      <td>17</td>\n",
       "      <td>79</td>\n",
       "      <td>14</td>\n",
       "      <td>10</td>\n",
       "      <td>120</td>\n",
       "    </tr>\n",
       "    <tr>\n",
       "      <th>18</th>\n",
       "      <td>10021</td>\n",
       "      <td>22</td>\n",
       "      <td>67</td>\n",
       "      <td>21</td>\n",
       "      <td>8</td>\n",
       "      <td>118</td>\n",
       "    </tr>\n",
       "    <tr>\n",
       "      <th>15</th>\n",
       "      <td>10018</td>\n",
       "      <td>19</td>\n",
       "      <td>84</td>\n",
       "      <td>10</td>\n",
       "      <td>4</td>\n",
       "      <td>117</td>\n",
       "    </tr>\n",
       "    <tr>\n",
       "      <th>81</th>\n",
       "      <td>11249</td>\n",
       "      <td>18</td>\n",
       "      <td>84</td>\n",
       "      <td>9</td>\n",
       "      <td>1</td>\n",
       "      <td>112</td>\n",
       "    </tr>\n",
       "    <tr>\n",
       "      <th>58</th>\n",
       "      <td>11101</td>\n",
       "      <td>35</td>\n",
       "      <td>69</td>\n",
       "      <td>4</td>\n",
       "      <td>0</td>\n",
       "      <td>108</td>\n",
       "    </tr>\n",
       "    <tr>\n",
       "      <th>84</th>\n",
       "      <td>11368</td>\n",
       "      <td>72</td>\n",
       "      <td>34</td>\n",
       "      <td>2</td>\n",
       "      <td>0</td>\n",
       "      <td>108</td>\n",
       "    </tr>\n",
       "    <tr>\n",
       "      <th>27</th>\n",
       "      <td>10038</td>\n",
       "      <td>34</td>\n",
       "      <td>64</td>\n",
       "      <td>7</td>\n",
       "      <td>1</td>\n",
       "      <td>106</td>\n",
       "    </tr>\n",
       "    <tr>\n",
       "      <th>91</th>\n",
       "      <td>11377</td>\n",
       "      <td>54</td>\n",
       "      <td>43</td>\n",
       "      <td>0</td>\n",
       "      <td>0</td>\n",
       "      <td>97</td>\n",
       "    </tr>\n",
       "    <tr>\n",
       "      <th>38</th>\n",
       "      <td>10128</td>\n",
       "      <td>17</td>\n",
       "      <td>67</td>\n",
       "      <td>7</td>\n",
       "      <td>0</td>\n",
       "      <td>91</td>\n",
       "    </tr>\n",
       "    <tr>\n",
       "      <th>21</th>\n",
       "      <td>10024</td>\n",
       "      <td>6</td>\n",
       "      <td>70</td>\n",
       "      <td>8</td>\n",
       "      <td>1</td>\n",
       "      <td>85</td>\n",
       "    </tr>\n",
       "    <tr>\n",
       "      <th>76</th>\n",
       "      <td>11231</td>\n",
       "      <td>23</td>\n",
       "      <td>59</td>\n",
       "      <td>2</td>\n",
       "      <td>0</td>\n",
       "      <td>84</td>\n",
       "    </tr>\n",
       "    <tr>\n",
       "      <th>28</th>\n",
       "      <td>10065</td>\n",
       "      <td>9</td>\n",
       "      <td>52</td>\n",
       "      <td>18</td>\n",
       "      <td>3</td>\n",
       "      <td>82</td>\n",
       "    </tr>\n",
       "    <tr>\n",
       "      <th>59</th>\n",
       "      <td>11102</td>\n",
       "      <td>42</td>\n",
       "      <td>39</td>\n",
       "      <td>1</td>\n",
       "      <td>0</td>\n",
       "      <td>82</td>\n",
       "    </tr>\n",
       "    <tr>\n",
       "      <th>89</th>\n",
       "      <td>11374</td>\n",
       "      <td>35</td>\n",
       "      <td>42</td>\n",
       "      <td>4</td>\n",
       "      <td>0</td>\n",
       "      <td>81</td>\n",
       "    </tr>\n",
       "    <tr>\n",
       "      <th>20</th>\n",
       "      <td>10023</td>\n",
       "      <td>10</td>\n",
       "      <td>51</td>\n",
       "      <td>14</td>\n",
       "      <td>4</td>\n",
       "      <td>79</td>\n",
       "    </tr>\n",
       "    <tr>\n",
       "      <th>68</th>\n",
       "      <td>11205</td>\n",
       "      <td>25</td>\n",
       "      <td>45</td>\n",
       "      <td>6</td>\n",
       "      <td>0</td>\n",
       "      <td>76</td>\n",
       "    </tr>\n",
       "    <tr>\n",
       "      <th>71</th>\n",
       "      <td>11215</td>\n",
       "      <td>21</td>\n",
       "      <td>50</td>\n",
       "      <td>4</td>\n",
       "      <td>0</td>\n",
       "      <td>75</td>\n",
       "    </tr>\n",
       "    <tr>\n",
       "      <th>3</th>\n",
       "      <td>10004</td>\n",
       "      <td>17</td>\n",
       "      <td>39</td>\n",
       "      <td>6</td>\n",
       "      <td>2</td>\n",
       "      <td>64</td>\n",
       "    </tr>\n",
       "    <tr>\n",
       "      <th>29</th>\n",
       "      <td>10075</td>\n",
       "      <td>9</td>\n",
       "      <td>40</td>\n",
       "      <td>7</td>\n",
       "      <td>3</td>\n",
       "      <td>59</td>\n",
       "    </tr>\n",
       "    <tr>\n",
       "      <th>7</th>\n",
       "      <td>10009</td>\n",
       "      <td>13</td>\n",
       "      <td>34</td>\n",
       "      <td>9</td>\n",
       "      <td>2</td>\n",
       "      <td>58</td>\n",
       "    </tr>\n",
       "    <tr>\n",
       "      <th>8</th>\n",
       "      <td>10010</td>\n",
       "      <td>5</td>\n",
       "      <td>37</td>\n",
       "      <td>12</td>\n",
       "      <td>1</td>\n",
       "      <td>55</td>\n",
       "    </tr>\n",
       "    <tr>\n",
       "      <th>6</th>\n",
       "      <td>10007</td>\n",
       "      <td>14</td>\n",
       "      <td>33</td>\n",
       "      <td>4</td>\n",
       "      <td>3</td>\n",
       "      <td>54</td>\n",
       "    </tr>\n",
       "    <tr>\n",
       "      <th>69</th>\n",
       "      <td>11206</td>\n",
       "      <td>24</td>\n",
       "      <td>29</td>\n",
       "      <td>0</td>\n",
       "      <td>0</td>\n",
       "      <td>53</td>\n",
       "    </tr>\n",
       "    <tr>\n",
       "      <th>92</th>\n",
       "      <td>11378</td>\n",
       "      <td>28</td>\n",
       "      <td>17</td>\n",
       "      <td>0</td>\n",
       "      <td>0</td>\n",
       "      <td>45</td>\n",
       "    </tr>\n",
       "    <tr>\n",
       "      <th>90</th>\n",
       "      <td>11375</td>\n",
       "      <td>16</td>\n",
       "      <td>22</td>\n",
       "      <td>2</td>\n",
       "      <td>0</td>\n",
       "      <td>40</td>\n",
       "    </tr>\n",
       "    <tr>\n",
       "      <th>4</th>\n",
       "      <td>10005</td>\n",
       "      <td>13</td>\n",
       "      <td>17</td>\n",
       "      <td>2</td>\n",
       "      <td>1</td>\n",
       "      <td>33</td>\n",
       "    </tr>\n",
       "    <tr>\n",
       "      <th>25</th>\n",
       "      <td>10029</td>\n",
       "      <td>6</td>\n",
       "      <td>19</td>\n",
       "      <td>2</td>\n",
       "      <td>1</td>\n",
       "      <td>28</td>\n",
       "    </tr>\n",
       "    <tr>\n",
       "      <th>61</th>\n",
       "      <td>11104</td>\n",
       "      <td>17</td>\n",
       "      <td>10</td>\n",
       "      <td>0</td>\n",
       "      <td>0</td>\n",
       "      <td>27</td>\n",
       "    </tr>\n",
       "    <tr>\n",
       "      <th>5</th>\n",
       "      <td>10006</td>\n",
       "      <td>5</td>\n",
       "      <td>18</td>\n",
       "      <td>1</td>\n",
       "      <td>0</td>\n",
       "      <td>24</td>\n",
       "    </tr>\n",
       "  </tbody>\n",
       "</table>\n",
       "</div>"
      ],
      "text/plain": [
       "    zip_codes  yelp_dollar_1  yelp_dollar_2  yelp_dollar_3  yelp_dollar_4  \\\n",
       "70      11211            127            228             17              1   \n",
       "66      11201             75            205             16              1   \n",
       "11      10013             65            159             30             12   \n",
       "10      10012             41            155             37              8   \n",
       "87      11372            114            108              1              0   \n",
       "88      11373            131             79              1              0   \n",
       "73      11222             79            117              7              2   \n",
       "16      10019             24            123             40             16   \n",
       "13      10016             23            143             19             10   \n",
       "60      11103             77            115              2              0   \n",
       "19      10022             22            110             46             14   \n",
       "26      10036             23            129             28              7   \n",
       "2       10003             25            124             25              8   \n",
       "0       10001             28            126             18              1   \n",
       "72      11217             45            119              5              0   \n",
       "1       10002             47             87             17              1   \n",
       "63      11106             58             77              1              0   \n",
       "62      11105             49             82              3              0   \n",
       "14      10017             22             67             28              9   \n",
       "24      10028             19             86             18              1   \n",
       "12      10014             14             75             31              3   \n",
       "80      11238             21             90             10              0   \n",
       "9       10011             17             79             14             10   \n",
       "18      10021             22             67             21              8   \n",
       "15      10018             19             84             10              4   \n",
       "81      11249             18             84              9              1   \n",
       "58      11101             35             69              4              0   \n",
       "84      11368             72             34              2              0   \n",
       "27      10038             34             64              7              1   \n",
       "91      11377             54             43              0              0   \n",
       "38      10128             17             67              7              0   \n",
       "21      10024              6             70              8              1   \n",
       "76      11231             23             59              2              0   \n",
       "28      10065              9             52             18              3   \n",
       "59      11102             42             39              1              0   \n",
       "89      11374             35             42              4              0   \n",
       "20      10023             10             51             14              4   \n",
       "68      11205             25             45              6              0   \n",
       "71      11215             21             50              4              0   \n",
       "3       10004             17             39              6              2   \n",
       "29      10075              9             40              7              3   \n",
       "7       10009             13             34              9              2   \n",
       "8       10010              5             37             12              1   \n",
       "6       10007             14             33              4              3   \n",
       "69      11206             24             29              0              0   \n",
       "92      11378             28             17              0              0   \n",
       "90      11375             16             22              2              0   \n",
       "4       10005             13             17              2              1   \n",
       "25      10029              6             19              2              1   \n",
       "61      11104             17             10              0              0   \n",
       "5       10006              5             18              1              0   \n",
       "\n",
       "    Total_Business  \n",
       "70             373  \n",
       "66             297  \n",
       "11             266  \n",
       "10             241  \n",
       "87             223  \n",
       "88             211  \n",
       "73             205  \n",
       "16             203  \n",
       "13             195  \n",
       "60             194  \n",
       "19             192  \n",
       "26             187  \n",
       "2              182  \n",
       "0              173  \n",
       "72             169  \n",
       "1              152  \n",
       "63             136  \n",
       "62             134  \n",
       "14             126  \n",
       "24             124  \n",
       "12             123  \n",
       "80             121  \n",
       "9              120  \n",
       "18             118  \n",
       "15             117  \n",
       "81             112  \n",
       "58             108  \n",
       "84             108  \n",
       "27             106  \n",
       "91              97  \n",
       "38              91  \n",
       "21              85  \n",
       "76              84  \n",
       "28              82  \n",
       "59              82  \n",
       "89              81  \n",
       "20              79  \n",
       "68              76  \n",
       "71              75  \n",
       "3               64  \n",
       "29              59  \n",
       "7               58  \n",
       "8               55  \n",
       "6               54  \n",
       "69              53  \n",
       "92              45  \n",
       "90              40  \n",
       "4               33  \n",
       "25              28  \n",
       "61              27  \n",
       "5               24  "
      ]
     },
     "execution_count": 25,
     "metadata": {},
     "output_type": "execute_result"
    }
   ],
   "source": [
    "df_yelp_zips"
   ]
  },
  {
   "cell_type": "markdown",
   "metadata": {},
   "source": [
    "### IRS EDA"
   ]
  },
  {
   "cell_type": "markdown",
   "metadata": {},
   "source": [
    "As a means of defining allfuency, we gathered the information from [IRS Website](https://www.irs.gov/statistics/soi-tax-stats-individual-income-tax-statistics-2017-zip-code-data-soi) and pulled the State, Zip Code, Adjusted Gross Income Stub, and Adjusted Gross Income columns from the Data Set. "
   ]
  },
  {
   "cell_type": "code",
   "execution_count": 26,
   "metadata": {},
   "outputs": [],
   "source": [
    "##pandas to read file\n",
    "agi = pd.read_csv('../data/2017IRS.csv')"
   ]
  },
  {
   "cell_type": "code",
   "execution_count": 27,
   "metadata": {},
   "outputs": [
    {
     "data": {
      "text/html": [
       "<div>\n",
       "<style scoped>\n",
       "    .dataframe tbody tr th:only-of-type {\n",
       "        vertical-align: middle;\n",
       "    }\n",
       "\n",
       "    .dataframe tbody tr th {\n",
       "        vertical-align: top;\n",
       "    }\n",
       "\n",
       "    .dataframe thead th {\n",
       "        text-align: right;\n",
       "    }\n",
       "</style>\n",
       "<table border=\"1\" class=\"dataframe\">\n",
       "  <thead>\n",
       "    <tr style=\"text-align: right;\">\n",
       "      <th></th>\n",
       "      <th>STATEFIPS</th>\n",
       "      <th>STATE</th>\n",
       "      <th>zipcode</th>\n",
       "      <th>agi_stub</th>\n",
       "      <th>N1</th>\n",
       "      <th>mars1</th>\n",
       "      <th>MARS2</th>\n",
       "      <th>MARS4</th>\n",
       "      <th>ELF</th>\n",
       "      <th>CPREP</th>\n",
       "      <th>...</th>\n",
       "      <th>N85300</th>\n",
       "      <th>A85300</th>\n",
       "      <th>N11901</th>\n",
       "      <th>A11901</th>\n",
       "      <th>N11900</th>\n",
       "      <th>A11900</th>\n",
       "      <th>N11902</th>\n",
       "      <th>A11902</th>\n",
       "      <th>N12000</th>\n",
       "      <th>A12000</th>\n",
       "    </tr>\n",
       "  </thead>\n",
       "  <tbody>\n",
       "    <tr>\n",
       "      <th>0</th>\n",
       "      <td>1</td>\n",
       "      <td>AL</td>\n",
       "      <td>0</td>\n",
       "      <td>1</td>\n",
       "      <td>802640</td>\n",
       "      <td>474470</td>\n",
       "      <td>99850</td>\n",
       "      <td>216600</td>\n",
       "      <td>717050</td>\n",
       "      <td>44090</td>\n",
       "      <td>...</td>\n",
       "      <td>0</td>\n",
       "      <td>0</td>\n",
       "      <td>64680</td>\n",
       "      <td>53602</td>\n",
       "      <td>700940</td>\n",
       "      <td>1803125</td>\n",
       "      <td>698100</td>\n",
       "      <td>1796343</td>\n",
       "      <td>2860</td>\n",
       "      <td>4917</td>\n",
       "    </tr>\n",
       "    <tr>\n",
       "      <th>1</th>\n",
       "      <td>1</td>\n",
       "      <td>AL</td>\n",
       "      <td>0</td>\n",
       "      <td>2</td>\n",
       "      <td>499070</td>\n",
       "      <td>218590</td>\n",
       "      <td>137460</td>\n",
       "      <td>129760</td>\n",
       "      <td>448190</td>\n",
       "      <td>26230</td>\n",
       "      <td>...</td>\n",
       "      <td>0</td>\n",
       "      <td>0</td>\n",
       "      <td>77660</td>\n",
       "      <td>118725</td>\n",
       "      <td>419640</td>\n",
       "      <td>1175607</td>\n",
       "      <td>416180</td>\n",
       "      <td>1165352</td>\n",
       "      <td>4250</td>\n",
       "      <td>8894</td>\n",
       "    </tr>\n",
       "    <tr>\n",
       "      <th>2</th>\n",
       "      <td>1</td>\n",
       "      <td>AL</td>\n",
       "      <td>0</td>\n",
       "      <td>3</td>\n",
       "      <td>268590</td>\n",
       "      <td>89780</td>\n",
       "      <td>134440</td>\n",
       "      <td>38280</td>\n",
       "      <td>241060</td>\n",
       "      <td>14160</td>\n",
       "      <td>...</td>\n",
       "      <td>0</td>\n",
       "      <td>0</td>\n",
       "      <td>67820</td>\n",
       "      <td>156752</td>\n",
       "      <td>201030</td>\n",
       "      <td>560461</td>\n",
       "      <td>197060</td>\n",
       "      <td>547812</td>\n",
       "      <td>5440</td>\n",
       "      <td>13482</td>\n",
       "    </tr>\n",
       "    <tr>\n",
       "      <th>3</th>\n",
       "      <td>1</td>\n",
       "      <td>AL</td>\n",
       "      <td>0</td>\n",
       "      <td>4</td>\n",
       "      <td>170880</td>\n",
       "      <td>32180</td>\n",
       "      <td>124070</td>\n",
       "      <td>11660</td>\n",
       "      <td>154120</td>\n",
       "      <td>7980</td>\n",
       "      <td>...</td>\n",
       "      <td>0</td>\n",
       "      <td>0</td>\n",
       "      <td>48440</td>\n",
       "      <td>141721</td>\n",
       "      <td>121930</td>\n",
       "      <td>396526</td>\n",
       "      <td>118460</td>\n",
       "      <td>383588</td>\n",
       "      <td>3160</td>\n",
       "      <td>12369</td>\n",
       "    </tr>\n",
       "    <tr>\n",
       "      <th>4</th>\n",
       "      <td>1</td>\n",
       "      <td>AL</td>\n",
       "      <td>0</td>\n",
       "      <td>5</td>\n",
       "      <td>229870</td>\n",
       "      <td>22810</td>\n",
       "      <td>196990</td>\n",
       "      <td>5540</td>\n",
       "      <td>208380</td>\n",
       "      <td>11120</td>\n",
       "      <td>...</td>\n",
       "      <td>50</td>\n",
       "      <td>19</td>\n",
       "      <td>91100</td>\n",
       "      <td>465160</td>\n",
       "      <td>138250</td>\n",
       "      <td>588068</td>\n",
       "      <td>130970</td>\n",
       "      <td>529001</td>\n",
       "      <td>8430</td>\n",
       "      <td>55564</td>\n",
       "    </tr>\n",
       "  </tbody>\n",
       "</table>\n",
       "<p>5 rows × 153 columns</p>\n",
       "</div>"
      ],
      "text/plain": [
       "   STATEFIPS STATE  zipcode  agi_stub      N1   mars1   MARS2   MARS4     ELF  \\\n",
       "0          1    AL        0         1  802640  474470   99850  216600  717050   \n",
       "1          1    AL        0         2  499070  218590  137460  129760  448190   \n",
       "2          1    AL        0         3  268590   89780  134440   38280  241060   \n",
       "3          1    AL        0         4  170880   32180  124070   11660  154120   \n",
       "4          1    AL        0         5  229870   22810  196990    5540  208380   \n",
       "\n",
       "   CPREP  ...  N85300  A85300  N11901  A11901  N11900   A11900  N11902  \\\n",
       "0  44090  ...       0       0   64680   53602  700940  1803125  698100   \n",
       "1  26230  ...       0       0   77660  118725  419640  1175607  416180   \n",
       "2  14160  ...       0       0   67820  156752  201030   560461  197060   \n",
       "3   7980  ...       0       0   48440  141721  121930   396526  118460   \n",
       "4  11120  ...      50      19   91100  465160  138250   588068  130970   \n",
       "\n",
       "    A11902  N12000  A12000  \n",
       "0  1796343    2860    4917  \n",
       "1  1165352    4250    8894  \n",
       "2   547812    5440   13482  \n",
       "3   383588    3160   12369  \n",
       "4   529001    8430   55564  \n",
       "\n",
       "[5 rows x 153 columns]"
      ]
     },
     "execution_count": 27,
     "metadata": {},
     "output_type": "execute_result"
    }
   ],
   "source": [
    "##printsout top 5 rows\n",
    "agi.head()"
   ]
  },
  {
   "cell_type": "markdown",
   "metadata": {},
   "source": [
    "We are looking to assemble a list of all the zipcodes that we have in our yelp dataframe. We can use a set to order the list which will make it easier to locate"
   ]
  },
  {
   "cell_type": "code",
   "execution_count": 28,
   "metadata": {},
   "outputs": [],
   "source": [
    "#zip list through yelp dataframe 'zipcode' column\n",
    "yelp_zip = list(set(df_yelp['zip_codes']))"
   ]
  },
  {
   "cell_type": "markdown",
   "metadata": {},
   "source": [
    "We then pulled all the neccessary columns that we need to determine aflluency. Per the Data Dictionary on the IRS site, column 'A00100' is the column for Adjusted Gross Income."
   ]
  },
  {
   "cell_type": "code",
   "execution_count": 29,
   "metadata": {},
   "outputs": [],
   "source": [
    "#We determined that these are the only necessary columns that we need\n",
    "#as we are defining afflucne by AGI\n",
    "agi = agi[['STATE', 'zipcode', 'agi_stub', 'A00100']]"
   ]
  },
  {
   "cell_type": "markdown",
   "metadata": {},
   "source": [
    "We then wanted to loop the yelp zip codes that we pulled above through the IRS dataframe and pull the AGI stubs that had the value 6 as these are the values of the average aAGI for people who had an AGI over 200k as well as pull the sum of all of the AGI's for all the various thresholds."
   ]
  },
  {
   "cell_type": "code",
   "execution_count": 30,
   "metadata": {},
   "outputs": [],
   "source": [
    "## modified code from NY project 2\n",
    "high_values = [] #collect all the high values assembled in a list\n",
    "sum_values = [] #collect the total sum of the average AGI per threshold for each zipcode\n",
    "zips_in_irs = [] #collect list of all zipcodes that were pulled from IRS Dataset\n",
    "unidentified_zips= [] # list of allzipcodes that were in the yelp zip and not IRS Dataset\n",
    "for zips in yelp_zip:\n",
    "    try:\n",
    "        high_values.append(list(agi.loc[(agi['zipcode'] == zips) &(agi['agi_stub'] == 6),['A00100'][0]])[0])\n",
    "        sum_values.append(list(agi.loc[(agi['zipcode'] == zips),['A00100']].sum())[0])\n",
    "        zips_in_irs.append(zips)\n",
    "    except:\n",
    "        unidentified_zips.append(zips)\n",
    "        pass\n",
    "    "
   ]
  },
  {
   "cell_type": "code",
   "execution_count": 31,
   "metadata": {},
   "outputs": [
    {
     "name": "stdout",
     "output_type": "stream",
     "text": [
      "70\n",
      "70\n",
      "70\n"
     ]
    }
   ],
   "source": [
    "#ensure that all values pulled are the same length to be put in a Dataframe\n",
    "print (len(high_values))\n",
    "print(len(sum_values))\n",
    "print(len(zips_in_irs))"
   ]
  },
  {
   "cell_type": "markdown",
   "metadata": {},
   "source": [
    "(will talk about how we identify zip codes with no data)"
   ]
  },
  {
   "cell_type": "code",
   "execution_count": 32,
   "metadata": {},
   "outputs": [
    {
     "name": "stdout",
     "output_type": "stream",
     "text": [
      "[10270, 10271, 10279, 10281, 10285, 10286, 11371, 10020, 10080, 11121, 10103, 10111, 10112, 10118, 10119, 10120, 10121, 10154, 10158, 10166, 10168, 10169, 10175, 10176, 10177, 11249]\n"
     ]
    }
   ],
   "source": [
    "print(unidentified_zips)"
   ]
  },
  {
   "cell_type": "markdown",
   "metadata": {},
   "source": [
    "With the data that we pulled, we will now make a new DataFrame with the IRS Data and calculate affluency."
   ]
  },
  {
   "cell_type": "code",
   "execution_count": 33,
   "metadata": {},
   "outputs": [
    {
     "data": {
      "text/html": [
       "<div>\n",
       "<style scoped>\n",
       "    .dataframe tbody tr th:only-of-type {\n",
       "        vertical-align: middle;\n",
       "    }\n",
       "\n",
       "    .dataframe tbody tr th {\n",
       "        vertical-align: top;\n",
       "    }\n",
       "\n",
       "    .dataframe thead th {\n",
       "        text-align: right;\n",
       "    }\n",
       "</style>\n",
       "<table border=\"1\" class=\"dataframe\">\n",
       "  <thead>\n",
       "    <tr style=\"text-align: right;\">\n",
       "      <th></th>\n",
       "      <th>high_value</th>\n",
       "      <th>agi_sum</th>\n",
       "      <th>zip_codes</th>\n",
       "    </tr>\n",
       "  </thead>\n",
       "  <tbody>\n",
       "    <tr>\n",
       "      <th>0</th>\n",
       "      <td>673987</td>\n",
       "      <td>921774</td>\n",
       "      <td>10280</td>\n",
       "    </tr>\n",
       "    <tr>\n",
       "      <th>1</th>\n",
       "      <td>1389188</td>\n",
       "      <td>1472965</td>\n",
       "      <td>10282</td>\n",
       "    </tr>\n",
       "    <tr>\n",
       "      <th>2</th>\n",
       "      <td>406468</td>\n",
       "      <td>1304009</td>\n",
       "      <td>10301</td>\n",
       "    </tr>\n",
       "    <tr>\n",
       "      <th>3</th>\n",
       "      <td>236994</td>\n",
       "      <td>1089205</td>\n",
       "      <td>10308</td>\n",
       "    </tr>\n",
       "    <tr>\n",
       "      <th>4</th>\n",
       "      <td>270514</td>\n",
       "      <td>987520</td>\n",
       "      <td>11361</td>\n",
       "    </tr>\n",
       "    <tr>\n",
       "      <th>...</th>\n",
       "      <td>...</td>\n",
       "      <td>...</td>\n",
       "      <td>...</td>\n",
       "    </tr>\n",
       "    <tr>\n",
       "      <th>65</th>\n",
       "      <td>1729183</td>\n",
       "      <td>2648560</td>\n",
       "      <td>11231</td>\n",
       "    </tr>\n",
       "    <tr>\n",
       "      <th>66</th>\n",
       "      <td>79773</td>\n",
       "      <td>574471</td>\n",
       "      <td>11232</td>\n",
       "    </tr>\n",
       "    <tr>\n",
       "      <th>67</th>\n",
       "      <td>126049</td>\n",
       "      <td>1375259</td>\n",
       "      <td>11233</td>\n",
       "    </tr>\n",
       "    <tr>\n",
       "      <th>68</th>\n",
       "      <td>55406</td>\n",
       "      <td>956073</td>\n",
       "      <td>11237</td>\n",
       "    </tr>\n",
       "    <tr>\n",
       "      <th>69</th>\n",
       "      <td>1283320</td>\n",
       "      <td>3020929</td>\n",
       "      <td>11238</td>\n",
       "    </tr>\n",
       "  </tbody>\n",
       "</table>\n",
       "<p>70 rows × 3 columns</p>\n",
       "</div>"
      ],
      "text/plain": [
       "    high_value  agi_sum  zip_codes\n",
       "0       673987   921774      10280\n",
       "1      1389188  1472965      10282\n",
       "2       406468  1304009      10301\n",
       "3       236994  1089205      10308\n",
       "4       270514   987520      11361\n",
       "..         ...      ...        ...\n",
       "65     1729183  2648560      11231\n",
       "66       79773   574471      11232\n",
       "67      126049  1375259      11233\n",
       "68       55406   956073      11237\n",
       "69     1283320  3020929      11238\n",
       "\n",
       "[70 rows x 3 columns]"
      ]
     },
     "execution_count": 33,
     "metadata": {},
     "output_type": "execute_result"
    }
   ],
   "source": [
    "irs_df = pd.DataFrame(high_values)\n",
    "irs_df.rename(columns = {0:\"high_value\"}, inplace= True)\n",
    "irs_df[\"agi_sum\"] = sum_values\n",
    "irs_df['zip_codes'] = zips_in_irs\n",
    "irs_df"
   ]
  },
  {
   "cell_type": "markdown",
   "metadata": {},
   "source": [
    "Feature engineer affulency percentage column which will help us determine our affluency. We created a new column within the DataFrame 'aff_perc' which takes our 'high_value' column and divdes it by the 'agi_sum'column."
   ]
  },
  {
   "cell_type": "code",
   "execution_count": 34,
   "metadata": {},
   "outputs": [],
   "source": [
    "##setting new column with division of df columns\n",
    "irs_df['aff_perc'] = irs_df['high_value']/ irs_df['agi_sum']"
   ]
  },
  {
   "cell_type": "markdown",
   "metadata": {},
   "source": [
    "We show that affluency is determined by a neighborhood where 50% of the average summed AGI is determined by people who average agi is > 200k."
   ]
  },
  {
   "cell_type": "code",
   "execution_count": 35,
   "metadata": {},
   "outputs": [
    {
     "data": {
      "text/plain": [
       "False    37\n",
       "True     33\n",
       "Name: aff_perc, dtype: int64"
      ]
     },
     "execution_count": 35,
     "metadata": {},
     "output_type": "execute_result"
    }
   ],
   "source": [
    "## seeing how many affluent neighborhoods we calculated\n",
    "(irs_df['aff_perc'] >.5).value_counts()"
   ]
  },
  {
   "cell_type": "markdown",
   "metadata": {},
   "source": [
    "Save new IRS datafram to be uploaded later"
   ]
  },
  {
   "cell_type": "code",
   "execution_count": 36,
   "metadata": {},
   "outputs": [],
   "source": [
    "irs_df.to_csv('irs_data.csv', index=False)"
   ]
  },
  {
   "cell_type": "markdown",
   "metadata": {},
   "source": [
    "We will now join our yelp dataframe with the new irs dataframe based on zipcode"
   ]
  },
  {
   "cell_type": "code",
   "execution_count": 49,
   "metadata": {},
   "outputs": [],
   "source": [
    "#We merged the two tables on a left join\n",
    "df = pd.merge(left = df_yelp, \n",
    "         right = irs_df,\n",
    "              how='left',\n",
    "        on ='zip_codes')"
   ]
  },
  {
   "cell_type": "markdown",
   "metadata": {},
   "source": [
    "Develop a count for the zipcode per businss id"
   ]
  },
  {
   "cell_type": "code",
   "execution_count": 52,
   "metadata": {},
   "outputs": [
    {
     "data": {
      "text/html": [
       "<div>\n",
       "<style scoped>\n",
       "    .dataframe tbody tr th:only-of-type {\n",
       "        vertical-align: middle;\n",
       "    }\n",
       "\n",
       "    .dataframe tbody tr th {\n",
       "        vertical-align: top;\n",
       "    }\n",
       "\n",
       "    .dataframe thead th {\n",
       "        text-align: right;\n",
       "    }\n",
       "</style>\n",
       "<table border=\"1\" class=\"dataframe\">\n",
       "  <thead>\n",
       "    <tr style=\"text-align: right;\">\n",
       "      <th></th>\n",
       "      <th>state</th>\n",
       "      <th>city</th>\n",
       "      <th>zip_codes</th>\n",
       "      <th>latitude</th>\n",
       "      <th>longitude</th>\n",
       "      <th>id</th>\n",
       "      <th>name</th>\n",
       "      <th>review_count</th>\n",
       "      <th>categories</th>\n",
       "      <th>rating</th>\n",
       "      <th>price</th>\n",
       "      <th>high_value</th>\n",
       "      <th>agi_sum</th>\n",
       "      <th>aff_perc</th>\n",
       "      <th>count</th>\n",
       "    </tr>\n",
       "  </thead>\n",
       "  <tbody>\n",
       "    <tr>\n",
       "      <th>0</th>\n",
       "      <td>NY</td>\n",
       "      <td>New York</td>\n",
       "      <td>10017</td>\n",
       "      <td>40.751130</td>\n",
       "      <td>-73.973470</td>\n",
       "      <td>7EaiwMVaNdQibSs0yYkE5Q</td>\n",
       "      <td>Sushi Yasuda</td>\n",
       "      <td>2114</td>\n",
       "      <td>japanese</td>\n",
       "      <td>4.0</td>\n",
       "      <td>3</td>\n",
       "      <td>5233774.0</td>\n",
       "      <td>5902708.0</td>\n",
       "      <td>0.886673</td>\n",
       "      <td>126</td>\n",
       "    </tr>\n",
       "    <tr>\n",
       "      <th>1</th>\n",
       "      <td>NY</td>\n",
       "      <td>New York</td>\n",
       "      <td>10017</td>\n",
       "      <td>40.751647</td>\n",
       "      <td>-73.972949</td>\n",
       "      <td>7iY35991NhQ1AShJZCNZgA</td>\n",
       "      <td>Sakagura</td>\n",
       "      <td>1781</td>\n",
       "      <td>japanese</td>\n",
       "      <td>4.0</td>\n",
       "      <td>3</td>\n",
       "      <td>5233774.0</td>\n",
       "      <td>5902708.0</td>\n",
       "      <td>0.886673</td>\n",
       "      <td>126</td>\n",
       "    </tr>\n",
       "    <tr>\n",
       "      <th>2</th>\n",
       "      <td>NY</td>\n",
       "      <td>New York</td>\n",
       "      <td>10019</td>\n",
       "      <td>40.761854</td>\n",
       "      <td>-73.979363</td>\n",
       "      <td>xEnNFXtMLDF5kZDxfaCJgA</td>\n",
       "      <td>The Halal Guys</td>\n",
       "      <td>9296</td>\n",
       "      <td>foodstands,mideastern,halal</td>\n",
       "      <td>4.0</td>\n",
       "      <td>1</td>\n",
       "      <td>5785799.0</td>\n",
       "      <td>7220520.0</td>\n",
       "      <td>0.801299</td>\n",
       "      <td>203</td>\n",
       "    </tr>\n",
       "    <tr>\n",
       "      <th>3</th>\n",
       "      <td>NY</td>\n",
       "      <td>New York</td>\n",
       "      <td>10022</td>\n",
       "      <td>40.756301</td>\n",
       "      <td>-73.970370</td>\n",
       "      <td>c3eMI4_o4dPDDhPV_ibBYQ</td>\n",
       "      <td>Ess-a-Bagel</td>\n",
       "      <td>3549</td>\n",
       "      <td>bakeries,bagels,delis</td>\n",
       "      <td>4.0</td>\n",
       "      <td>1</td>\n",
       "      <td>10952261.0</td>\n",
       "      <td>12031917.0</td>\n",
       "      <td>0.910267</td>\n",
       "      <td>192</td>\n",
       "    </tr>\n",
       "    <tr>\n",
       "      <th>4</th>\n",
       "      <td>NY</td>\n",
       "      <td>New York</td>\n",
       "      <td>10016</td>\n",
       "      <td>40.749930</td>\n",
       "      <td>-73.977460</td>\n",
       "      <td>oTkzgr7hzOAdlP99Auj3GQ</td>\n",
       "      <td>Momosan Ramen &amp; Sake</td>\n",
       "      <td>1623</td>\n",
       "      <td>ramen,tapasmallplates</td>\n",
       "      <td>4.0</td>\n",
       "      <td>2</td>\n",
       "      <td>6400951.0</td>\n",
       "      <td>8331163.0</td>\n",
       "      <td>0.768314</td>\n",
       "      <td>195</td>\n",
       "    </tr>\n",
       "    <tr>\n",
       "      <th>...</th>\n",
       "      <td>...</td>\n",
       "      <td>...</td>\n",
       "      <td>...</td>\n",
       "      <td>...</td>\n",
       "      <td>...</td>\n",
       "      <td>...</td>\n",
       "      <td>...</td>\n",
       "      <td>...</td>\n",
       "      <td>...</td>\n",
       "      <td>...</td>\n",
       "      <td>...</td>\n",
       "      <td>...</td>\n",
       "      <td>...</td>\n",
       "      <td>...</td>\n",
       "      <td>...</td>\n",
       "    </tr>\n",
       "    <tr>\n",
       "      <th>6537</th>\n",
       "      <td>NY</td>\n",
       "      <td>Long Island City</td>\n",
       "      <td>11106</td>\n",
       "      <td>40.764477</td>\n",
       "      <td>-73.932953</td>\n",
       "      <td>QmrIDsmapdURUZhSAQwG6A</td>\n",
       "      <td>Popeyes Louisiana Kitchen</td>\n",
       "      <td>16</td>\n",
       "      <td>hotdogs,chicken_wings</td>\n",
       "      <td>3.0</td>\n",
       "      <td>1</td>\n",
       "      <td>199387.0</td>\n",
       "      <td>1294542.0</td>\n",
       "      <td>0.154021</td>\n",
       "      <td>136</td>\n",
       "    </tr>\n",
       "    <tr>\n",
       "      <th>6538</th>\n",
       "      <td>NY</td>\n",
       "      <td>Astoria</td>\n",
       "      <td>11106</td>\n",
       "      <td>40.759681</td>\n",
       "      <td>-73.936702</td>\n",
       "      <td>aeFTs1CHzGiJzMOMGwN7RQ</td>\n",
       "      <td>Sam Lee Kitchen</td>\n",
       "      <td>35</td>\n",
       "      <td>chinese</td>\n",
       "      <td>2.0</td>\n",
       "      <td>1</td>\n",
       "      <td>199387.0</td>\n",
       "      <td>1294542.0</td>\n",
       "      <td>0.154021</td>\n",
       "      <td>136</td>\n",
       "    </tr>\n",
       "    <tr>\n",
       "      <th>6539</th>\n",
       "      <td>NY</td>\n",
       "      <td>East Elmhurst</td>\n",
       "      <td>11370</td>\n",
       "      <td>40.760344</td>\n",
       "      <td>-73.892088</td>\n",
       "      <td>RzAvCIpum6GH9eKmo7qb8A</td>\n",
       "      <td>Carvel Ice Cream</td>\n",
       "      <td>14</td>\n",
       "      <td>icecream</td>\n",
       "      <td>3.0</td>\n",
       "      <td>2</td>\n",
       "      <td>67887.0</td>\n",
       "      <td>623704.0</td>\n",
       "      <td>0.108845</td>\n",
       "      <td>19</td>\n",
       "    </tr>\n",
       "    <tr>\n",
       "      <th>6540</th>\n",
       "      <td>NY</td>\n",
       "      <td>Woodside</td>\n",
       "      <td>11377</td>\n",
       "      <td>40.745658</td>\n",
       "      <td>-73.902744</td>\n",
       "      <td>U3AmQDzops3VMg9WOciiZQ</td>\n",
       "      <td>Colombian Fama Bakery</td>\n",
       "      <td>14</td>\n",
       "      <td>coffee,bakeries</td>\n",
       "      <td>3.0</td>\n",
       "      <td>1</td>\n",
       "      <td>196582.0</td>\n",
       "      <td>2028614.0</td>\n",
       "      <td>0.096905</td>\n",
       "      <td>97</td>\n",
       "    </tr>\n",
       "    <tr>\n",
       "      <th>6541</th>\n",
       "      <td>NY</td>\n",
       "      <td>East Elmhurst</td>\n",
       "      <td>11370</td>\n",
       "      <td>40.758969</td>\n",
       "      <td>-73.887211</td>\n",
       "      <td>w07rM6RwGm13ki5ktbPjlw</td>\n",
       "      <td>King River Chinese Restaurant</td>\n",
       "      <td>9</td>\n",
       "      <td>chinese</td>\n",
       "      <td>3.5</td>\n",
       "      <td>1</td>\n",
       "      <td>67887.0</td>\n",
       "      <td>623704.0</td>\n",
       "      <td>0.108845</td>\n",
       "      <td>19</td>\n",
       "    </tr>\n",
       "  </tbody>\n",
       "</table>\n",
       "<p>6542 rows × 15 columns</p>\n",
       "</div>"
      ],
      "text/plain": [
       "     state              city  zip_codes   latitude  longitude  \\\n",
       "0       NY          New York      10017  40.751130 -73.973470   \n",
       "1       NY          New York      10017  40.751647 -73.972949   \n",
       "2       NY          New York      10019  40.761854 -73.979363   \n",
       "3       NY          New York      10022  40.756301 -73.970370   \n",
       "4       NY          New York      10016  40.749930 -73.977460   \n",
       "...    ...               ...        ...        ...        ...   \n",
       "6537    NY  Long Island City      11106  40.764477 -73.932953   \n",
       "6538    NY           Astoria      11106  40.759681 -73.936702   \n",
       "6539    NY     East Elmhurst      11370  40.760344 -73.892088   \n",
       "6540    NY          Woodside      11377  40.745658 -73.902744   \n",
       "6541    NY     East Elmhurst      11370  40.758969 -73.887211   \n",
       "\n",
       "                          id                           name  review_count  \\\n",
       "0     7EaiwMVaNdQibSs0yYkE5Q                   Sushi Yasuda          2114   \n",
       "1     7iY35991NhQ1AShJZCNZgA                       Sakagura          1781   \n",
       "2     xEnNFXtMLDF5kZDxfaCJgA                 The Halal Guys          9296   \n",
       "3     c3eMI4_o4dPDDhPV_ibBYQ                    Ess-a-Bagel          3549   \n",
       "4     oTkzgr7hzOAdlP99Auj3GQ           Momosan Ramen & Sake          1623   \n",
       "...                      ...                            ...           ...   \n",
       "6537  QmrIDsmapdURUZhSAQwG6A      Popeyes Louisiana Kitchen            16   \n",
       "6538  aeFTs1CHzGiJzMOMGwN7RQ                Sam Lee Kitchen            35   \n",
       "6539  RzAvCIpum6GH9eKmo7qb8A               Carvel Ice Cream            14   \n",
       "6540  U3AmQDzops3VMg9WOciiZQ          Colombian Fama Bakery            14   \n",
       "6541  w07rM6RwGm13ki5ktbPjlw  King River Chinese Restaurant             9   \n",
       "\n",
       "                       categories  rating  price  high_value     agi_sum  \\\n",
       "0                        japanese     4.0      3   5233774.0   5902708.0   \n",
       "1                        japanese     4.0      3   5233774.0   5902708.0   \n",
       "2     foodstands,mideastern,halal     4.0      1   5785799.0   7220520.0   \n",
       "3           bakeries,bagels,delis     4.0      1  10952261.0  12031917.0   \n",
       "4           ramen,tapasmallplates     4.0      2   6400951.0   8331163.0   \n",
       "...                           ...     ...    ...         ...         ...   \n",
       "6537        hotdogs,chicken_wings     3.0      1    199387.0   1294542.0   \n",
       "6538                      chinese     2.0      1    199387.0   1294542.0   \n",
       "6539                     icecream     3.0      2     67887.0    623704.0   \n",
       "6540              coffee,bakeries     3.0      1    196582.0   2028614.0   \n",
       "6541                      chinese     3.5      1     67887.0    623704.0   \n",
       "\n",
       "      aff_perc  count  \n",
       "0     0.886673    126  \n",
       "1     0.886673    126  \n",
       "2     0.801299    203  \n",
       "3     0.910267    192  \n",
       "4     0.768314    195  \n",
       "...        ...    ...  \n",
       "6537  0.154021    136  \n",
       "6538  0.154021    136  \n",
       "6539  0.108845     19  \n",
       "6540  0.096905     97  \n",
       "6541  0.108845     19  \n",
       "\n",
       "[6542 rows x 15 columns]"
      ]
     },
     "execution_count": 52,
     "metadata": {},
     "output_type": "execute_result"
    }
   ],
   "source": [
    "df['count'] = df.groupby('zip_codes')['zip_codes'].transform('count')\n",
    "df"
   ]
  },
  {
   "cell_type": "markdown",
   "metadata": {},
   "source": [
    "Create a pivot table grouped by zipcode and price to illustrate price versus aff_perc and agi_sum"
   ]
  },
  {
   "cell_type": "code",
   "execution_count": 96,
   "metadata": {},
   "outputs": [
    {
     "data": {
      "text/html": [
       "<div>\n",
       "<style scoped>\n",
       "    .dataframe tbody tr th:only-of-type {\n",
       "        vertical-align: middle;\n",
       "    }\n",
       "\n",
       "    .dataframe tbody tr th {\n",
       "        vertical-align: top;\n",
       "    }\n",
       "\n",
       "    .dataframe thead th {\n",
       "        text-align: right;\n",
       "    }\n",
       "</style>\n",
       "<table border=\"1\" class=\"dataframe\">\n",
       "  <thead>\n",
       "    <tr style=\"text-align: right;\">\n",
       "      <th></th>\n",
       "      <th>zip_codes</th>\n",
       "      <th>price</th>\n",
       "      <th>aff_perc</th>\n",
       "      <th>agi_sum</th>\n",
       "      <th>count</th>\n",
       "      <th>high_value</th>\n",
       "      <th>latitude</th>\n",
       "      <th>longitude</th>\n",
       "      <th>rating</th>\n",
       "      <th>review_count</th>\n",
       "    </tr>\n",
       "  </thead>\n",
       "  <tbody>\n",
       "    <tr>\n",
       "      <th>0</th>\n",
       "      <td>10001</td>\n",
       "      <td>1</td>\n",
       "      <td>0.711868</td>\n",
       "      <td>2785807.0</td>\n",
       "      <td>173</td>\n",
       "      <td>1983127.0</td>\n",
       "      <td>40.748369</td>\n",
       "      <td>-73.992121</td>\n",
       "      <td>4.196429</td>\n",
       "      <td>576.392857</td>\n",
       "    </tr>\n",
       "    <tr>\n",
       "      <th>1</th>\n",
       "      <td>10001</td>\n",
       "      <td>2</td>\n",
       "      <td>0.711868</td>\n",
       "      <td>2785807.0</td>\n",
       "      <td>173</td>\n",
       "      <td>1983127.0</td>\n",
       "      <td>40.748464</td>\n",
       "      <td>-73.991048</td>\n",
       "      <td>3.880952</td>\n",
       "      <td>572.412698</td>\n",
       "    </tr>\n",
       "    <tr>\n",
       "      <th>2</th>\n",
       "      <td>10001</td>\n",
       "      <td>3</td>\n",
       "      <td>0.711868</td>\n",
       "      <td>2785807.0</td>\n",
       "      <td>173</td>\n",
       "      <td>1983127.0</td>\n",
       "      <td>40.748957</td>\n",
       "      <td>-73.995040</td>\n",
       "      <td>3.777778</td>\n",
       "      <td>619.222222</td>\n",
       "    </tr>\n",
       "    <tr>\n",
       "      <th>3</th>\n",
       "      <td>10001</td>\n",
       "      <td>4</td>\n",
       "      <td>0.711868</td>\n",
       "      <td>2785807.0</td>\n",
       "      <td>173</td>\n",
       "      <td>1983127.0</td>\n",
       "      <td>40.753670</td>\n",
       "      <td>-73.995490</td>\n",
       "      <td>3.500000</td>\n",
       "      <td>523.000000</td>\n",
       "    </tr>\n",
       "    <tr>\n",
       "      <th>4</th>\n",
       "      <td>10002</td>\n",
       "      <td>1</td>\n",
       "      <td>0.343110</td>\n",
       "      <td>2489499.0</td>\n",
       "      <td>152</td>\n",
       "      <td>854172.0</td>\n",
       "      <td>40.718096</td>\n",
       "      <td>-73.991325</td>\n",
       "      <td>4.212766</td>\n",
       "      <td>524.425532</td>\n",
       "    </tr>\n",
       "  </tbody>\n",
       "</table>\n",
       "</div>"
      ],
      "text/plain": [
       "   zip_codes  price  aff_perc    agi_sum  count  high_value   latitude  \\\n",
       "0      10001      1  0.711868  2785807.0    173   1983127.0  40.748369   \n",
       "1      10001      2  0.711868  2785807.0    173   1983127.0  40.748464   \n",
       "2      10001      3  0.711868  2785807.0    173   1983127.0  40.748957   \n",
       "3      10001      4  0.711868  2785807.0    173   1983127.0  40.753670   \n",
       "4      10002      1  0.343110  2489499.0    152    854172.0  40.718096   \n",
       "\n",
       "   longitude    rating  review_count  \n",
       "0 -73.992121  4.196429    576.392857  \n",
       "1 -73.991048  3.880952    572.412698  \n",
       "2 -73.995040  3.777778    619.222222  \n",
       "3 -73.995490  3.500000    523.000000  \n",
       "4 -73.991325  4.212766    524.425532  "
      ]
     },
     "execution_count": 96,
     "metadata": {},
     "output_type": "execute_result"
    }
   ],
   "source": [
    "df_zipcode = df.pivot_table(index = ['zip_codes', 'price']\n",
    "                           ).reset_index()\n",
    "\n",
    "df_zipcode.head()"
   ]
  },
  {
   "cell_type": "markdown",
   "metadata": {},
   "source": [
    "Plot out the top 10 most affluent zip codes"
   ]
  },
  {
   "cell_type": "code",
   "execution_count": 81,
   "metadata": {},
   "outputs": [
    {
     "data": {
      "text/html": [
       "<div>\n",
       "<style scoped>\n",
       "    .dataframe tbody tr th:only-of-type {\n",
       "        vertical-align: middle;\n",
       "    }\n",
       "\n",
       "    .dataframe tbody tr th {\n",
       "        vertical-align: top;\n",
       "    }\n",
       "\n",
       "    .dataframe thead th {\n",
       "        text-align: right;\n",
       "    }\n",
       "</style>\n",
       "<table border=\"1\" class=\"dataframe\">\n",
       "  <thead>\n",
       "    <tr style=\"text-align: right;\">\n",
       "      <th></th>\n",
       "      <th>zip_codes</th>\n",
       "      <th>aff_perc</th>\n",
       "    </tr>\n",
       "  </thead>\n",
       "  <tbody>\n",
       "    <tr>\n",
       "      <th>0</th>\n",
       "      <td>10282</td>\n",
       "      <td>0.943124</td>\n",
       "    </tr>\n",
       "    <tr>\n",
       "      <th>1</th>\n",
       "      <td>10282</td>\n",
       "      <td>0.943124</td>\n",
       "    </tr>\n",
       "    <tr>\n",
       "      <th>2</th>\n",
       "      <td>10007</td>\n",
       "      <td>0.941041</td>\n",
       "    </tr>\n",
       "    <tr>\n",
       "      <th>3</th>\n",
       "      <td>10007</td>\n",
       "      <td>0.941041</td>\n",
       "    </tr>\n",
       "    <tr>\n",
       "      <th>4</th>\n",
       "      <td>10007</td>\n",
       "      <td>0.941041</td>\n",
       "    </tr>\n",
       "    <tr>\n",
       "      <th>...</th>\n",
       "      <td>...</td>\n",
       "      <td>...</td>\n",
       "    </tr>\n",
       "    <tr>\n",
       "      <th>245</th>\n",
       "      <td>11249</td>\n",
       "      <td>NaN</td>\n",
       "    </tr>\n",
       "    <tr>\n",
       "      <th>246</th>\n",
       "      <td>11249</td>\n",
       "      <td>NaN</td>\n",
       "    </tr>\n",
       "    <tr>\n",
       "      <th>247</th>\n",
       "      <td>11249</td>\n",
       "      <td>NaN</td>\n",
       "    </tr>\n",
       "    <tr>\n",
       "      <th>248</th>\n",
       "      <td>11249</td>\n",
       "      <td>NaN</td>\n",
       "    </tr>\n",
       "    <tr>\n",
       "      <th>249</th>\n",
       "      <td>11371</td>\n",
       "      <td>NaN</td>\n",
       "    </tr>\n",
       "  </tbody>\n",
       "</table>\n",
       "<p>250 rows × 2 columns</p>\n",
       "</div>"
      ],
      "text/plain": [
       "     zip_codes  aff_perc\n",
       "0        10282  0.943124\n",
       "1        10282  0.943124\n",
       "2        10007  0.941041\n",
       "3        10007  0.941041\n",
       "4        10007  0.941041\n",
       "..         ...       ...\n",
       "245      11249       NaN\n",
       "246      11249       NaN\n",
       "247      11249       NaN\n",
       "248      11249       NaN\n",
       "249      11371       NaN\n",
       "\n",
       "[250 rows x 2 columns]"
      ]
     },
     "execution_count": 81,
     "metadata": {},
     "output_type": "execute_result"
    }
   ],
   "source": [
    "df_top5 = df_zipcode[['zip_codes', 'aff_perc']].sort_values('aff_perc', ascending = False)\n",
    "\n",
    "df_top5.reset_index(drop=True, inplace=True)\n",
    "\n",
    "df_top5"
   ]
  },
  {
   "cell_type": "markdown",
   "metadata": {},
   "source": [
    "Plot distribution of agi_sum"
   ]
  },
  {
   "cell_type": "code",
   "execution_count": 86,
   "metadata": {},
   "outputs": [
    {
     "data": {
      "image/png": "[encoded data removed]",
      "text/plain": [
       "<Figure size 432x288 with 1 Axes>"
      ]
     },
     "metadata": {},
     "output_type": "display_data"
    }
   ],
   "source": [
    "plt.hist(df[\"agi_sum\"], bins=10);\n"
   ]
  },
  {
   "cell_type": "markdown",
   "metadata": {},
   "source": [
    "log dist to make normal dist"
   ]
  },
  {
   "cell_type": "code",
   "execution_count": 91,
   "metadata": {},
   "outputs": [],
   "source": [
    "\n",
    "agi_log= np.log(df[\"agi_sum\"])  "
   ]
  },
  {
   "cell_type": "code",
   "execution_count": 95,
   "metadata": {},
   "outputs": [
    {
     "data": {
      "image/png": "[encoded data removed]",
      "text/plain": [
       "<Figure size 432x288 with 1 Axes>"
      ]
     },
     "metadata": {},
     "output_type": "display_data"
    }
   ],
   "source": [
    "plt.hist(agi_log, bins=8);"
   ]
  },
  {
   "cell_type": "markdown",
   "metadata": {},
   "source": [
    "## Featured engineering - clustering "
   ]
  },
  {
   "cell_type": "markdown",
   "metadata": {},
   "source": [
    "## Model Preparation"
   ]
  },
  {
   "cell_type": "markdown",
   "metadata": {},
   "source": [
    "## Modeling"
   ]
  },
  {
   "cell_type": "markdown",
   "metadata": {},
   "source": [
    "### Baseline Model"
   ]
  },
  {
   "cell_type": "markdown",
   "metadata": {},
   "source": [
    "The IRS data?"
   ]
  },
  {
   "cell_type": "markdown",
   "metadata": {},
   "source": [
    "### models"
   ]
  },
  {
   "cell_type": "markdown",
   "metadata": {},
   "source": [
    "## Model Selection"
   ]
  },
  {
   "cell_type": "markdown",
   "metadata": {},
   "source": []
  },
  {
   "cell_type": "markdown",
   "metadata": {},
   "source": [
    "## Model Evaluation "
   ]
  },
  {
   "cell_type": "markdown",
   "metadata": {},
   "source": [
    "## Conclusion"
   ]
  },
  {
   "cell_type": "markdown",
   "metadata": {},
   "source": []
  },
  {
   "cell_type": "markdown",
   "metadata": {},
   "source": [
    "## "
   ]
  }
 ],
 "metadata": {
  "kernelspec": {
   "display_name": "Python 3",
   "language": "python",
   "name": "python3"
  },
  "language_info": {
   "codemirror_mode": {
    "name": "ipython",
    "version": 3
   },
   "file_extension": ".py",
   "mimetype": "text/x-python",
   "name": "python",
   "nbconvert_exporter": "python",
   "pygments_lexer": "ipython3",
   "version": "3.7.4"
  },
  "toc": {
   "base_numbering": 1,
   "nav_menu": {},
   "number_sections": true,
   "sideBar": true,
   "skip_h1_title": false,
   "title_cell": "Table of Contents",
   "title_sidebar": "Contents",
   "toc_cell": false,
   "toc_position": {},
   "toc_section_display": true,
   "toc_window_display": false
  }
 },
 "nbformat": 4,
 "nbformat_minor": 2
}
