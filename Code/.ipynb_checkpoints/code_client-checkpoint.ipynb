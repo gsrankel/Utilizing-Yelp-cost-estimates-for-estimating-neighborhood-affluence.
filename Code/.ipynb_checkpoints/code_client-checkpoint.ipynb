{
 "cells": [
  {
   "cell_type": "markdown",
   "metadata": {},
   "source": [
    "# Using YELP \n",
    "by \n",
    "Greg, Varun, Adriana"
   ]
  },
  {
   "cell_type": "markdown",
   "metadata": {},
   "source": [
    "## Problem Statement\n",
    "\n",
    "- to be filled \n",
    " - decide on a metric? "
   ]
  },
  {
   "cell_type": "markdown",
   "metadata": {},
   "source": [
    "## Executive Summary"
   ]
  },
  {
   "cell_type": "markdown",
   "metadata": {},
   "source": [
    "- how we obtained data\n",
    "\n",
    "- link to the scraping notebooks\n",
    "\n",
    "- data points\n",
    "\n",
    "- initital observations\n",
    "\n",
    "- how we decided what \"affluency\" is\n",
    "\n",
    "- IRS proces\n",
    "\n",
    "- processes EDA observations\n",
    "\n",
    "- models used\n",
    "\n",
    "- results\n"
   ]
  },
  {
   "cell_type": "markdown",
   "metadata": {},
   "source": [
    "## Table of contents:\n",
    "- [Acquiring and Preprocessing Data](#Acquiring-and-Preprocessing-Data)\n",
    "- [Loading Libraries](#Loading-Libraries)\n",
    "- [Loading Data](#Loading-Data)\n",
    "- [Model Preparation](#Model-Preparation)\n",
    "- [Modeling](#Modeling)\n",
    "- [Baseline Model](#Modeling)\n",
    "- [Grid Search with a Pipe with Logistic Regression and TFIDF](#Grid-Search-with-a-Pipe-with-Logistic-Regression-and-TFIDF)\n",
    "- [CountVectorizer in a Pipe with Decision Trees, and Grid Search](#CountVectorizer-in-a-Pipe-with-Decision-Trees,-and-Grid-Search)\n",
    "- [Bagging Classifier in a pipe with TFIDF](#Bagging-Classifier-in-a-pipe-with-TFIDF)\n",
    "- [Naive Bayes with CountVectorizer](#Naive-Bayes-with-CountVectorizer)\n",
    "- [Model Selection](#Model-Selection)\n",
    "- [Model Evaluation](#Model-Evaluation)\n",
    "- [Conclusion](#Conclusion)\n"
   ]
  },
  {
   "cell_type": "markdown",
   "metadata": {},
   "source": [
    "## Acquiring and Preprocessing Data"
   ]
  },
  {
   "cell_type": "markdown",
   "metadata": {},
   "source": [
    "We have scrapped yelp - and IRS \n",
    "- link to notebooks, data sets\n"
   ]
  },
  {
   "cell_type": "markdown",
   "metadata": {},
   "source": [
    "We have preprocessed the scrapped and concatenated data in the notebook [title_preprocessing.ipynb'](./title_preprocessing.ipynb) that can be found in the same folder as this notebook."
   ]
  },
  {
   "cell_type": "markdown",
   "metadata": {},
   "source": [
    "## Data Dictionary"
   ]
  },
  {
   "cell_type": "markdown",
   "metadata": {},
   "source": [
    "## Loading Libraries"
   ]
  },
  {
   "cell_type": "markdown",
   "metadata": {},
   "source": [
    "Libraries are used in python to automate functions in order to clean data, engineer data, and model data"
   ]
  },
  {
   "cell_type": "code",
   "execution_count": 455,
   "metadata": {},
   "outputs": [],
   "source": [
    "\n",
    "##Import libraties for cleaning\n",
    "\n",
    "import pandas as pd\n",
    "import datetime as dt\n",
    "import time\n",
    "import requests\n",
    "import numpy as np\n",
    "import math\n",
    "from ast import literal_eval\n",
    "##Import modeling libraries\n",
    "\n",
    "from sklearn.linear_model import LogisticRegression\n",
    "from sklearn.neighbors import KNeighborsClassifier\n",
    "from sklearn.pipeline import Pipeline,FeatureUnion\n",
    "from sklearn.model_selection import cross_val_score, train_test_split, GridSearchCV\n",
    "from nltk.stem.snowball import SnowballStemmer\n",
    "from nltk.tokenize import RegexpTokenizer\n",
    "from sklearn.tree import DecisionTreeClassifier\n",
    "from sklearn.ensemble import BaggingClassifier\n",
    "from sklearn.naive_bayes import GaussianNB\n",
    "from sklearn.ensemble import GradientBoostingClassifier, AdaBoostClassifier, VotingClassifier\n",
    "from sklearn.tree import DecisionTreeClassifier\n",
    "from sklearn.model_selection import train_test_split, GridSearchCV\n",
    "from sklearn.datasets import make_classification\n",
    "import seaborn as sns\n",
    "import matplotlib.pyplot as plt\n",
    "from sklearn.preprocessing import StandardScaler\n",
    "from sklearn.decomposition import PCA\n",
    "from sklearn.ensemble import RandomForestClassifier, ExtraTreesClassifier\n",
    "from sklearn.metrics import silhouette_score\n",
    "\n",
    "#Import metrics \n",
    "from sklearn.metrics import roc_auc_score\n",
    "from sklearn.metrics import recall_score\n",
    "from sklearn.metrics import confusion_matrix\n",
    "from sklearn.metrics import make_scorer\n",
    "\n",
    "from sklearn.pipeline import Pipeline\n",
    "from sklearn.cluster import KMeans\n",
    "\n",
    "\n",
    "import warnings\n",
    "warnings.filterwarnings('ignore')"
   ]
  },
  {
   "cell_type": "markdown",
   "metadata": {},
   "source": [
    "## Loading Data"
   ]
  },
  {
   "cell_type": "markdown",
   "metadata": {},
   "source": [
    "We decied to scrape yelp business data based on the 4 closer bouroughs, Manahattan, Queens, Bronx, Brooklyn. \n",
    "In addition, to extact more data points we decided to query from specific addresses and yelp's api is smart\n",
    "enough to pull from the surrounding areas. This will allow us to get more data and more precise data. "
   ]
  },
  {
   "cell_type": "code",
   "execution_count": 350,
   "metadata": {},
   "outputs": [],
   "source": [
    "##Use pandas to read csv. File Path ./data\n",
    "df_midtowneast = pd.read_csv('../data/midtownqueensvg.csv')\n",
    "df_lower_manhattan = pd.read_csv('../data/adriana_data.csv')\n",
    "df_brooklyn = pd.read_csv('../data/greg_data.csv')\n",
    "df_brooklyn_queens = pd.read_csv('../data/brooklyn_queens.csv')\n",
    "df_uppernyc = pd.read_csv('../data/uppernyc.csv')"
   ]
  },
  {
   "cell_type": "markdown",
   "metadata": {},
   "source": [
    "## YELP EDA"
   ]
  },
  {
   "cell_type": "markdown",
   "metadata": {},
   "source": [
    "Drop Unnamed Columns in brooklyn. Will be better for merging"
   ]
  },
  {
   "cell_type": "code",
   "execution_count": 351,
   "metadata": {},
   "outputs": [],
   "source": [
    "##Use drop on columns, axis = 1(columns)\n",
    "df_brooklyn = df_brooklyn.drop('Unnamed: 0', axis =1)"
   ]
  },
  {
   "cell_type": "markdown",
   "metadata": {},
   "source": [
    "Concat all 3 data frames into one big data frame. "
   ]
  },
  {
   "cell_type": "code",
   "execution_count": 352,
   "metadata": {},
   "outputs": [],
   "source": [
    "##use pandas concat to add everything\n",
    "df_yelp = pd.concat([df_midtowneast, df_lower_manhattan, df_brooklyn, df_brooklyn_queens, df_uppernyc])"
   ]
  },
  {
   "cell_type": "markdown",
   "metadata": {},
   "source": [
    "Drop all duplicates"
   ]
  },
  {
   "cell_type": "code",
   "execution_count": 353,
   "metadata": {},
   "outputs": [],
   "source": [
    "##Drop method\n",
    "df_yelp.drop_duplicates('id', inplace=True)"
   ]
  },
  {
   "cell_type": "markdown",
   "metadata": {},
   "source": [
    "Check for Nulls"
   ]
  },
  {
   "cell_type": "code",
   "execution_count": 354,
   "metadata": {},
   "outputs": [
    {
     "data": {
      "text/plain": [
       "1169"
      ]
     },
     "execution_count": 354,
     "metadata": {},
     "output_type": "execute_result"
    }
   ],
   "source": [
    "##isnull(sum) method to check nulls\n",
    "df_yelp['price'].isnull().sum()"
   ]
  },
  {
   "cell_type": "markdown",
   "metadata": {},
   "source": [
    "Drop rows with null prices. We are worried abot the data that has price ratings based on user input. No value means no data. We cannot assume its a cheap restaurant or cannot fill with median or mean"
   ]
  },
  {
   "cell_type": "code",
   "execution_count": 355,
   "metadata": {},
   "outputs": [],
   "source": [
    "##Use drop method\n",
    "df_yelp = df_yelp.dropna(subset = [\"price\"])"
   ]
  },
  {
   "cell_type": "markdown",
   "metadata": {},
   "source": [
    "Map Price to numeric values. This will be of use when measuring affluency as stated in our problem statement. We are concerned with the price rating per zip code"
   ]
  },
  {
   "cell_type": "code",
   "execution_count": 356,
   "metadata": {},
   "outputs": [],
   "source": [
    "df_yelp['price'] = df_yelp['price'].map({'$': 1, '$$': 2, '$$$': 3, '$$$$': 4})"
   ]
  },
  {
   "cell_type": "markdown",
   "metadata": {},
   "source": [
    "Check Which Zip codes have NAN values"
   ]
  },
  {
   "cell_type": "code",
   "execution_count": 357,
   "metadata": {},
   "outputs": [
    {
     "data": {
      "text/html": [
       "<div>\n",
       "<style scoped>\n",
       "    .dataframe tbody tr th:only-of-type {\n",
       "        vertical-align: middle;\n",
       "    }\n",
       "\n",
       "    .dataframe tbody tr th {\n",
       "        vertical-align: top;\n",
       "    }\n",
       "\n",
       "    .dataframe thead th {\n",
       "        text-align: right;\n",
       "    }\n",
       "</style>\n",
       "<table border=\"1\" class=\"dataframe\">\n",
       "  <thead>\n",
       "    <tr style=\"text-align: right;\">\n",
       "      <th></th>\n",
       "      <th>id</th>\n",
       "      <th>alias</th>\n",
       "      <th>name</th>\n",
       "      <th>image_url</th>\n",
       "      <th>is_closed</th>\n",
       "      <th>url</th>\n",
       "      <th>review_count</th>\n",
       "      <th>categories</th>\n",
       "      <th>rating</th>\n",
       "      <th>coordinates</th>\n",
       "      <th>transactions</th>\n",
       "      <th>price</th>\n",
       "      <th>location</th>\n",
       "      <th>phone</th>\n",
       "      <th>display_phone</th>\n",
       "      <th>distance</th>\n",
       "      <th>zip_codes</th>\n",
       "    </tr>\n",
       "  </thead>\n",
       "  <tbody>\n",
       "    <tr>\n",
       "      <th>1746</th>\n",
       "      <td>BilbRcNQXKmcBFvLm4gxAQ</td>\n",
       "      <td>halal-cart-queens-2</td>\n",
       "      <td>Halal Cart</td>\n",
       "      <td>https://s3-media1.fl.yelpcdn.com/bphoto/Bq_MTq...</td>\n",
       "      <td>False</td>\n",
       "      <td>https://www.yelp.com/biz/halal-cart-queens-2?a...</td>\n",
       "      <td>3</td>\n",
       "      <td>[{'alias': 'foodstands', 'title': 'Food Stands'}]</td>\n",
       "      <td>5.0</td>\n",
       "      <td>{'latitude': 40.7488639529741, 'longitude': -7...</td>\n",
       "      <td>[]</td>\n",
       "      <td>2</td>\n",
       "      <td>{'address1': '74 St 37th Ave', 'address2': '',...</td>\n",
       "      <td>NaN</td>\n",
       "      <td>NaN</td>\n",
       "      <td>2129.853970</td>\n",
       "      <td>NaN</td>\n",
       "    </tr>\n",
       "    <tr>\n",
       "      <th>1799</th>\n",
       "      <td>jZzbV6SRt9FXdCoziNv5xw</td>\n",
       "      <td>elmhurst-green-market-queens</td>\n",
       "      <td>Elmhurst Green Market</td>\n",
       "      <td>https://s3-media1.fl.yelpcdn.com/bphoto/yW3gl0...</td>\n",
       "      <td>False</td>\n",
       "      <td>https://www.yelp.com/biz/elmhurst-green-market...</td>\n",
       "      <td>4</td>\n",
       "      <td>[{'alias': 'farmersmarket', 'title': 'Farmers ...</td>\n",
       "      <td>4.0</td>\n",
       "      <td>{'latitude': 40.7454635299775, 'longitude': -7...</td>\n",
       "      <td>[]</td>\n",
       "      <td>2</td>\n",
       "      <td>{'address1': '41st Ave between 80th &amp; 81st St'...</td>\n",
       "      <td>NaN</td>\n",
       "      <td>NaN</td>\n",
       "      <td>1611.572779</td>\n",
       "      <td>NaN</td>\n",
       "    </tr>\n",
       "    <tr>\n",
       "      <th>1814</th>\n",
       "      <td>sdJR2FH3Yj3yE-X-ShEnlQ</td>\n",
       "      <td>chilis-queens</td>\n",
       "      <td>Chili's</td>\n",
       "      <td>https://s3-media1.fl.yelpcdn.com/bphoto/7GSL-V...</td>\n",
       "      <td>False</td>\n",
       "      <td>https://www.yelp.com/biz/chilis-queens?adjust_...</td>\n",
       "      <td>27</td>\n",
       "      <td>[{'alias': 'bars', 'title': 'Bars'}, {'alias':...</td>\n",
       "      <td>2.0</td>\n",
       "      <td>{'latitude': 40.7140007, 'longitude': -73.8299...</td>\n",
       "      <td>[]</td>\n",
       "      <td>2</td>\n",
       "      <td>{'address1': 'Atlas Park', 'address2': '', 'ad...</td>\n",
       "      <td>NaN</td>\n",
       "      <td>NaN</td>\n",
       "      <td>1777.430525</td>\n",
       "      <td>NaN</td>\n",
       "    </tr>\n",
       "    <tr>\n",
       "      <th>663</th>\n",
       "      <td>v1aO9kQuRKq90xxq_qujxA</td>\n",
       "      <td>coolhaus-ice-cream-sandwiches-new-york-2</td>\n",
       "      <td>Coolhaus Ice Cream Sandwiches</td>\n",
       "      <td>https://s3-media1.fl.yelpcdn.com/bphoto/K-IgXP...</td>\n",
       "      <td>False</td>\n",
       "      <td>https://www.yelp.com/biz/coolhaus-ice-cream-sa...</td>\n",
       "      <td>198</td>\n",
       "      <td>[{'alias': 'icecream', 'title': 'Ice Cream &amp; F...</td>\n",
       "      <td>4.0</td>\n",
       "      <td>{'latitude': 40.7154670332003, 'longitude': -7...</td>\n",
       "      <td>[]</td>\n",
       "      <td>1</td>\n",
       "      <td>{'address1': '', 'address2': '', 'address3': '...</td>\n",
       "      <td>1.917934e+10</td>\n",
       "      <td>(917) 933-8638</td>\n",
       "      <td>1956.663385</td>\n",
       "      <td>NaN</td>\n",
       "    </tr>\n",
       "    <tr>\n",
       "      <th>1839</th>\n",
       "      <td>aAAHxvIGFi3fqPy_XZmz6g</td>\n",
       "      <td>jim-beam-suite-new-york</td>\n",
       "      <td>Jim Beam Suite</td>\n",
       "      <td>https://s3-media2.fl.yelpcdn.com/bphoto/Z-pfCK...</td>\n",
       "      <td>False</td>\n",
       "      <td>https://www.yelp.com/biz/jim-beam-suite-new-yo...</td>\n",
       "      <td>15</td>\n",
       "      <td>[{'alias': 'sportsbars', 'title': 'Sports Bars...</td>\n",
       "      <td>2.5</td>\n",
       "      <td>{'latitude': 40.8294545983504, 'longitude': -7...</td>\n",
       "      <td>[]</td>\n",
       "      <td>3</td>\n",
       "      <td>{'address1': 'Macombs Dam Bridge', 'address2':...</td>\n",
       "      <td>NaN</td>\n",
       "      <td>NaN</td>\n",
       "      <td>2104.279311</td>\n",
       "      <td>NaN</td>\n",
       "    </tr>\n",
       "  </tbody>\n",
       "</table>\n",
       "</div>"
      ],
      "text/plain": [
       "                          id                                     alias  \\\n",
       "1746  BilbRcNQXKmcBFvLm4gxAQ                       halal-cart-queens-2   \n",
       "1799  jZzbV6SRt9FXdCoziNv5xw              elmhurst-green-market-queens   \n",
       "1814  sdJR2FH3Yj3yE-X-ShEnlQ                             chilis-queens   \n",
       "663   v1aO9kQuRKq90xxq_qujxA  coolhaus-ice-cream-sandwiches-new-york-2   \n",
       "1839  aAAHxvIGFi3fqPy_XZmz6g                   jim-beam-suite-new-york   \n",
       "\n",
       "                               name  \\\n",
       "1746                     Halal Cart   \n",
       "1799          Elmhurst Green Market   \n",
       "1814                        Chili's   \n",
       "663   Coolhaus Ice Cream Sandwiches   \n",
       "1839                 Jim Beam Suite   \n",
       "\n",
       "                                              image_url  is_closed  \\\n",
       "1746  https://s3-media1.fl.yelpcdn.com/bphoto/Bq_MTq...      False   \n",
       "1799  https://s3-media1.fl.yelpcdn.com/bphoto/yW3gl0...      False   \n",
       "1814  https://s3-media1.fl.yelpcdn.com/bphoto/7GSL-V...      False   \n",
       "663   https://s3-media1.fl.yelpcdn.com/bphoto/K-IgXP...      False   \n",
       "1839  https://s3-media2.fl.yelpcdn.com/bphoto/Z-pfCK...      False   \n",
       "\n",
       "                                                    url  review_count  \\\n",
       "1746  https://www.yelp.com/biz/halal-cart-queens-2?a...             3   \n",
       "1799  https://www.yelp.com/biz/elmhurst-green-market...             4   \n",
       "1814  https://www.yelp.com/biz/chilis-queens?adjust_...            27   \n",
       "663   https://www.yelp.com/biz/coolhaus-ice-cream-sa...           198   \n",
       "1839  https://www.yelp.com/biz/jim-beam-suite-new-yo...            15   \n",
       "\n",
       "                                             categories  rating  \\\n",
       "1746  [{'alias': 'foodstands', 'title': 'Food Stands'}]     5.0   \n",
       "1799  [{'alias': 'farmersmarket', 'title': 'Farmers ...     4.0   \n",
       "1814  [{'alias': 'bars', 'title': 'Bars'}, {'alias':...     2.0   \n",
       "663   [{'alias': 'icecream', 'title': 'Ice Cream & F...     4.0   \n",
       "1839  [{'alias': 'sportsbars', 'title': 'Sports Bars...     2.5   \n",
       "\n",
       "                                            coordinates transactions  price  \\\n",
       "1746  {'latitude': 40.7488639529741, 'longitude': -7...           []      2   \n",
       "1799  {'latitude': 40.7454635299775, 'longitude': -7...           []      2   \n",
       "1814  {'latitude': 40.7140007, 'longitude': -73.8299...           []      2   \n",
       "663   {'latitude': 40.7154670332003, 'longitude': -7...           []      1   \n",
       "1839  {'latitude': 40.8294545983504, 'longitude': -7...           []      3   \n",
       "\n",
       "                                               location         phone  \\\n",
       "1746  {'address1': '74 St 37th Ave', 'address2': '',...           NaN   \n",
       "1799  {'address1': '41st Ave between 80th & 81st St'...           NaN   \n",
       "1814  {'address1': 'Atlas Park', 'address2': '', 'ad...           NaN   \n",
       "663   {'address1': '', 'address2': '', 'address3': '...  1.917934e+10   \n",
       "1839  {'address1': 'Macombs Dam Bridge', 'address2':...           NaN   \n",
       "\n",
       "       display_phone     distance  zip_codes  \n",
       "1746             NaN  2129.853970        NaN  \n",
       "1799             NaN  1611.572779        NaN  \n",
       "1814             NaN  1777.430525        NaN  \n",
       "663   (917) 933-8638  1956.663385        NaN  \n",
       "1839             NaN  2104.279311        NaN  "
      ]
     },
     "execution_count": 357,
     "metadata": {},
     "output_type": "execute_result"
    }
   ],
   "source": [
    "df_yelp[df_yelp['zip_codes'].isin(['NaN'])]"
   ]
  },
  {
   "cell_type": "markdown",
   "metadata": {},
   "source": [
    "We researched for nan values on yelp to see where these restaurants where located. We can also use google maps to locate where these restuarants are on the map. No need to drop values when we have outside resources to confirm the zipcodes of nan values"
   ]
  },
  {
   "cell_type": "code",
   "execution_count": 358,
   "metadata": {},
   "outputs": [],
   "source": [
    "##use loc method to identify nan zipcodes and fill them value\n",
    "df_yelp.loc[df_yelp['id'] == 'BilbRcNQXKmcBFvLm4gxAQ', 'zip_codes'] = 11372\n",
    "df_yelp.loc[df_yelp['id'] == 'jZzbV6SRt9FXdCoziNv5xw', 'zip_codes' ] = 11372\n",
    "df_yelp.loc[df_yelp['id'] == 'sdJR2FH3Yj3yE-X-ShEnlQ', 'zip_codes'] = 11372\n",
    "df_yelp.loc[df_yelp['id'] == 'v1aO9kQuRKq90xxq_qujxA','zip_codes'] = 11372\n",
    "df_yelp.loc[df_yelp['id'] == 'aAAHxvIGFi3fqPy_XZmz6g','zip_codes'] = 10451"
   ]
  },
  {
   "cell_type": "code",
   "execution_count": 359,
   "metadata": {},
   "outputs": [
    {
     "data": {
      "text/html": [
       "<div>\n",
       "<style scoped>\n",
       "    .dataframe tbody tr th:only-of-type {\n",
       "        vertical-align: middle;\n",
       "    }\n",
       "\n",
       "    .dataframe tbody tr th {\n",
       "        vertical-align: top;\n",
       "    }\n",
       "\n",
       "    .dataframe thead th {\n",
       "        text-align: right;\n",
       "    }\n",
       "</style>\n",
       "<table border=\"1\" class=\"dataframe\">\n",
       "  <thead>\n",
       "    <tr style=\"text-align: right;\">\n",
       "      <th></th>\n",
       "      <th>id</th>\n",
       "      <th>alias</th>\n",
       "      <th>name</th>\n",
       "      <th>image_url</th>\n",
       "      <th>is_closed</th>\n",
       "      <th>url</th>\n",
       "      <th>review_count</th>\n",
       "      <th>categories</th>\n",
       "      <th>rating</th>\n",
       "      <th>coordinates</th>\n",
       "      <th>transactions</th>\n",
       "      <th>price</th>\n",
       "      <th>location</th>\n",
       "      <th>phone</th>\n",
       "      <th>display_phone</th>\n",
       "      <th>distance</th>\n",
       "      <th>zip_codes</th>\n",
       "    </tr>\n",
       "  </thead>\n",
       "  <tbody>\n",
       "  </tbody>\n",
       "</table>\n",
       "</div>"
      ],
      "text/plain": [
       "Empty DataFrame\n",
       "Columns: [id, alias, name, image_url, is_closed, url, review_count, categories, rating, coordinates, transactions, price, location, phone, display_phone, distance, zip_codes]\n",
       "Index: []"
      ]
     },
     "execution_count": 359,
     "metadata": {},
     "output_type": "execute_result"
    }
   ],
   "source": [
    "df_yelp[df_yelp['zip_codes'].isin(['NaN'])]"
   ]
  },
  {
   "cell_type": "markdown",
   "metadata": {},
   "source": [
    "Check if is closed is False, aka the restaurants must be open. "
   ]
  },
  {
   "cell_type": "code",
   "execution_count": 360,
   "metadata": {},
   "outputs": [
    {
     "data": {
      "text/plain": [
       "array([False])"
      ]
     },
     "execution_count": 360,
     "metadata": {},
     "output_type": "execute_result"
    }
   ],
   "source": [
    "df_yelp['is_closed'].unique()"
   ]
  },
  {
   "cell_type": "markdown",
   "metadata": {},
   "source": [
    "All restaurants are open"
   ]
  },
  {
   "cell_type": "markdown",
   "metadata": {},
   "source": [
    " We want to parse out from location the cities and state. Cities is a another way to group and classify an area by affluency. Cities is an umbrella to the zipcodes, where the data becomes more percise. Percision is key when preparing for disasters, especially in New York where neighborhoods are divese and clustered\n",
    "\n",
    "Below is a function that parses out the string and keys from the data frame column location\n",
    "\n",
    "The code below is adopted from NYC(2) project"
   ]
  },
  {
   "cell_type": "code",
   "execution_count": 361,
   "metadata": {},
   "outputs": [],
   "source": [
    "##This function takes in a string and is able to index it by column name. \n",
    "\n",
    "def get_keys_from_sting_dict(string, keys):\n",
    " \n",
    "    if len(string) == 0:\n",
    "        return None\n",
    "    dic = literal_eval(string)\n",
    "    out = {}\n",
    "    for key in keys:\n",
    "        out[key] = dic.get(key)\n",
    "    return out"
   ]
  },
  {
   "cell_type": "markdown",
   "metadata": {},
   "source": [
    "We can drop location because we have the information from location"
   ]
  },
  {
   "cell_type": "code",
   "execution_count": 362,
   "metadata": {},
   "outputs": [],
   "source": [
    "location = \"location\"\n",
    "keys = [\"city\", 'state']\n",
    "zips_and_cities = df_yelp[location].map(lambda string: get_keys_from_sting_dict(string, keys))\n",
    "\n",
    "for key in keys:\n",
    "    df_yelp[key] = [pair[key] for pair in zips_and_cities]\n",
    "    \n",
    "df_yelp.drop(columns=[location], inplace = True)"
   ]
  },
  {
   "cell_type": "markdown",
   "metadata": {},
   "source": [
    "We want to parse out from coordinates with longitude and lattitude. Longitude and Lattidue is a another way to group and classify an area by affluency. Longitude and Lat is a little more percises than zipcodes, where the data becomes more percise. Percision is key when preparing for disasters, especially in New York where neighborhoods are divese and clustered\n",
    "\n",
    "Below is a function that parses out the string and keys from the data frame the coordinates section\n",
    "\n",
    "The code below is adopted from NYC(2) project"
   ]
  },
  {
   "cell_type": "code",
   "execution_count": 363,
   "metadata": {},
   "outputs": [],
   "source": [
    "coordinates = \"coordinates\"\n",
    "coord_keys = [\"latitude\", \"longitude\"]\n",
    "lat_and_long = df_yelp[coordinates].map(lambda string: get_keys_from_sting_dict(string, coord_keys))\n",
    "\n",
    "for key in coord_keys:\n",
    "    df_yelp[key] = [pair[key] for pair in lat_and_long]\n",
    "\n",
    "df_yelp.drop(columns=[coordinates], inplace = True)"
   ]
  },
  {
   "cell_type": "markdown",
   "metadata": {},
   "source": [
    "We want to parse out the categories for busineses. This will allow us to get what types or businesses are in affluent or non affluent ares"
   ]
  },
  {
   "cell_type": "code",
   "execution_count": 364,
   "metadata": {},
   "outputs": [],
   "source": [
    "def convert_string_dict_to_string(string, key):\n",
    "    '''Returns a string of a string-link dictionary given extraction keys'''\n",
    "    return \",\".join([dic[key] for dic in literal_eval(string)])\n",
    "\n",
    "df_yelp[\"categories\"] = df_yelp[\"categories\"].map(lambda s: convert_string_dict_to_string(s,\"alias\"))"
   ]
  },
  {
   "cell_type": "markdown",
   "metadata": {},
   "source": [
    "We decided to order the location features from less percision to more percision. As you can see state is the less percise and lat/long are the most percise. As stated in our problem statement, percision is key when it comes to location. Price is based on the business and is going to be used later to measure affluency"
   ]
  },
  {
   "cell_type": "code",
   "execution_count": 365,
   "metadata": {},
   "outputs": [],
   "source": [
    "features = ['state', 'city','zip_codes','latitude', 'longitude','id', 'name', 'review_count', 'categories', \n",
    "        'rating','price']"
   ]
  },
  {
   "cell_type": "code",
   "execution_count": 366,
   "metadata": {},
   "outputs": [],
   "source": [
    "df_yelp = df_yelp[features]"
   ]
  },
  {
   "cell_type": "code",
   "execution_count": 367,
   "metadata": {},
   "outputs": [
    {
     "data": {
      "text/plain": [
       "0"
      ]
     },
     "execution_count": 367,
     "metadata": {},
     "output_type": "execute_result"
    }
   ],
   "source": [
    "df_yelp['zip_codes'].isnull().sum()"
   ]
  },
  {
   "cell_type": "code",
   "execution_count": 368,
   "metadata": {},
   "outputs": [],
   "source": [
    "df_yelp['zip_codes'] = df_yelp['zip_codes'].astype(int)"
   ]
  },
  {
   "cell_type": "code",
   "execution_count": 369,
   "metadata": {},
   "outputs": [],
   "source": [
    "df_yelp['zip_codes'] = df_yelp['zip_codes'].astype(str)"
   ]
  },
  {
   "cell_type": "markdown",
   "metadata": {},
   "source": [
    "Ensure that the zip codes are 5 digits"
   ]
  },
  {
   "cell_type": "code",
   "execution_count": 370,
   "metadata": {},
   "outputs": [],
   "source": [
    "df_yelp = df_yelp[df_yelp.zip_codes.str.match(\"\\d{5}\")]\n"
   ]
  },
  {
   "cell_type": "markdown",
   "metadata": {},
   "source": [
    "Change zipcode column type from object to int"
   ]
  },
  {
   "cell_type": "code",
   "execution_count": 371,
   "metadata": {},
   "outputs": [],
   "source": [
    "df_yelp['zip_codes'] = df_yelp['zip_codes'].astype('int64')"
   ]
  },
  {
   "cell_type": "markdown",
   "metadata": {},
   "source": [
    "We decided to group all the data by zip codes. One zip code can have many businesses so we want to count the amount of businesses based on dollar amount. This will allow us to easily merge irs data to have a clean data set when we measure affluency"
   ]
  },
  {
   "cell_type": "code",
   "execution_count": 372,
   "metadata": {},
   "outputs": [],
   "source": [
    "df_count_zips = df_yelp.set_index('zip_codes')\n",
    "pivoted = pd.pivot_table(df_count_zips, index='zip_codes', columns=['price'], values='id', aggfunc=\"count\",fill_value=0)\n",
    "flattened = pd.DataFrame(pivoted.to_records())\n",
    "\n",
    "df_count_zips = flattened.rename(columns={'1':'yelp_dollar_1','2':'yelp_dollar_2','3':'yelp_dollar_3','4':'yelp_dollar_4'})\n",
    "df_count_zips['Total_Business'] = df_count_zips['yelp_dollar_1'] + df_count_zips['yelp_dollar_2'] +  df_count_zips['yelp_dollar_3'] + df_count_zips['yelp_dollar_4']"
   ]
  },
  {
   "cell_type": "markdown",
   "metadata": {},
   "source": [
    "We want to keep zipcodes that have over a therhsold of amount of businesses. We decided to keep the zipcodes with over 20 businesses. "
   ]
  },
  {
   "cell_type": "code",
   "execution_count": 373,
   "metadata": {},
   "outputs": [],
   "source": [
    "df_yelp_zips = df_count_zips[df_count_zips['Total_Business'] > 20]"
   ]
  },
  {
   "cell_type": "code",
   "execution_count": 374,
   "metadata": {},
   "outputs": [],
   "source": [
    "df_yelp_zips = df_yelp_zips.sort_values('Total_Business', ascending = False)"
   ]
  },
  {
   "cell_type": "code",
   "execution_count": 375,
   "metadata": {},
   "outputs": [
    {
     "data": {
      "text/html": [
       "<div>\n",
       "<style scoped>\n",
       "    .dataframe tbody tr th:only-of-type {\n",
       "        vertical-align: middle;\n",
       "    }\n",
       "\n",
       "    .dataframe tbody tr th {\n",
       "        vertical-align: top;\n",
       "    }\n",
       "\n",
       "    .dataframe thead th {\n",
       "        text-align: right;\n",
       "    }\n",
       "</style>\n",
       "<table border=\"1\" class=\"dataframe\">\n",
       "  <thead>\n",
       "    <tr style=\"text-align: right;\">\n",
       "      <th></th>\n",
       "      <th>zip_codes</th>\n",
       "      <th>yelp_dollar_1</th>\n",
       "      <th>yelp_dollar_2</th>\n",
       "      <th>yelp_dollar_3</th>\n",
       "      <th>yelp_dollar_4</th>\n",
       "      <th>Total_Business</th>\n",
       "    </tr>\n",
       "  </thead>\n",
       "  <tbody>\n",
       "    <tr>\n",
       "      <th>89</th>\n",
       "      <td>11211</td>\n",
       "      <td>130</td>\n",
       "      <td>229</td>\n",
       "      <td>17</td>\n",
       "      <td>1</td>\n",
       "      <td>377</td>\n",
       "    </tr>\n",
       "    <tr>\n",
       "      <th>85</th>\n",
       "      <td>11201</td>\n",
       "      <td>75</td>\n",
       "      <td>208</td>\n",
       "      <td>16</td>\n",
       "      <td>1</td>\n",
       "      <td>300</td>\n",
       "    </tr>\n",
       "    <tr>\n",
       "      <th>19</th>\n",
       "      <td>10022</td>\n",
       "      <td>54</td>\n",
       "      <td>156</td>\n",
       "      <td>55</td>\n",
       "      <td>19</td>\n",
       "      <td>284</td>\n",
       "    </tr>\n",
       "    <tr>\n",
       "      <th>11</th>\n",
       "      <td>10013</td>\n",
       "      <td>65</td>\n",
       "      <td>160</td>\n",
       "      <td>31</td>\n",
       "      <td>12</td>\n",
       "      <td>268</td>\n",
       "    </tr>\n",
       "    <tr>\n",
       "      <th>10</th>\n",
       "      <td>10012</td>\n",
       "      <td>41</td>\n",
       "      <td>155</td>\n",
       "      <td>37</td>\n",
       "      <td>8</td>\n",
       "      <td>241</td>\n",
       "    </tr>\n",
       "    <tr>\n",
       "      <th>...</th>\n",
       "      <td>...</td>\n",
       "      <td>...</td>\n",
       "      <td>...</td>\n",
       "      <td>...</td>\n",
       "      <td>...</td>\n",
       "      <td>...</td>\n",
       "    </tr>\n",
       "    <tr>\n",
       "      <th>30</th>\n",
       "      <td>10033</td>\n",
       "      <td>8</td>\n",
       "      <td>21</td>\n",
       "      <td>0</td>\n",
       "      <td>0</td>\n",
       "      <td>29</td>\n",
       "    </tr>\n",
       "    <tr>\n",
       "      <th>36</th>\n",
       "      <td>10039</td>\n",
       "      <td>17</td>\n",
       "      <td>8</td>\n",
       "      <td>0</td>\n",
       "      <td>0</td>\n",
       "      <td>25</td>\n",
       "    </tr>\n",
       "    <tr>\n",
       "      <th>5</th>\n",
       "      <td>10006</td>\n",
       "      <td>5</td>\n",
       "      <td>18</td>\n",
       "      <td>1</td>\n",
       "      <td>0</td>\n",
       "      <td>24</td>\n",
       "    </tr>\n",
       "    <tr>\n",
       "      <th>34</th>\n",
       "      <td>10037</td>\n",
       "      <td>17</td>\n",
       "      <td>5</td>\n",
       "      <td>0</td>\n",
       "      <td>0</td>\n",
       "      <td>22</td>\n",
       "    </tr>\n",
       "    <tr>\n",
       "      <th>71</th>\n",
       "      <td>10455</td>\n",
       "      <td>12</td>\n",
       "      <td>9</td>\n",
       "      <td>0</td>\n",
       "      <td>0</td>\n",
       "      <td>21</td>\n",
       "    </tr>\n",
       "  </tbody>\n",
       "</table>\n",
       "<p>66 rows × 6 columns</p>\n",
       "</div>"
      ],
      "text/plain": [
       "    zip_codes  yelp_dollar_1  yelp_dollar_2  yelp_dollar_3  yelp_dollar_4  \\\n",
       "89      11211            130            229             17              1   \n",
       "85      11201             75            208             16              1   \n",
       "19      10022             54            156             55             19   \n",
       "11      10013             65            160             31             12   \n",
       "10      10012             41            155             37              8   \n",
       "..        ...            ...            ...            ...            ...   \n",
       "30      10033              8             21              0              0   \n",
       "36      10039             17              8              0              0   \n",
       "5       10006              5             18              1              0   \n",
       "34      10037             17              5              0              0   \n",
       "71      10455             12              9              0              0   \n",
       "\n",
       "    Total_Business  \n",
       "89             377  \n",
       "85             300  \n",
       "19             284  \n",
       "11             268  \n",
       "10             241  \n",
       "..             ...  \n",
       "30              29  \n",
       "36              25  \n",
       "5               24  \n",
       "34              22  \n",
       "71              21  \n",
       "\n",
       "[66 rows x 6 columns]"
      ]
     },
     "execution_count": 375,
     "metadata": {},
     "output_type": "execute_result"
    }
   ],
   "source": [
    "df_yelp_zips"
   ]
  },
  {
   "cell_type": "markdown",
   "metadata": {},
   "source": [
    "### IRS EDA"
   ]
  },
  {
   "cell_type": "markdown",
   "metadata": {},
   "source": [
    "As a means of defining allfuency, we gathered the information from [IRS Website](https://www.irs.gov/statistics/soi-tax-stats-individual-income-tax-statistics-2017-zip-code-data-soi) and pulled the State, Zip Code, Adjusted Gross Income Stub, and Adjusted Gross Income columns from the Data Set. "
   ]
  },
  {
   "cell_type": "code",
   "execution_count": 377,
   "metadata": {},
   "outputs": [],
   "source": [
    "##pandas to read file\n",
    "agi = pd.read_csv('../data/2017IRS.csv')"
   ]
  },
  {
   "cell_type": "code",
   "execution_count": 378,
   "metadata": {},
   "outputs": [
    {
     "data": {
      "text/html": [
       "<div>\n",
       "<style scoped>\n",
       "    .dataframe tbody tr th:only-of-type {\n",
       "        vertical-align: middle;\n",
       "    }\n",
       "\n",
       "    .dataframe tbody tr th {\n",
       "        vertical-align: top;\n",
       "    }\n",
       "\n",
       "    .dataframe thead th {\n",
       "        text-align: right;\n",
       "    }\n",
       "</style>\n",
       "<table border=\"1\" class=\"dataframe\">\n",
       "  <thead>\n",
       "    <tr style=\"text-align: right;\">\n",
       "      <th></th>\n",
       "      <th>STATEFIPS</th>\n",
       "      <th>STATE</th>\n",
       "      <th>zipcode</th>\n",
       "      <th>agi_stub</th>\n",
       "      <th>N1</th>\n",
       "      <th>mars1</th>\n",
       "      <th>MARS2</th>\n",
       "      <th>MARS4</th>\n",
       "      <th>ELF</th>\n",
       "      <th>CPREP</th>\n",
       "      <th>...</th>\n",
       "      <th>N85300</th>\n",
       "      <th>A85300</th>\n",
       "      <th>N11901</th>\n",
       "      <th>A11901</th>\n",
       "      <th>N11900</th>\n",
       "      <th>A11900</th>\n",
       "      <th>N11902</th>\n",
       "      <th>A11902</th>\n",
       "      <th>N12000</th>\n",
       "      <th>A12000</th>\n",
       "    </tr>\n",
       "  </thead>\n",
       "  <tbody>\n",
       "    <tr>\n",
       "      <th>0</th>\n",
       "      <td>1</td>\n",
       "      <td>AL</td>\n",
       "      <td>0</td>\n",
       "      <td>1</td>\n",
       "      <td>802640</td>\n",
       "      <td>474470</td>\n",
       "      <td>99850</td>\n",
       "      <td>216600</td>\n",
       "      <td>717050</td>\n",
       "      <td>44090</td>\n",
       "      <td>...</td>\n",
       "      <td>0</td>\n",
       "      <td>0</td>\n",
       "      <td>64680</td>\n",
       "      <td>53602</td>\n",
       "      <td>700940</td>\n",
       "      <td>1803125</td>\n",
       "      <td>698100</td>\n",
       "      <td>1796343</td>\n",
       "      <td>2860</td>\n",
       "      <td>4917</td>\n",
       "    </tr>\n",
       "    <tr>\n",
       "      <th>1</th>\n",
       "      <td>1</td>\n",
       "      <td>AL</td>\n",
       "      <td>0</td>\n",
       "      <td>2</td>\n",
       "      <td>499070</td>\n",
       "      <td>218590</td>\n",
       "      <td>137460</td>\n",
       "      <td>129760</td>\n",
       "      <td>448190</td>\n",
       "      <td>26230</td>\n",
       "      <td>...</td>\n",
       "      <td>0</td>\n",
       "      <td>0</td>\n",
       "      <td>77660</td>\n",
       "      <td>118725</td>\n",
       "      <td>419640</td>\n",
       "      <td>1175607</td>\n",
       "      <td>416180</td>\n",
       "      <td>1165352</td>\n",
       "      <td>4250</td>\n",
       "      <td>8894</td>\n",
       "    </tr>\n",
       "    <tr>\n",
       "      <th>2</th>\n",
       "      <td>1</td>\n",
       "      <td>AL</td>\n",
       "      <td>0</td>\n",
       "      <td>3</td>\n",
       "      <td>268590</td>\n",
       "      <td>89780</td>\n",
       "      <td>134440</td>\n",
       "      <td>38280</td>\n",
       "      <td>241060</td>\n",
       "      <td>14160</td>\n",
       "      <td>...</td>\n",
       "      <td>0</td>\n",
       "      <td>0</td>\n",
       "      <td>67820</td>\n",
       "      <td>156752</td>\n",
       "      <td>201030</td>\n",
       "      <td>560461</td>\n",
       "      <td>197060</td>\n",
       "      <td>547812</td>\n",
       "      <td>5440</td>\n",
       "      <td>13482</td>\n",
       "    </tr>\n",
       "    <tr>\n",
       "      <th>3</th>\n",
       "      <td>1</td>\n",
       "      <td>AL</td>\n",
       "      <td>0</td>\n",
       "      <td>4</td>\n",
       "      <td>170880</td>\n",
       "      <td>32180</td>\n",
       "      <td>124070</td>\n",
       "      <td>11660</td>\n",
       "      <td>154120</td>\n",
       "      <td>7980</td>\n",
       "      <td>...</td>\n",
       "      <td>0</td>\n",
       "      <td>0</td>\n",
       "      <td>48440</td>\n",
       "      <td>141721</td>\n",
       "      <td>121930</td>\n",
       "      <td>396526</td>\n",
       "      <td>118460</td>\n",
       "      <td>383588</td>\n",
       "      <td>3160</td>\n",
       "      <td>12369</td>\n",
       "    </tr>\n",
       "    <tr>\n",
       "      <th>4</th>\n",
       "      <td>1</td>\n",
       "      <td>AL</td>\n",
       "      <td>0</td>\n",
       "      <td>5</td>\n",
       "      <td>229870</td>\n",
       "      <td>22810</td>\n",
       "      <td>196990</td>\n",
       "      <td>5540</td>\n",
       "      <td>208380</td>\n",
       "      <td>11120</td>\n",
       "      <td>...</td>\n",
       "      <td>50</td>\n",
       "      <td>19</td>\n",
       "      <td>91100</td>\n",
       "      <td>465160</td>\n",
       "      <td>138250</td>\n",
       "      <td>588068</td>\n",
       "      <td>130970</td>\n",
       "      <td>529001</td>\n",
       "      <td>8430</td>\n",
       "      <td>55564</td>\n",
       "    </tr>\n",
       "  </tbody>\n",
       "</table>\n",
       "<p>5 rows × 153 columns</p>\n",
       "</div>"
      ],
      "text/plain": [
       "   STATEFIPS STATE  zipcode  agi_stub      N1   mars1   MARS2   MARS4     ELF  \\\n",
       "0          1    AL        0         1  802640  474470   99850  216600  717050   \n",
       "1          1    AL        0         2  499070  218590  137460  129760  448190   \n",
       "2          1    AL        0         3  268590   89780  134440   38280  241060   \n",
       "3          1    AL        0         4  170880   32180  124070   11660  154120   \n",
       "4          1    AL        0         5  229870   22810  196990    5540  208380   \n",
       "\n",
       "   CPREP  ...  N85300  A85300  N11901  A11901  N11900   A11900  N11902  \\\n",
       "0  44090  ...       0       0   64680   53602  700940  1803125  698100   \n",
       "1  26230  ...       0       0   77660  118725  419640  1175607  416180   \n",
       "2  14160  ...       0       0   67820  156752  201030   560461  197060   \n",
       "3   7980  ...       0       0   48440  141721  121930   396526  118460   \n",
       "4  11120  ...      50      19   91100  465160  138250   588068  130970   \n",
       "\n",
       "    A11902  N12000  A12000  \n",
       "0  1796343    2860    4917  \n",
       "1  1165352    4250    8894  \n",
       "2   547812    5440   13482  \n",
       "3   383588    3160   12369  \n",
       "4   529001    8430   55564  \n",
       "\n",
       "[5 rows x 153 columns]"
      ]
     },
     "execution_count": 378,
     "metadata": {},
     "output_type": "execute_result"
    }
   ],
   "source": [
    "##printsout top 5 rows\n",
    "agi.head()"
   ]
  },
  {
   "cell_type": "markdown",
   "metadata": {},
   "source": [
    "We are looking to assemble a list of all the zipcodes that we have in our yelp dataframe. We can use a set to order the list which will make it easier to locate"
   ]
  },
  {
   "cell_type": "code",
   "execution_count": 379,
   "metadata": {},
   "outputs": [],
   "source": [
    "#zip list through yelp dataframe 'zipcode' column\n",
    "yelp_zip = list(set(df_yelp['zip_codes']))"
   ]
  },
  {
   "cell_type": "markdown",
   "metadata": {},
   "source": [
    "We then pulled all the neccessary columns that we need to determine aflluency. Per the Data Dictionary on the IRS site, column 'A00100' is the column for Adjusted Gross Income."
   ]
  },
  {
   "cell_type": "code",
   "execution_count": 380,
   "metadata": {},
   "outputs": [],
   "source": [
    "#We determined that these are the only necessary columns that we need\n",
    "#as we are defining afflucne by AGI\n",
    "agi = agi[['STATE', 'zipcode', 'agi_stub', 'A00100']]"
   ]
  },
  {
   "cell_type": "code",
   "execution_count": 381,
   "metadata": {},
   "outputs": [
    {
     "data": {
      "text/html": [
       "<div>\n",
       "<style scoped>\n",
       "    .dataframe tbody tr th:only-of-type {\n",
       "        vertical-align: middle;\n",
       "    }\n",
       "\n",
       "    .dataframe tbody tr th {\n",
       "        vertical-align: top;\n",
       "    }\n",
       "\n",
       "    .dataframe thead th {\n",
       "        text-align: right;\n",
       "    }\n",
       "</style>\n",
       "<table border=\"1\" class=\"dataframe\">\n",
       "  <thead>\n",
       "    <tr style=\"text-align: right;\">\n",
       "      <th></th>\n",
       "      <th>STATE</th>\n",
       "      <th>zipcode</th>\n",
       "      <th>agi_stub</th>\n",
       "      <th>A00100</th>\n",
       "    </tr>\n",
       "  </thead>\n",
       "  <tbody>\n",
       "    <tr>\n",
       "      <th>0</th>\n",
       "      <td>AL</td>\n",
       "      <td>0</td>\n",
       "      <td>1</td>\n",
       "      <td>10467448</td>\n",
       "    </tr>\n",
       "    <tr>\n",
       "      <th>1</th>\n",
       "      <td>AL</td>\n",
       "      <td>0</td>\n",
       "      <td>2</td>\n",
       "      <td>17977581</td>\n",
       "    </tr>\n",
       "    <tr>\n",
       "      <th>2</th>\n",
       "      <td>AL</td>\n",
       "      <td>0</td>\n",
       "      <td>3</td>\n",
       "      <td>16502473</td>\n",
       "    </tr>\n",
       "    <tr>\n",
       "      <th>3</th>\n",
       "      <td>AL</td>\n",
       "      <td>0</td>\n",
       "      <td>4</td>\n",
       "      <td>14817087</td>\n",
       "    </tr>\n",
       "    <tr>\n",
       "      <th>4</th>\n",
       "      <td>AL</td>\n",
       "      <td>0</td>\n",
       "      <td>5</td>\n",
       "      <td>31131390</td>\n",
       "    </tr>\n",
       "  </tbody>\n",
       "</table>\n",
       "</div>"
      ],
      "text/plain": [
       "  STATE  zipcode  agi_stub    A00100\n",
       "0    AL        0         1  10467448\n",
       "1    AL        0         2  17977581\n",
       "2    AL        0         3  16502473\n",
       "3    AL        0         4  14817087\n",
       "4    AL        0         5  31131390"
      ]
     },
     "execution_count": 381,
     "metadata": {},
     "output_type": "execute_result"
    }
   ],
   "source": [
    "agi.head()"
   ]
  },
  {
   "cell_type": "markdown",
   "metadata": {},
   "source": [
    "We then wanted to loop the yelp zip codes that we pulled above through the IRS dataframe and pull the AGI stubs that had the value 6 as these are the values of the average aAGI for people who had an AGI over 200k as well as pull the sum of all of the AGI's for all the various thresholds."
   ]
  },
  {
   "cell_type": "code",
   "execution_count": 382,
   "metadata": {},
   "outputs": [],
   "source": [
    "## modified code from NY project 2\n",
    "high_values = [] #collect all the high values assembled in a list\n",
    "sum_values = [] #collect the total sum of the average AGI per threshold for each zipcode\n",
    "zips_in_irs = [] #collect list of all zipcodes that were pulled from IRS Dataset\n",
    "unidentified_zips= [] # list of allzipcodes that were in the yelp zip and not IRS Dataset\n",
    "for zips in yelp_zip:\n",
    "    try:\n",
    "        high_values.append(list(agi.loc[(agi['zipcode'] == zips) &(agi['agi_stub'] == 6),['A00100'][0]])[0])\n",
    "        sum_values.append(list(agi.loc[(agi['zipcode'] == zips),['A00100']].sum())[0])\n",
    "        zips_in_irs.append(zips)\n",
    "    except:\n",
    "        unidentified_zips.append(zips)\n",
    "        pass\n",
    "    "
   ]
  },
  {
   "cell_type": "code",
   "execution_count": 383,
   "metadata": {},
   "outputs": [
    {
     "name": "stdout",
     "output_type": "stream",
     "text": [
      "92\n",
      "92\n",
      "92\n"
     ]
    }
   ],
   "source": [
    "#ensure that all values pulled are the same length to be put in a Dataframe\n",
    "print (len(high_values))\n",
    "print(len(sum_values))\n",
    "print(len(zips_in_irs))"
   ]
  },
  {
   "cell_type": "markdown",
   "metadata": {},
   "source": [
    "(will talk about how we identify zip codes with no data)"
   ]
  },
  {
   "cell_type": "code",
   "execution_count": 384,
   "metadata": {},
   "outputs": [
    {
     "name": "stdout",
     "output_type": "stream",
     "text": [
      "[10270, 10271, 10279, 10281, 10285, 10286, 11371, 10020, 10041, 10080, 11121, 10103, 10111, 10112, 10118, 10119, 10120, 10121, 10154, 10158, 10166, 10168, 10169, 10175, 10176, 10177, 11249]\n"
     ]
    }
   ],
   "source": [
    "print(unidentified_zips)"
   ]
  },
  {
   "cell_type": "markdown",
   "metadata": {},
   "source": [
    "With the data that we pulled, we will now make a new DataFrame with the IRS Data and calculate affluency."
   ]
  },
  {
   "cell_type": "code",
   "execution_count": 385,
   "metadata": {},
   "outputs": [
    {
     "data": {
      "text/html": [
       "<div>\n",
       "<style scoped>\n",
       "    .dataframe tbody tr th:only-of-type {\n",
       "        vertical-align: middle;\n",
       "    }\n",
       "\n",
       "    .dataframe tbody tr th {\n",
       "        vertical-align: top;\n",
       "    }\n",
       "\n",
       "    .dataframe thead th {\n",
       "        text-align: right;\n",
       "    }\n",
       "</style>\n",
       "<table border=\"1\" class=\"dataframe\">\n",
       "  <thead>\n",
       "    <tr style=\"text-align: right;\">\n",
       "      <th></th>\n",
       "      <th>high_value</th>\n",
       "      <th>agi_sum</th>\n",
       "      <th>zip_codes</th>\n",
       "    </tr>\n",
       "  </thead>\n",
       "  <tbody>\n",
       "    <tr>\n",
       "      <th>0</th>\n",
       "      <td>673987</td>\n",
       "      <td>921774</td>\n",
       "      <td>10280</td>\n",
       "    </tr>\n",
       "    <tr>\n",
       "      <th>1</th>\n",
       "      <td>1389188</td>\n",
       "      <td>1472965</td>\n",
       "      <td>10282</td>\n",
       "    </tr>\n",
       "    <tr>\n",
       "      <th>2</th>\n",
       "      <td>138928</td>\n",
       "      <td>924696</td>\n",
       "      <td>83501</td>\n",
       "    </tr>\n",
       "    <tr>\n",
       "      <th>3</th>\n",
       "      <td>406468</td>\n",
       "      <td>1304009</td>\n",
       "      <td>10301</td>\n",
       "    </tr>\n",
       "    <tr>\n",
       "      <th>4</th>\n",
       "      <td>236994</td>\n",
       "      <td>1089205</td>\n",
       "      <td>10308</td>\n",
       "    </tr>\n",
       "    <tr>\n",
       "      <th>...</th>\n",
       "      <td>...</td>\n",
       "      <td>...</td>\n",
       "      <td>...</td>\n",
       "    </tr>\n",
       "    <tr>\n",
       "      <th>87</th>\n",
       "      <td>1729183</td>\n",
       "      <td>2648560</td>\n",
       "      <td>11231</td>\n",
       "    </tr>\n",
       "    <tr>\n",
       "      <th>88</th>\n",
       "      <td>79773</td>\n",
       "      <td>574471</td>\n",
       "      <td>11232</td>\n",
       "    </tr>\n",
       "    <tr>\n",
       "      <th>89</th>\n",
       "      <td>126049</td>\n",
       "      <td>1375259</td>\n",
       "      <td>11233</td>\n",
       "    </tr>\n",
       "    <tr>\n",
       "      <th>90</th>\n",
       "      <td>55406</td>\n",
       "      <td>956073</td>\n",
       "      <td>11237</td>\n",
       "    </tr>\n",
       "    <tr>\n",
       "      <th>91</th>\n",
       "      <td>1283320</td>\n",
       "      <td>3020929</td>\n",
       "      <td>11238</td>\n",
       "    </tr>\n",
       "  </tbody>\n",
       "</table>\n",
       "<p>92 rows × 3 columns</p>\n",
       "</div>"
      ],
      "text/plain": [
       "    high_value  agi_sum  zip_codes\n",
       "0       673987   921774      10280\n",
       "1      1389188  1472965      10282\n",
       "2       138928   924696      83501\n",
       "3       406468  1304009      10301\n",
       "4       236994  1089205      10308\n",
       "..         ...      ...        ...\n",
       "87     1729183  2648560      11231\n",
       "88       79773   574471      11232\n",
       "89      126049  1375259      11233\n",
       "90       55406   956073      11237\n",
       "91     1283320  3020929      11238\n",
       "\n",
       "[92 rows x 3 columns]"
      ]
     },
     "execution_count": 385,
     "metadata": {},
     "output_type": "execute_result"
    }
   ],
   "source": [
    "irs_df = pd.DataFrame(high_values)\n",
    "irs_df.rename(columns = {0:\"high_value\"}, inplace= True)\n",
    "irs_df[\"agi_sum\"] = sum_values\n",
    "irs_df['zip_codes'] = zips_in_irs\n",
    "irs_df"
   ]
  },
  {
   "cell_type": "markdown",
   "metadata": {},
   "source": [
    "Feature engineer affulency percentage column which will help us determine our affluency. We created a new column within the DataFrame 'aff_perc' which takes our 'high_value' column and divdes it by the 'agi_sum'column."
   ]
  },
  {
   "cell_type": "code",
   "execution_count": 386,
   "metadata": {},
   "outputs": [],
   "source": [
    "##setting new column with division of df columns\n",
    "irs_df['aff_perc'] = irs_df['high_value']/ irs_df['agi_sum']"
   ]
  },
  {
   "cell_type": "markdown",
   "metadata": {},
   "source": [
    "We show that affluency is determined by a neighborhood where 50% of the average summed AGI is determined by people who average agi is > 200k."
   ]
  },
  {
   "cell_type": "code",
   "execution_count": 387,
   "metadata": {},
   "outputs": [
    {
     "data": {
      "text/plain": [
       "False    59\n",
       "True     33\n",
       "Name: aff_perc, dtype: int64"
      ]
     },
     "execution_count": 387,
     "metadata": {},
     "output_type": "execute_result"
    }
   ],
   "source": [
    "## seeing how many affluent neighborhoods we calculated\n",
    "(irs_df['aff_perc'] >.5).value_counts()"
   ]
  },
  {
   "cell_type": "markdown",
   "metadata": {},
   "source": [
    "Save new IRS datafram to be uploaded later"
   ]
  },
  {
   "cell_type": "code",
   "execution_count": 388,
   "metadata": {},
   "outputs": [],
   "source": [
    "irs_df.to_csv('irs_data.csv', index=False)"
   ]
  },
  {
   "cell_type": "markdown",
   "metadata": {},
   "source": [
    "We will now join our yelp dataframe with the new irs dataframe based on zipcode"
   ]
  },
  {
   "cell_type": "code",
   "execution_count": 389,
   "metadata": {},
   "outputs": [],
   "source": [
    "#We merged the two tables on a left join\n",
    "df = pd.merge(left = df_yelp, \n",
    "         right = irs_df,\n",
    "              how='left',\n",
    "        on ='zip_codes')"
   ]
  },
  {
   "cell_type": "markdown",
   "metadata": {},
   "source": [
    "Develop a count for the zipcode per businss id"
   ]
  },
  {
   "cell_type": "code",
   "execution_count": 390,
   "metadata": {},
   "outputs": [
    {
     "data": {
      "text/html": [
       "<div>\n",
       "<style scoped>\n",
       "    .dataframe tbody tr th:only-of-type {\n",
       "        vertical-align: middle;\n",
       "    }\n",
       "\n",
       "    .dataframe tbody tr th {\n",
       "        vertical-align: top;\n",
       "    }\n",
       "\n",
       "    .dataframe thead th {\n",
       "        text-align: right;\n",
       "    }\n",
       "</style>\n",
       "<table border=\"1\" class=\"dataframe\">\n",
       "  <thead>\n",
       "    <tr style=\"text-align: right;\">\n",
       "      <th></th>\n",
       "      <th>state</th>\n",
       "      <th>city</th>\n",
       "      <th>zip_codes</th>\n",
       "      <th>latitude</th>\n",
       "      <th>longitude</th>\n",
       "      <th>id</th>\n",
       "      <th>name</th>\n",
       "      <th>review_count</th>\n",
       "      <th>categories</th>\n",
       "      <th>rating</th>\n",
       "      <th>price</th>\n",
       "      <th>high_value</th>\n",
       "      <th>agi_sum</th>\n",
       "      <th>aff_perc</th>\n",
       "      <th>count</th>\n",
       "    </tr>\n",
       "  </thead>\n",
       "  <tbody>\n",
       "    <tr>\n",
       "      <th>0</th>\n",
       "      <td>NY</td>\n",
       "      <td>New York</td>\n",
       "      <td>10017</td>\n",
       "      <td>40.751130</td>\n",
       "      <td>-73.973470</td>\n",
       "      <td>7EaiwMVaNdQibSs0yYkE5Q</td>\n",
       "      <td>Sushi Yasuda</td>\n",
       "      <td>2114</td>\n",
       "      <td>japanese</td>\n",
       "      <td>4.0</td>\n",
       "      <td>3</td>\n",
       "      <td>5233774.0</td>\n",
       "      <td>5902708.0</td>\n",
       "      <td>0.886673</td>\n",
       "      <td>152</td>\n",
       "    </tr>\n",
       "    <tr>\n",
       "      <th>1</th>\n",
       "      <td>NY</td>\n",
       "      <td>New York</td>\n",
       "      <td>10017</td>\n",
       "      <td>40.751647</td>\n",
       "      <td>-73.972949</td>\n",
       "      <td>7iY35991NhQ1AShJZCNZgA</td>\n",
       "      <td>Sakagura</td>\n",
       "      <td>1781</td>\n",
       "      <td>japanese</td>\n",
       "      <td>4.0</td>\n",
       "      <td>3</td>\n",
       "      <td>5233774.0</td>\n",
       "      <td>5902708.0</td>\n",
       "      <td>0.886673</td>\n",
       "      <td>152</td>\n",
       "    </tr>\n",
       "    <tr>\n",
       "      <th>2</th>\n",
       "      <td>NY</td>\n",
       "      <td>New York</td>\n",
       "      <td>10019</td>\n",
       "      <td>40.761854</td>\n",
       "      <td>-73.979363</td>\n",
       "      <td>xEnNFXtMLDF5kZDxfaCJgA</td>\n",
       "      <td>The Halal Guys</td>\n",
       "      <td>9296</td>\n",
       "      <td>foodstands,mideastern,halal</td>\n",
       "      <td>4.0</td>\n",
       "      <td>1</td>\n",
       "      <td>5785799.0</td>\n",
       "      <td>7220520.0</td>\n",
       "      <td>0.801299</td>\n",
       "      <td>209</td>\n",
       "    </tr>\n",
       "    <tr>\n",
       "      <th>3</th>\n",
       "      <td>NY</td>\n",
       "      <td>New York</td>\n",
       "      <td>10022</td>\n",
       "      <td>40.756301</td>\n",
       "      <td>-73.970370</td>\n",
       "      <td>c3eMI4_o4dPDDhPV_ibBYQ</td>\n",
       "      <td>Ess-a-Bagel</td>\n",
       "      <td>3549</td>\n",
       "      <td>bakeries,bagels,delis</td>\n",
       "      <td>4.0</td>\n",
       "      <td>1</td>\n",
       "      <td>10952261.0</td>\n",
       "      <td>12031917.0</td>\n",
       "      <td>0.910267</td>\n",
       "      <td>284</td>\n",
       "    </tr>\n",
       "    <tr>\n",
       "      <th>4</th>\n",
       "      <td>NY</td>\n",
       "      <td>New York</td>\n",
       "      <td>10016</td>\n",
       "      <td>40.749930</td>\n",
       "      <td>-73.977460</td>\n",
       "      <td>oTkzgr7hzOAdlP99Auj3GQ</td>\n",
       "      <td>Momosan Ramen &amp; Sake</td>\n",
       "      <td>1623</td>\n",
       "      <td>ramen,tapasmallplates</td>\n",
       "      <td>4.0</td>\n",
       "      <td>2</td>\n",
       "      <td>6400951.0</td>\n",
       "      <td>8331163.0</td>\n",
       "      <td>0.768314</td>\n",
       "      <td>197</td>\n",
       "    </tr>\n",
       "    <tr>\n",
       "      <th>...</th>\n",
       "      <td>...</td>\n",
       "      <td>...</td>\n",
       "      <td>...</td>\n",
       "      <td>...</td>\n",
       "      <td>...</td>\n",
       "      <td>...</td>\n",
       "      <td>...</td>\n",
       "      <td>...</td>\n",
       "      <td>...</td>\n",
       "      <td>...</td>\n",
       "      <td>...</td>\n",
       "      <td>...</td>\n",
       "      <td>...</td>\n",
       "      <td>...</td>\n",
       "      <td>...</td>\n",
       "    </tr>\n",
       "    <tr>\n",
       "      <th>8201</th>\n",
       "      <td>NY</td>\n",
       "      <td>New York</td>\n",
       "      <td>10029</td>\n",
       "      <td>40.792678</td>\n",
       "      <td>-73.945781</td>\n",
       "      <td>4OGtGzKP6fvRu7MfQMRSEQ</td>\n",
       "      <td>Hong Kong</td>\n",
       "      <td>14</td>\n",
       "      <td>chinese</td>\n",
       "      <td>3.5</td>\n",
       "      <td>2</td>\n",
       "      <td>594779.0</td>\n",
       "      <td>1890385.0</td>\n",
       "      <td>0.314634</td>\n",
       "      <td>143</td>\n",
       "    </tr>\n",
       "    <tr>\n",
       "      <th>8202</th>\n",
       "      <td>NY</td>\n",
       "      <td>New York</td>\n",
       "      <td>10029</td>\n",
       "      <td>40.788000</td>\n",
       "      <td>-73.941750</td>\n",
       "      <td>h7zUbQHTcCDHGY1jdyT8hg</td>\n",
       "      <td>White Castle</td>\n",
       "      <td>49</td>\n",
       "      <td>hotdogs,burgers</td>\n",
       "      <td>3.0</td>\n",
       "      <td>1</td>\n",
       "      <td>594779.0</td>\n",
       "      <td>1890385.0</td>\n",
       "      <td>0.314634</td>\n",
       "      <td>143</td>\n",
       "    </tr>\n",
       "    <tr>\n",
       "      <th>8203</th>\n",
       "      <td>NY</td>\n",
       "      <td>New York</td>\n",
       "      <td>10025</td>\n",
       "      <td>40.791819</td>\n",
       "      <td>-73.972065</td>\n",
       "      <td>X5HmML-G--nt4lc5VQC2uQ</td>\n",
       "      <td>New Asia</td>\n",
       "      <td>42</td>\n",
       "      <td>chinese</td>\n",
       "      <td>2.0</td>\n",
       "      <td>2</td>\n",
       "      <td>5088420.0</td>\n",
       "      <td>7336328.0</td>\n",
       "      <td>0.693592</td>\n",
       "      <td>203</td>\n",
       "    </tr>\n",
       "    <tr>\n",
       "      <th>8204</th>\n",
       "      <td>NY</td>\n",
       "      <td>New York</td>\n",
       "      <td>10128</td>\n",
       "      <td>40.782720</td>\n",
       "      <td>-73.948474</td>\n",
       "      <td>_wl1dO2MYqLoTI2GxIzIAA</td>\n",
       "      <td>Starbucks</td>\n",
       "      <td>28</td>\n",
       "      <td>coffee</td>\n",
       "      <td>3.5</td>\n",
       "      <td>1</td>\n",
       "      <td>10999781.0</td>\n",
       "      <td>12783790.0</td>\n",
       "      <td>0.860448</td>\n",
       "      <td>119</td>\n",
       "    </tr>\n",
       "    <tr>\n",
       "      <th>8205</th>\n",
       "      <td>NY</td>\n",
       "      <td>New York</td>\n",
       "      <td>10024</td>\n",
       "      <td>40.786253</td>\n",
       "      <td>-73.977853</td>\n",
       "      <td>gF4WOspnk9KkUWKDi0uS9g</td>\n",
       "      <td>Chipotle Mexican Grill</td>\n",
       "      <td>73</td>\n",
       "      <td>mexican,hotdogs</td>\n",
       "      <td>2.0</td>\n",
       "      <td>1</td>\n",
       "      <td>10469604.0</td>\n",
       "      <td>12001303.0</td>\n",
       "      <td>0.872372</td>\n",
       "      <td>150</td>\n",
       "    </tr>\n",
       "  </tbody>\n",
       "</table>\n",
       "<p>8206 rows × 15 columns</p>\n",
       "</div>"
      ],
      "text/plain": [
       "     state      city  zip_codes   latitude  longitude                      id  \\\n",
       "0       NY  New York      10017  40.751130 -73.973470  7EaiwMVaNdQibSs0yYkE5Q   \n",
       "1       NY  New York      10017  40.751647 -73.972949  7iY35991NhQ1AShJZCNZgA   \n",
       "2       NY  New York      10019  40.761854 -73.979363  xEnNFXtMLDF5kZDxfaCJgA   \n",
       "3       NY  New York      10022  40.756301 -73.970370  c3eMI4_o4dPDDhPV_ibBYQ   \n",
       "4       NY  New York      10016  40.749930 -73.977460  oTkzgr7hzOAdlP99Auj3GQ   \n",
       "...    ...       ...        ...        ...        ...                     ...   \n",
       "8201    NY  New York      10029  40.792678 -73.945781  4OGtGzKP6fvRu7MfQMRSEQ   \n",
       "8202    NY  New York      10029  40.788000 -73.941750  h7zUbQHTcCDHGY1jdyT8hg   \n",
       "8203    NY  New York      10025  40.791819 -73.972065  X5HmML-G--nt4lc5VQC2uQ   \n",
       "8204    NY  New York      10128  40.782720 -73.948474  _wl1dO2MYqLoTI2GxIzIAA   \n",
       "8205    NY  New York      10024  40.786253 -73.977853  gF4WOspnk9KkUWKDi0uS9g   \n",
       "\n",
       "                        name  review_count                   categories  \\\n",
       "0               Sushi Yasuda          2114                     japanese   \n",
       "1                   Sakagura          1781                     japanese   \n",
       "2             The Halal Guys          9296  foodstands,mideastern,halal   \n",
       "3                Ess-a-Bagel          3549        bakeries,bagels,delis   \n",
       "4       Momosan Ramen & Sake          1623        ramen,tapasmallplates   \n",
       "...                      ...           ...                          ...   \n",
       "8201               Hong Kong            14                      chinese   \n",
       "8202            White Castle            49              hotdogs,burgers   \n",
       "8203                New Asia            42                      chinese   \n",
       "8204               Starbucks            28                       coffee   \n",
       "8205  Chipotle Mexican Grill            73              mexican,hotdogs   \n",
       "\n",
       "      rating  price  high_value     agi_sum  aff_perc  count  \n",
       "0        4.0      3   5233774.0   5902708.0  0.886673    152  \n",
       "1        4.0      3   5233774.0   5902708.0  0.886673    152  \n",
       "2        4.0      1   5785799.0   7220520.0  0.801299    209  \n",
       "3        4.0      1  10952261.0  12031917.0  0.910267    284  \n",
       "4        4.0      2   6400951.0   8331163.0  0.768314    197  \n",
       "...      ...    ...         ...         ...       ...    ...  \n",
       "8201     3.5      2    594779.0   1890385.0  0.314634    143  \n",
       "8202     3.0      1    594779.0   1890385.0  0.314634    143  \n",
       "8203     2.0      2   5088420.0   7336328.0  0.693592    203  \n",
       "8204     3.5      1  10999781.0  12783790.0  0.860448    119  \n",
       "8205     2.0      1  10469604.0  12001303.0  0.872372    150  \n",
       "\n",
       "[8206 rows x 15 columns]"
      ]
     },
     "execution_count": 390,
     "metadata": {},
     "output_type": "execute_result"
    }
   ],
   "source": [
    "df['count'] = df.groupby('zip_codes')['zip_codes'].transform('count')\n",
    "df"
   ]
  },
  {
   "cell_type": "code",
   "execution_count": 391,
   "metadata": {},
   "outputs": [],
   "source": [
    "df['affluent'] = df['aff_perc'].map(lambda ttp: 1 if ttp >= .5 else 0 )\n"
   ]
  },
  {
   "cell_type": "code",
   "execution_count": 392,
   "metadata": {},
   "outputs": [
    {
     "data": {
      "text/html": [
       "<div>\n",
       "<style scoped>\n",
       "    .dataframe tbody tr th:only-of-type {\n",
       "        vertical-align: middle;\n",
       "    }\n",
       "\n",
       "    .dataframe tbody tr th {\n",
       "        vertical-align: top;\n",
       "    }\n",
       "\n",
       "    .dataframe thead th {\n",
       "        text-align: right;\n",
       "    }\n",
       "</style>\n",
       "<table border=\"1\" class=\"dataframe\">\n",
       "  <thead>\n",
       "    <tr style=\"text-align: right;\">\n",
       "      <th></th>\n",
       "      <th>state</th>\n",
       "      <th>city</th>\n",
       "      <th>zip_codes</th>\n",
       "      <th>latitude</th>\n",
       "      <th>longitude</th>\n",
       "      <th>id</th>\n",
       "      <th>name</th>\n",
       "      <th>review_count</th>\n",
       "      <th>categories</th>\n",
       "      <th>rating</th>\n",
       "      <th>price</th>\n",
       "      <th>high_value</th>\n",
       "      <th>agi_sum</th>\n",
       "      <th>aff_perc</th>\n",
       "      <th>count</th>\n",
       "      <th>affluent</th>\n",
       "    </tr>\n",
       "  </thead>\n",
       "  <tbody>\n",
       "    <tr>\n",
       "      <th>0</th>\n",
       "      <td>NY</td>\n",
       "      <td>New York</td>\n",
       "      <td>10017</td>\n",
       "      <td>40.751130</td>\n",
       "      <td>-73.973470</td>\n",
       "      <td>7EaiwMVaNdQibSs0yYkE5Q</td>\n",
       "      <td>Sushi Yasuda</td>\n",
       "      <td>2114</td>\n",
       "      <td>japanese</td>\n",
       "      <td>4.0</td>\n",
       "      <td>3</td>\n",
       "      <td>5233774.0</td>\n",
       "      <td>5902708.0</td>\n",
       "      <td>0.886673</td>\n",
       "      <td>152</td>\n",
       "      <td>1</td>\n",
       "    </tr>\n",
       "    <tr>\n",
       "      <th>1</th>\n",
       "      <td>NY</td>\n",
       "      <td>New York</td>\n",
       "      <td>10017</td>\n",
       "      <td>40.751647</td>\n",
       "      <td>-73.972949</td>\n",
       "      <td>7iY35991NhQ1AShJZCNZgA</td>\n",
       "      <td>Sakagura</td>\n",
       "      <td>1781</td>\n",
       "      <td>japanese</td>\n",
       "      <td>4.0</td>\n",
       "      <td>3</td>\n",
       "      <td>5233774.0</td>\n",
       "      <td>5902708.0</td>\n",
       "      <td>0.886673</td>\n",
       "      <td>152</td>\n",
       "      <td>1</td>\n",
       "    </tr>\n",
       "    <tr>\n",
       "      <th>2</th>\n",
       "      <td>NY</td>\n",
       "      <td>New York</td>\n",
       "      <td>10019</td>\n",
       "      <td>40.761854</td>\n",
       "      <td>-73.979363</td>\n",
       "      <td>xEnNFXtMLDF5kZDxfaCJgA</td>\n",
       "      <td>The Halal Guys</td>\n",
       "      <td>9296</td>\n",
       "      <td>foodstands,mideastern,halal</td>\n",
       "      <td>4.0</td>\n",
       "      <td>1</td>\n",
       "      <td>5785799.0</td>\n",
       "      <td>7220520.0</td>\n",
       "      <td>0.801299</td>\n",
       "      <td>209</td>\n",
       "      <td>1</td>\n",
       "    </tr>\n",
       "    <tr>\n",
       "      <th>3</th>\n",
       "      <td>NY</td>\n",
       "      <td>New York</td>\n",
       "      <td>10022</td>\n",
       "      <td>40.756301</td>\n",
       "      <td>-73.970370</td>\n",
       "      <td>c3eMI4_o4dPDDhPV_ibBYQ</td>\n",
       "      <td>Ess-a-Bagel</td>\n",
       "      <td>3549</td>\n",
       "      <td>bakeries,bagels,delis</td>\n",
       "      <td>4.0</td>\n",
       "      <td>1</td>\n",
       "      <td>10952261.0</td>\n",
       "      <td>12031917.0</td>\n",
       "      <td>0.910267</td>\n",
       "      <td>284</td>\n",
       "      <td>1</td>\n",
       "    </tr>\n",
       "    <tr>\n",
       "      <th>4</th>\n",
       "      <td>NY</td>\n",
       "      <td>New York</td>\n",
       "      <td>10016</td>\n",
       "      <td>40.749930</td>\n",
       "      <td>-73.977460</td>\n",
       "      <td>oTkzgr7hzOAdlP99Auj3GQ</td>\n",
       "      <td>Momosan Ramen &amp; Sake</td>\n",
       "      <td>1623</td>\n",
       "      <td>ramen,tapasmallplates</td>\n",
       "      <td>4.0</td>\n",
       "      <td>2</td>\n",
       "      <td>6400951.0</td>\n",
       "      <td>8331163.0</td>\n",
       "      <td>0.768314</td>\n",
       "      <td>197</td>\n",
       "      <td>1</td>\n",
       "    </tr>\n",
       "    <tr>\n",
       "      <th>...</th>\n",
       "      <td>...</td>\n",
       "      <td>...</td>\n",
       "      <td>...</td>\n",
       "      <td>...</td>\n",
       "      <td>...</td>\n",
       "      <td>...</td>\n",
       "      <td>...</td>\n",
       "      <td>...</td>\n",
       "      <td>...</td>\n",
       "      <td>...</td>\n",
       "      <td>...</td>\n",
       "      <td>...</td>\n",
       "      <td>...</td>\n",
       "      <td>...</td>\n",
       "      <td>...</td>\n",
       "      <td>...</td>\n",
       "    </tr>\n",
       "    <tr>\n",
       "      <th>8201</th>\n",
       "      <td>NY</td>\n",
       "      <td>New York</td>\n",
       "      <td>10029</td>\n",
       "      <td>40.792678</td>\n",
       "      <td>-73.945781</td>\n",
       "      <td>4OGtGzKP6fvRu7MfQMRSEQ</td>\n",
       "      <td>Hong Kong</td>\n",
       "      <td>14</td>\n",
       "      <td>chinese</td>\n",
       "      <td>3.5</td>\n",
       "      <td>2</td>\n",
       "      <td>594779.0</td>\n",
       "      <td>1890385.0</td>\n",
       "      <td>0.314634</td>\n",
       "      <td>143</td>\n",
       "      <td>0</td>\n",
       "    </tr>\n",
       "    <tr>\n",
       "      <th>8202</th>\n",
       "      <td>NY</td>\n",
       "      <td>New York</td>\n",
       "      <td>10029</td>\n",
       "      <td>40.788000</td>\n",
       "      <td>-73.941750</td>\n",
       "      <td>h7zUbQHTcCDHGY1jdyT8hg</td>\n",
       "      <td>White Castle</td>\n",
       "      <td>49</td>\n",
       "      <td>hotdogs,burgers</td>\n",
       "      <td>3.0</td>\n",
       "      <td>1</td>\n",
       "      <td>594779.0</td>\n",
       "      <td>1890385.0</td>\n",
       "      <td>0.314634</td>\n",
       "      <td>143</td>\n",
       "      <td>0</td>\n",
       "    </tr>\n",
       "    <tr>\n",
       "      <th>8203</th>\n",
       "      <td>NY</td>\n",
       "      <td>New York</td>\n",
       "      <td>10025</td>\n",
       "      <td>40.791819</td>\n",
       "      <td>-73.972065</td>\n",
       "      <td>X5HmML-G--nt4lc5VQC2uQ</td>\n",
       "      <td>New Asia</td>\n",
       "      <td>42</td>\n",
       "      <td>chinese</td>\n",
       "      <td>2.0</td>\n",
       "      <td>2</td>\n",
       "      <td>5088420.0</td>\n",
       "      <td>7336328.0</td>\n",
       "      <td>0.693592</td>\n",
       "      <td>203</td>\n",
       "      <td>1</td>\n",
       "    </tr>\n",
       "    <tr>\n",
       "      <th>8204</th>\n",
       "      <td>NY</td>\n",
       "      <td>New York</td>\n",
       "      <td>10128</td>\n",
       "      <td>40.782720</td>\n",
       "      <td>-73.948474</td>\n",
       "      <td>_wl1dO2MYqLoTI2GxIzIAA</td>\n",
       "      <td>Starbucks</td>\n",
       "      <td>28</td>\n",
       "      <td>coffee</td>\n",
       "      <td>3.5</td>\n",
       "      <td>1</td>\n",
       "      <td>10999781.0</td>\n",
       "      <td>12783790.0</td>\n",
       "      <td>0.860448</td>\n",
       "      <td>119</td>\n",
       "      <td>1</td>\n",
       "    </tr>\n",
       "    <tr>\n",
       "      <th>8205</th>\n",
       "      <td>NY</td>\n",
       "      <td>New York</td>\n",
       "      <td>10024</td>\n",
       "      <td>40.786253</td>\n",
       "      <td>-73.977853</td>\n",
       "      <td>gF4WOspnk9KkUWKDi0uS9g</td>\n",
       "      <td>Chipotle Mexican Grill</td>\n",
       "      <td>73</td>\n",
       "      <td>mexican,hotdogs</td>\n",
       "      <td>2.0</td>\n",
       "      <td>1</td>\n",
       "      <td>10469604.0</td>\n",
       "      <td>12001303.0</td>\n",
       "      <td>0.872372</td>\n",
       "      <td>150</td>\n",
       "      <td>1</td>\n",
       "    </tr>\n",
       "  </tbody>\n",
       "</table>\n",
       "<p>8206 rows × 16 columns</p>\n",
       "</div>"
      ],
      "text/plain": [
       "     state      city  zip_codes   latitude  longitude                      id  \\\n",
       "0       NY  New York      10017  40.751130 -73.973470  7EaiwMVaNdQibSs0yYkE5Q   \n",
       "1       NY  New York      10017  40.751647 -73.972949  7iY35991NhQ1AShJZCNZgA   \n",
       "2       NY  New York      10019  40.761854 -73.979363  xEnNFXtMLDF5kZDxfaCJgA   \n",
       "3       NY  New York      10022  40.756301 -73.970370  c3eMI4_o4dPDDhPV_ibBYQ   \n",
       "4       NY  New York      10016  40.749930 -73.977460  oTkzgr7hzOAdlP99Auj3GQ   \n",
       "...    ...       ...        ...        ...        ...                     ...   \n",
       "8201    NY  New York      10029  40.792678 -73.945781  4OGtGzKP6fvRu7MfQMRSEQ   \n",
       "8202    NY  New York      10029  40.788000 -73.941750  h7zUbQHTcCDHGY1jdyT8hg   \n",
       "8203    NY  New York      10025  40.791819 -73.972065  X5HmML-G--nt4lc5VQC2uQ   \n",
       "8204    NY  New York      10128  40.782720 -73.948474  _wl1dO2MYqLoTI2GxIzIAA   \n",
       "8205    NY  New York      10024  40.786253 -73.977853  gF4WOspnk9KkUWKDi0uS9g   \n",
       "\n",
       "                        name  review_count                   categories  \\\n",
       "0               Sushi Yasuda          2114                     japanese   \n",
       "1                   Sakagura          1781                     japanese   \n",
       "2             The Halal Guys          9296  foodstands,mideastern,halal   \n",
       "3                Ess-a-Bagel          3549        bakeries,bagels,delis   \n",
       "4       Momosan Ramen & Sake          1623        ramen,tapasmallplates   \n",
       "...                      ...           ...                          ...   \n",
       "8201               Hong Kong            14                      chinese   \n",
       "8202            White Castle            49              hotdogs,burgers   \n",
       "8203                New Asia            42                      chinese   \n",
       "8204               Starbucks            28                       coffee   \n",
       "8205  Chipotle Mexican Grill            73              mexican,hotdogs   \n",
       "\n",
       "      rating  price  high_value     agi_sum  aff_perc  count  affluent  \n",
       "0        4.0      3   5233774.0   5902708.0  0.886673    152         1  \n",
       "1        4.0      3   5233774.0   5902708.0  0.886673    152         1  \n",
       "2        4.0      1   5785799.0   7220520.0  0.801299    209         1  \n",
       "3        4.0      1  10952261.0  12031917.0  0.910267    284         1  \n",
       "4        4.0      2   6400951.0   8331163.0  0.768314    197         1  \n",
       "...      ...    ...         ...         ...       ...    ...       ...  \n",
       "8201     3.5      2    594779.0   1890385.0  0.314634    143         0  \n",
       "8202     3.0      1    594779.0   1890385.0  0.314634    143         0  \n",
       "8203     2.0      2   5088420.0   7336328.0  0.693592    203         1  \n",
       "8204     3.5      1  10999781.0  12783790.0  0.860448    119         1  \n",
       "8205     2.0      1  10469604.0  12001303.0  0.872372    150         1  \n",
       "\n",
       "[8206 rows x 16 columns]"
      ]
     },
     "execution_count": 392,
     "metadata": {},
     "output_type": "execute_result"
    }
   ],
   "source": [
    "df"
   ]
  },
  {
   "cell_type": "code",
   "execution_count": 430,
   "metadata": {},
   "outputs": [
    {
     "data": {
      "text/html": [
       "<div>\n",
       "<style scoped>\n",
       "    .dataframe tbody tr th:only-of-type {\n",
       "        vertical-align: middle;\n",
       "    }\n",
       "\n",
       "    .dataframe tbody tr th {\n",
       "        vertical-align: top;\n",
       "    }\n",
       "\n",
       "    .dataframe thead th {\n",
       "        text-align: right;\n",
       "    }\n",
       "</style>\n",
       "<table border=\"1\" class=\"dataframe\">\n",
       "  <thead>\n",
       "    <tr style=\"text-align: right;\">\n",
       "      <th></th>\n",
       "      <th>state</th>\n",
       "      <th>city</th>\n",
       "      <th>zip_codes</th>\n",
       "      <th>latitude</th>\n",
       "      <th>longitude</th>\n",
       "      <th>id</th>\n",
       "      <th>name</th>\n",
       "      <th>review_count</th>\n",
       "      <th>categories</th>\n",
       "      <th>rating</th>\n",
       "      <th>price</th>\n",
       "      <th>high_value</th>\n",
       "      <th>agi_sum</th>\n",
       "      <th>aff_perc</th>\n",
       "      <th>count</th>\n",
       "      <th>affluent</th>\n",
       "      <th>has_tj</th>\n",
       "      <th>has_equinox</th>\n",
       "    </tr>\n",
       "  </thead>\n",
       "  <tbody>\n",
       "    <tr>\n",
       "      <th>0</th>\n",
       "      <td>NY</td>\n",
       "      <td>New York</td>\n",
       "      <td>10017</td>\n",
       "      <td>40.751130</td>\n",
       "      <td>-73.973470</td>\n",
       "      <td>7EaiwMVaNdQibSs0yYkE5Q</td>\n",
       "      <td>Sushi Yasuda</td>\n",
       "      <td>2114</td>\n",
       "      <td>japanese</td>\n",
       "      <td>4.0</td>\n",
       "      <td>3</td>\n",
       "      <td>5233774.0</td>\n",
       "      <td>5902708.0</td>\n",
       "      <td>0.886673</td>\n",
       "      <td>152</td>\n",
       "      <td>1</td>\n",
       "      <td>0</td>\n",
       "      <td>0</td>\n",
       "    </tr>\n",
       "    <tr>\n",
       "      <th>1</th>\n",
       "      <td>NY</td>\n",
       "      <td>New York</td>\n",
       "      <td>10017</td>\n",
       "      <td>40.751647</td>\n",
       "      <td>-73.972949</td>\n",
       "      <td>7iY35991NhQ1AShJZCNZgA</td>\n",
       "      <td>Sakagura</td>\n",
       "      <td>1781</td>\n",
       "      <td>japanese</td>\n",
       "      <td>4.0</td>\n",
       "      <td>3</td>\n",
       "      <td>5233774.0</td>\n",
       "      <td>5902708.0</td>\n",
       "      <td>0.886673</td>\n",
       "      <td>152</td>\n",
       "      <td>1</td>\n",
       "      <td>0</td>\n",
       "      <td>0</td>\n",
       "    </tr>\n",
       "    <tr>\n",
       "      <th>2</th>\n",
       "      <td>NY</td>\n",
       "      <td>New York</td>\n",
       "      <td>10019</td>\n",
       "      <td>40.761854</td>\n",
       "      <td>-73.979363</td>\n",
       "      <td>xEnNFXtMLDF5kZDxfaCJgA</td>\n",
       "      <td>The Halal Guys</td>\n",
       "      <td>9296</td>\n",
       "      <td>foodstands,mideastern,halal</td>\n",
       "      <td>4.0</td>\n",
       "      <td>1</td>\n",
       "      <td>5785799.0</td>\n",
       "      <td>7220520.0</td>\n",
       "      <td>0.801299</td>\n",
       "      <td>209</td>\n",
       "      <td>1</td>\n",
       "      <td>0</td>\n",
       "      <td>1</td>\n",
       "    </tr>\n",
       "    <tr>\n",
       "      <th>3</th>\n",
       "      <td>NY</td>\n",
       "      <td>New York</td>\n",
       "      <td>10022</td>\n",
       "      <td>40.756301</td>\n",
       "      <td>-73.970370</td>\n",
       "      <td>c3eMI4_o4dPDDhPV_ibBYQ</td>\n",
       "      <td>Ess-a-Bagel</td>\n",
       "      <td>3549</td>\n",
       "      <td>bakeries,bagels,delis</td>\n",
       "      <td>4.0</td>\n",
       "      <td>1</td>\n",
       "      <td>10952261.0</td>\n",
       "      <td>12031917.0</td>\n",
       "      <td>0.910267</td>\n",
       "      <td>284</td>\n",
       "      <td>1</td>\n",
       "      <td>0</td>\n",
       "      <td>0</td>\n",
       "    </tr>\n",
       "    <tr>\n",
       "      <th>4</th>\n",
       "      <td>NY</td>\n",
       "      <td>New York</td>\n",
       "      <td>10016</td>\n",
       "      <td>40.749930</td>\n",
       "      <td>-73.977460</td>\n",
       "      <td>oTkzgr7hzOAdlP99Auj3GQ</td>\n",
       "      <td>Momosan Ramen &amp; Sake</td>\n",
       "      <td>1623</td>\n",
       "      <td>ramen,tapasmallplates</td>\n",
       "      <td>4.0</td>\n",
       "      <td>2</td>\n",
       "      <td>6400951.0</td>\n",
       "      <td>8331163.0</td>\n",
       "      <td>0.768314</td>\n",
       "      <td>197</td>\n",
       "      <td>1</td>\n",
       "      <td>1</td>\n",
       "      <td>1</td>\n",
       "    </tr>\n",
       "  </tbody>\n",
       "</table>\n",
       "</div>"
      ],
      "text/plain": [
       "  state      city  zip_codes   latitude  longitude                      id  \\\n",
       "0    NY  New York      10017  40.751130 -73.973470  7EaiwMVaNdQibSs0yYkE5Q   \n",
       "1    NY  New York      10017  40.751647 -73.972949  7iY35991NhQ1AShJZCNZgA   \n",
       "2    NY  New York      10019  40.761854 -73.979363  xEnNFXtMLDF5kZDxfaCJgA   \n",
       "3    NY  New York      10022  40.756301 -73.970370  c3eMI4_o4dPDDhPV_ibBYQ   \n",
       "4    NY  New York      10016  40.749930 -73.977460  oTkzgr7hzOAdlP99Auj3GQ   \n",
       "\n",
       "                   name  review_count                   categories  rating  \\\n",
       "0          Sushi Yasuda          2114                     japanese     4.0   \n",
       "1              Sakagura          1781                     japanese     4.0   \n",
       "2        The Halal Guys          9296  foodstands,mideastern,halal     4.0   \n",
       "3           Ess-a-Bagel          3549        bakeries,bagels,delis     4.0   \n",
       "4  Momosan Ramen & Sake          1623        ramen,tapasmallplates     4.0   \n",
       "\n",
       "   price  high_value     agi_sum  aff_perc  count  affluent  has_tj  \\\n",
       "0      3   5233774.0   5902708.0  0.886673    152         1       0   \n",
       "1      3   5233774.0   5902708.0  0.886673    152         1       0   \n",
       "2      1   5785799.0   7220520.0  0.801299    209         1       0   \n",
       "3      1  10952261.0  12031917.0  0.910267    284         1       0   \n",
       "4      2   6400951.0   8331163.0  0.768314    197         1       1   \n",
       "\n",
       "   has_equinox  \n",
       "0            0  \n",
       "1            0  \n",
       "2            1  \n",
       "3            0  \n",
       "4            1  "
      ]
     },
     "execution_count": 430,
     "metadata": {},
     "output_type": "execute_result"
    }
   ],
   "source": [
    "df.head()"
   ]
  },
  {
   "cell_type": "markdown",
   "metadata": {},
   "source": [
    "Create a pivot table grouped by zipcode and price to illustrate price versus aff_perc and agi_sum"
   ]
  },
  {
   "cell_type": "code",
   "execution_count": 393,
   "metadata": {},
   "outputs": [
    {
     "data": {
      "text/html": [
       "<div>\n",
       "<style scoped>\n",
       "    .dataframe tbody tr th:only-of-type {\n",
       "        vertical-align: middle;\n",
       "    }\n",
       "\n",
       "    .dataframe tbody tr th {\n",
       "        vertical-align: top;\n",
       "    }\n",
       "\n",
       "    .dataframe thead th {\n",
       "        text-align: right;\n",
       "    }\n",
       "</style>\n",
       "<table border=\"1\" class=\"dataframe\">\n",
       "  <thead>\n",
       "    <tr style=\"text-align: right;\">\n",
       "      <th></th>\n",
       "      <th>zip_codes</th>\n",
       "      <th>price</th>\n",
       "      <th>aff_perc</th>\n",
       "      <th>affluent</th>\n",
       "      <th>agi_sum</th>\n",
       "      <th>count</th>\n",
       "      <th>high_value</th>\n",
       "      <th>latitude</th>\n",
       "      <th>longitude</th>\n",
       "      <th>rating</th>\n",
       "      <th>review_count</th>\n",
       "    </tr>\n",
       "  </thead>\n",
       "  <tbody>\n",
       "    <tr>\n",
       "      <th>0</th>\n",
       "      <td>10001</td>\n",
       "      <td>1</td>\n",
       "      <td>0.711868</td>\n",
       "      <td>1</td>\n",
       "      <td>2785807.0</td>\n",
       "      <td>175</td>\n",
       "      <td>1983127.0</td>\n",
       "      <td>40.750295</td>\n",
       "      <td>-73.990563</td>\n",
       "      <td>4.189655</td>\n",
       "      <td>556.655172</td>\n",
       "    </tr>\n",
       "    <tr>\n",
       "      <th>1</th>\n",
       "      <td>10001</td>\n",
       "      <td>2</td>\n",
       "      <td>0.711868</td>\n",
       "      <td>1</td>\n",
       "      <td>2785807.0</td>\n",
       "      <td>175</td>\n",
       "      <td>1983127.0</td>\n",
       "      <td>40.749050</td>\n",
       "      <td>-73.990662</td>\n",
       "      <td>3.885827</td>\n",
       "      <td>567.944882</td>\n",
       "    </tr>\n",
       "    <tr>\n",
       "      <th>2</th>\n",
       "      <td>10001</td>\n",
       "      <td>3</td>\n",
       "      <td>0.711868</td>\n",
       "      <td>1</td>\n",
       "      <td>2785807.0</td>\n",
       "      <td>175</td>\n",
       "      <td>1983127.0</td>\n",
       "      <td>40.748957</td>\n",
       "      <td>-73.995040</td>\n",
       "      <td>3.777778</td>\n",
       "      <td>619.222222</td>\n",
       "    </tr>\n",
       "    <tr>\n",
       "      <th>3</th>\n",
       "      <td>10001</td>\n",
       "      <td>4</td>\n",
       "      <td>0.711868</td>\n",
       "      <td>1</td>\n",
       "      <td>2785807.0</td>\n",
       "      <td>175</td>\n",
       "      <td>1983127.0</td>\n",
       "      <td>40.753670</td>\n",
       "      <td>-73.995490</td>\n",
       "      <td>3.500000</td>\n",
       "      <td>523.000000</td>\n",
       "    </tr>\n",
       "    <tr>\n",
       "      <th>4</th>\n",
       "      <td>10002</td>\n",
       "      <td>1</td>\n",
       "      <td>0.343110</td>\n",
       "      <td>0</td>\n",
       "      <td>2489499.0</td>\n",
       "      <td>171</td>\n",
       "      <td>854172.0</td>\n",
       "      <td>40.717381</td>\n",
       "      <td>-73.991001</td>\n",
       "      <td>4.192982</td>\n",
       "      <td>452.596491</td>\n",
       "    </tr>\n",
       "  </tbody>\n",
       "</table>\n",
       "</div>"
      ],
      "text/plain": [
       "   zip_codes  price  aff_perc  affluent    agi_sum  count  high_value  \\\n",
       "0      10001      1  0.711868         1  2785807.0    175   1983127.0   \n",
       "1      10001      2  0.711868         1  2785807.0    175   1983127.0   \n",
       "2      10001      3  0.711868         1  2785807.0    175   1983127.0   \n",
       "3      10001      4  0.711868         1  2785807.0    175   1983127.0   \n",
       "4      10002      1  0.343110         0  2489499.0    171    854172.0   \n",
       "\n",
       "    latitude  longitude    rating  review_count  \n",
       "0  40.750295 -73.990563  4.189655    556.655172  \n",
       "1  40.749050 -73.990662  3.885827    567.944882  \n",
       "2  40.748957 -73.995040  3.777778    619.222222  \n",
       "3  40.753670 -73.995490  3.500000    523.000000  \n",
       "4  40.717381 -73.991001  4.192982    452.596491  "
      ]
     },
     "execution_count": 393,
     "metadata": {},
     "output_type": "execute_result"
    }
   ],
   "source": [
    "df_zipcode = df.pivot_table(index = ['zip_codes', 'price']\n",
    "                           ).reset_index()\n",
    "\n",
    "df_zipcode.head()"
   ]
  },
  {
   "cell_type": "markdown",
   "metadata": {},
   "source": [
    "Plot out the top 10 most affluent zip codes"
   ]
  },
  {
   "cell_type": "code",
   "execution_count": 394,
   "metadata": {
    "scrolled": true
   },
   "outputs": [
    {
     "data": {
      "text/html": [
       "<div>\n",
       "<style scoped>\n",
       "    .dataframe tbody tr th:only-of-type {\n",
       "        vertical-align: middle;\n",
       "    }\n",
       "\n",
       "    .dataframe tbody tr th {\n",
       "        vertical-align: top;\n",
       "    }\n",
       "\n",
       "    .dataframe thead th {\n",
       "        text-align: right;\n",
       "    }\n",
       "</style>\n",
       "<table border=\"1\" class=\"dataframe\">\n",
       "  <thead>\n",
       "    <tr style=\"text-align: right;\">\n",
       "      <th></th>\n",
       "      <th>zip_codes</th>\n",
       "      <th>aff_perc</th>\n",
       "    </tr>\n",
       "  </thead>\n",
       "  <tbody>\n",
       "    <tr>\n",
       "      <th>0</th>\n",
       "      <td>10282</td>\n",
       "      <td>0.943124</td>\n",
       "    </tr>\n",
       "    <tr>\n",
       "      <th>1</th>\n",
       "      <td>10282</td>\n",
       "      <td>0.943124</td>\n",
       "    </tr>\n",
       "    <tr>\n",
       "      <th>2</th>\n",
       "      <td>10007</td>\n",
       "      <td>0.941041</td>\n",
       "    </tr>\n",
       "    <tr>\n",
       "      <th>3</th>\n",
       "      <td>10007</td>\n",
       "      <td>0.941041</td>\n",
       "    </tr>\n",
       "    <tr>\n",
       "      <th>4</th>\n",
       "      <td>10007</td>\n",
       "      <td>0.941041</td>\n",
       "    </tr>\n",
       "    <tr>\n",
       "      <th>...</th>\n",
       "      <td>...</td>\n",
       "      <td>...</td>\n",
       "    </tr>\n",
       "    <tr>\n",
       "      <th>294</th>\n",
       "      <td>11249</td>\n",
       "      <td>NaN</td>\n",
       "    </tr>\n",
       "    <tr>\n",
       "      <th>295</th>\n",
       "      <td>11249</td>\n",
       "      <td>NaN</td>\n",
       "    </tr>\n",
       "    <tr>\n",
       "      <th>296</th>\n",
       "      <td>11249</td>\n",
       "      <td>NaN</td>\n",
       "    </tr>\n",
       "    <tr>\n",
       "      <th>297</th>\n",
       "      <td>11249</td>\n",
       "      <td>NaN</td>\n",
       "    </tr>\n",
       "    <tr>\n",
       "      <th>298</th>\n",
       "      <td>11371</td>\n",
       "      <td>NaN</td>\n",
       "    </tr>\n",
       "  </tbody>\n",
       "</table>\n",
       "<p>299 rows × 2 columns</p>\n",
       "</div>"
      ],
      "text/plain": [
       "     zip_codes  aff_perc\n",
       "0        10282  0.943124\n",
       "1        10282  0.943124\n",
       "2        10007  0.941041\n",
       "3        10007  0.941041\n",
       "4        10007  0.941041\n",
       "..         ...       ...\n",
       "294      11249       NaN\n",
       "295      11249       NaN\n",
       "296      11249       NaN\n",
       "297      11249       NaN\n",
       "298      11371       NaN\n",
       "\n",
       "[299 rows x 2 columns]"
      ]
     },
     "execution_count": 394,
     "metadata": {},
     "output_type": "execute_result"
    }
   ],
   "source": [
    "df_top5 = df_zipcode[['zip_codes', 'aff_perc']].sort_values('aff_perc', ascending = False)\n",
    "\n",
    "df_top5.reset_index(drop=True, inplace=True)\n",
    "\n",
    "df_top5"
   ]
  },
  {
   "cell_type": "code",
   "execution_count": null,
   "metadata": {},
   "outputs": [],
   "source": []
  },
  {
   "cell_type": "markdown",
   "metadata": {},
   "source": [
    "Cleaning data points with longitudes and latitudes outside of the New York City range. \n",
    "\n",
    "When looking a a quick scatterplot"
   ]
  },
  {
   "cell_type": "code",
   "execution_count": 395,
   "metadata": {},
   "outputs": [
    {
     "data": {
      "image/png": "[encoded data removed]",
      "text/plain": [
       "<Figure size 1008x720 with 2 Axes>"
      ]
     },
     "metadata": {
      "needs_background": "light"
     },
     "output_type": "display_data"
    }
   ],
   "source": [
    "# Where are the highly prices houses?\n",
    "df.plot(kind=\"scatter\", x= 'longitude', y='latitude', c=\"price\",\n",
    "         cmap=\"inferno\", figsize=(14, 10), s=2);"
   ]
  },
  {
   "cell_type": "code",
   "execution_count": 396,
   "metadata": {},
   "outputs": [
    {
     "name": "stdout",
     "output_type": "stream",
     "text": [
      "1318 -73.76961\n",
      "1369 40.6189964711666\n",
      "1609 40.91594\n",
      "1612 -73.7775943\n",
      "1662 -73.23874\n"
     ]
    }
   ],
   "source": [
    "for i in range(0,6542):\n",
    "    if df.iloc[i]['longitude'] >-73.8:\n",
    "        print (i,df.iloc[i]['longitude'])\n",
    "    elif df.iloc[i]['latitude'] > 40.80 or df.iloc[i]['latitude'] < 40.65:\n",
    "         print (i,df.iloc[i]['latitude'])"
   ]
  },
  {
   "cell_type": "code",
   "execution_count": 397,
   "metadata": {},
   "outputs": [],
   "source": [
    "#droping all the rows with all these geographic outliers:\n",
    "df.drop([df.index[1318] , df.index[1612], df.index[1662], df.index[1369], df.index[1609]], inplace=True)"
   ]
  },
  {
   "cell_type": "code",
   "execution_count": 398,
   "metadata": {},
   "outputs": [
    {
     "data": {
      "image/png": "[encoded data removed]",
      "text/plain": [
       "<Figure size 1008x720 with 2 Axes>"
      ]
     },
     "metadata": {
      "needs_background": "light"
     },
     "output_type": "display_data"
    }
   ],
   "source": [
    "# Where are the highly prices houses?\n",
    "df.plot(kind=\"scatter\", x= 'longitude', y='latitude', c=\"price\",\n",
    "         cmap=\"inferno\", figsize=(14, 10), s=2);"
   ]
  },
  {
   "cell_type": "code",
   "execution_count": 399,
   "metadata": {},
   "outputs": [
    {
     "data": {
      "text/plain": [
       "state             0\n",
       "city              0\n",
       "zip_codes         0\n",
       "latitude          0\n",
       "longitude         0\n",
       "id                0\n",
       "name              0\n",
       "review_count      0\n",
       "categories        0\n",
       "rating            0\n",
       "price             0\n",
       "high_value      176\n",
       "agi_sum         176\n",
       "aff_perc        176\n",
       "count             0\n",
       "affluent          0\n",
       "dtype: int64"
      ]
     },
     "execution_count": 399,
     "metadata": {},
     "output_type": "execute_result"
    }
   ],
   "source": [
    "df.isnull().sum()"
   ]
  },
  {
   "cell_type": "code",
   "execution_count": 400,
   "metadata": {},
   "outputs": [],
   "source": [
    "df.dropna(inplace = True)"
   ]
  },
  {
   "cell_type": "code",
   "execution_count": 401,
   "metadata": {},
   "outputs": [
    {
     "data": {
      "text/plain": [
       "(8025, 16)"
      ]
     },
     "execution_count": 401,
     "metadata": {},
     "output_type": "execute_result"
    }
   ],
   "source": [
    "df.shape"
   ]
  },
  {
   "cell_type": "code",
   "execution_count": 507,
   "metadata": {},
   "outputs": [
    {
     "data": {
      "text/plain": [
       "(14.0, 0.0)"
      ]
     },
     "execution_count": 507,
     "metadata": {},
     "output_type": "execute_result"
    },
    {
     "data": {
      "image/png": "[encoded data removed]",
      "text/plain": [
       "<Figure size 864x864 with 2 Axes>"
      ]
     },
     "metadata": {
      "needs_background": "light"
     },
     "output_type": "display_data"
    }
   ],
   "source": [
    "plt.figure(figsize=(12,12))\n",
    "plt.title(\"Correlation Matrix\")\n",
    "sns.heatmap(df.corr()[['affluent']].sort_values('affluent', ascending = False).head(15), \n",
    "            annot = True, cmap = \"coolwarm\", vmax = 1, vmin = -1)\n",
    "b, t = plt.ylim() \n",
    "b += 0.5 \n",
    "t -= 0.5 \n",
    "plt.ylim(b, t) "
   ]
  },
  {
   "cell_type": "markdown",
   "metadata": {},
   "source": [
    "## Featured engineering - clustering "
   ]
  },
  {
   "cell_type": "markdown",
   "metadata": {},
   "source": [
    "For Featured Engineering, we addded 3 new columns : \n",
    "1. has_tj\n",
    "1. has_equniox\n",
    "1. clusters\n"
   ]
  },
  {
   "cell_type": "markdown",
   "metadata": {},
   "source": [
    "Based on subject knowledge information and living in New York, we know that Equinox gym is an upper class gym located in more falutent area to attract a more wealthy customer. Similar with Trader Joes, Trader Joes has locations in well populated and upperclass areas that have a lot of foot traffic and is also located in upper class areas. We determined that these would be a good factor in determining affluency of an area."
   ]
  },
  {
   "cell_type": "code",
   "execution_count": 427,
   "metadata": {},
   "outputs": [],
   "source": [
    "trader_joe = [10023, 10002, 10003, 10016, 10010, 10009, 10013, 10025]\n",
    "equinox = [10019, 10007, 10005, 10281, 10012, 11201, 10002, 10014, 11021, 10014, 10003, 10011, 10010, 11211, 10016, 10001, 10036, 10175]"
   ]
  },
  {
   "cell_type": "code",
   "execution_count": 428,
   "metadata": {},
   "outputs": [],
   "source": [
    "df['has_tj'] = df['zip_codes'].map(lambda has_it: 1 if has_it in trader_joe else 0)"
   ]
  },
  {
   "cell_type": "code",
   "execution_count": 429,
   "metadata": {},
   "outputs": [],
   "source": [
    "df['has_equinox'] = df['zip_codes'].map(lambda has_it: 1 if has_it in equinox else 0)"
   ]
  },
  {
   "cell_type": "code",
   "execution_count": 402,
   "metadata": {},
   "outputs": [
    {
     "data": {
      "text/plain": [
       "Index(['state', 'city', 'zip_codes', 'latitude', 'longitude', 'id', 'name',\n",
       "       'review_count', 'categories', 'rating', 'price', 'high_value',\n",
       "       'agi_sum', 'aff_perc', 'count', 'affluent'],\n",
       "      dtype='object')"
      ]
     },
     "execution_count": 402,
     "metadata": {},
     "output_type": "execute_result"
    }
   ],
   "source": [
    "df.columns"
   ]
  },
  {
   "cell_type": "code",
   "execution_count": 443,
   "metadata": {},
   "outputs": [],
   "source": [
    "geo = df[['longitude', 'latitude']]"
   ]
  },
  {
   "cell_type": "code",
   "execution_count": 457,
   "metadata": {},
   "outputs": [],
   "source": [
    "scores = []\n",
    "for k in range(2,31):\n",
    "    cl = KMeans(n_clusters=k, random_state = 100)\n",
    "    cl.fit(geo)\n",
    "    inertia = cl.inertia_\n",
    "    sil = silhouette_score(geo, cl.labels_)\n",
    "    scores.append((k, inertia, sil))"
   ]
  },
  {
   "cell_type": "code",
   "execution_count": 510,
   "metadata": {},
   "outputs": [
    {
     "data": {
      "text/html": [
       "<div>\n",
       "<style scoped>\n",
       "    .dataframe tbody tr th:only-of-type {\n",
       "        vertical-align: middle;\n",
       "    }\n",
       "\n",
       "    .dataframe tbody tr th {\n",
       "        vertical-align: top;\n",
       "    }\n",
       "\n",
       "    .dataframe thead th {\n",
       "        text-align: right;\n",
       "    }\n",
       "</style>\n",
       "<table border=\"1\" class=\"dataframe\">\n",
       "  <thead>\n",
       "    <tr style=\"text-align: right;\">\n",
       "      <th></th>\n",
       "      <th>k</th>\n",
       "      <th>inertia</th>\n",
       "      <th>sil</th>\n",
       "    </tr>\n",
       "  </thead>\n",
       "  <tbody>\n",
       "    <tr>\n",
       "      <th>0</th>\n",
       "      <td>2</td>\n",
       "      <td>11.473494</td>\n",
       "      <td>0.434915</td>\n",
       "    </tr>\n",
       "    <tr>\n",
       "      <th>1</th>\n",
       "      <td>3</td>\n",
       "      <td>7.022057</td>\n",
       "      <td>0.450563</td>\n",
       "    </tr>\n",
       "    <tr>\n",
       "      <th>2</th>\n",
       "      <td>4</td>\n",
       "      <td>4.978388</td>\n",
       "      <td>0.436214</td>\n",
       "    </tr>\n",
       "    <tr>\n",
       "      <th>3</th>\n",
       "      <td>5</td>\n",
       "      <td>3.743786</td>\n",
       "      <td>0.458629</td>\n",
       "    </tr>\n",
       "    <tr>\n",
       "      <th>4</th>\n",
       "      <td>6</td>\n",
       "      <td>2.888745</td>\n",
       "      <td>0.468954</td>\n",
       "    </tr>\n",
       "    <tr>\n",
       "      <th>5</th>\n",
       "      <td>7</td>\n",
       "      <td>2.154036</td>\n",
       "      <td>0.503566</td>\n",
       "    </tr>\n",
       "    <tr>\n",
       "      <th>6</th>\n",
       "      <td>8</td>\n",
       "      <td>1.718682</td>\n",
       "      <td>0.494283</td>\n",
       "    </tr>\n",
       "    <tr>\n",
       "      <th>7</th>\n",
       "      <td>9</td>\n",
       "      <td>1.546300</td>\n",
       "      <td>0.468473</td>\n",
       "    </tr>\n",
       "    <tr>\n",
       "      <th>8</th>\n",
       "      <td>10</td>\n",
       "      <td>1.422946</td>\n",
       "      <td>0.453473</td>\n",
       "    </tr>\n",
       "    <tr>\n",
       "      <th>9</th>\n",
       "      <td>11</td>\n",
       "      <td>1.309004</td>\n",
       "      <td>0.440670</td>\n",
       "    </tr>\n",
       "    <tr>\n",
       "      <th>10</th>\n",
       "      <td>12</td>\n",
       "      <td>1.198557</td>\n",
       "      <td>0.434250</td>\n",
       "    </tr>\n",
       "    <tr>\n",
       "      <th>11</th>\n",
       "      <td>13</td>\n",
       "      <td>1.097011</td>\n",
       "      <td>0.425901</td>\n",
       "    </tr>\n",
       "    <tr>\n",
       "      <th>12</th>\n",
       "      <td>14</td>\n",
       "      <td>1.003009</td>\n",
       "      <td>0.440785</td>\n",
       "    </tr>\n",
       "    <tr>\n",
       "      <th>13</th>\n",
       "      <td>15</td>\n",
       "      <td>0.901051</td>\n",
       "      <td>0.435700</td>\n",
       "    </tr>\n",
       "    <tr>\n",
       "      <th>14</th>\n",
       "      <td>16</td>\n",
       "      <td>0.825677</td>\n",
       "      <td>0.436919</td>\n",
       "    </tr>\n",
       "    <tr>\n",
       "      <th>15</th>\n",
       "      <td>17</td>\n",
       "      <td>0.765836</td>\n",
       "      <td>0.442920</td>\n",
       "    </tr>\n",
       "    <tr>\n",
       "      <th>16</th>\n",
       "      <td>18</td>\n",
       "      <td>0.720193</td>\n",
       "      <td>0.446642</td>\n",
       "    </tr>\n",
       "    <tr>\n",
       "      <th>17</th>\n",
       "      <td>19</td>\n",
       "      <td>0.675571</td>\n",
       "      <td>0.452921</td>\n",
       "    </tr>\n",
       "    <tr>\n",
       "      <th>18</th>\n",
       "      <td>20</td>\n",
       "      <td>0.649148</td>\n",
       "      <td>0.436883</td>\n",
       "    </tr>\n",
       "    <tr>\n",
       "      <th>19</th>\n",
       "      <td>21</td>\n",
       "      <td>0.609980</td>\n",
       "      <td>0.429183</td>\n",
       "    </tr>\n",
       "    <tr>\n",
       "      <th>20</th>\n",
       "      <td>22</td>\n",
       "      <td>0.584177</td>\n",
       "      <td>0.454888</td>\n",
       "    </tr>\n",
       "    <tr>\n",
       "      <th>21</th>\n",
       "      <td>23</td>\n",
       "      <td>0.548295</td>\n",
       "      <td>0.431111</td>\n",
       "    </tr>\n",
       "    <tr>\n",
       "      <th>22</th>\n",
       "      <td>24</td>\n",
       "      <td>0.520215</td>\n",
       "      <td>0.433708</td>\n",
       "    </tr>\n",
       "    <tr>\n",
       "      <th>23</th>\n",
       "      <td>25</td>\n",
       "      <td>0.502621</td>\n",
       "      <td>0.439015</td>\n",
       "    </tr>\n",
       "    <tr>\n",
       "      <th>24</th>\n",
       "      <td>26</td>\n",
       "      <td>0.473964</td>\n",
       "      <td>0.440924</td>\n",
       "    </tr>\n",
       "    <tr>\n",
       "      <th>25</th>\n",
       "      <td>27</td>\n",
       "      <td>0.457814</td>\n",
       "      <td>0.439068</td>\n",
       "    </tr>\n",
       "    <tr>\n",
       "      <th>26</th>\n",
       "      <td>28</td>\n",
       "      <td>0.437860</td>\n",
       "      <td>0.425510</td>\n",
       "    </tr>\n",
       "    <tr>\n",
       "      <th>27</th>\n",
       "      <td>29</td>\n",
       "      <td>0.416228</td>\n",
       "      <td>0.445872</td>\n",
       "    </tr>\n",
       "    <tr>\n",
       "      <th>28</th>\n",
       "      <td>30</td>\n",
       "      <td>0.399560</td>\n",
       "      <td>0.444796</td>\n",
       "    </tr>\n",
       "  </tbody>\n",
       "</table>\n",
       "</div>"
      ],
      "text/plain": [
       "     k    inertia       sil\n",
       "0    2  11.473494  0.434915\n",
       "1    3   7.022057  0.450563\n",
       "2    4   4.978388  0.436214\n",
       "3    5   3.743786  0.458629\n",
       "4    6   2.888745  0.468954\n",
       "5    7   2.154036  0.503566\n",
       "6    8   1.718682  0.494283\n",
       "7    9   1.546300  0.468473\n",
       "8   10   1.422946  0.453473\n",
       "9   11   1.309004  0.440670\n",
       "10  12   1.198557  0.434250\n",
       "11  13   1.097011  0.425901\n",
       "12  14   1.003009  0.440785\n",
       "13  15   0.901051  0.435700\n",
       "14  16   0.825677  0.436919\n",
       "15  17   0.765836  0.442920\n",
       "16  18   0.720193  0.446642\n",
       "17  19   0.675571  0.452921\n",
       "18  20   0.649148  0.436883\n",
       "19  21   0.609980  0.429183\n",
       "20  22   0.584177  0.454888\n",
       "21  23   0.548295  0.431111\n",
       "22  24   0.520215  0.433708\n",
       "23  25   0.502621  0.439015\n",
       "24  26   0.473964  0.440924\n",
       "25  27   0.457814  0.439068\n",
       "26  28   0.437860  0.425510\n",
       "27  29   0.416228  0.445872\n",
       "28  30   0.399560  0.444796"
      ]
     },
     "execution_count": 510,
     "metadata": {},
     "output_type": "execute_result"
    }
   ],
   "source": [
    "kmean_df = pd.DataFrame(scores, columns = ['k', 'inertia', 'sil'])\n",
    "kmean_df"
   ]
  },
  {
   "cell_type": "code",
   "execution_count": 522,
   "metadata": {},
   "outputs": [
    {
     "data": {
      "image/png": "[encoded data removed]",
      "text/plain": [
       "<Figure size 720x504 with 2 Axes>"
      ]
     },
     "metadata": {
      "needs_background": "light"
     },
     "output_type": "display_data"
    }
   ],
   "source": [
    "plt.figure(figsize = (10,7))\n",
    "plt.plot(kmean_df.k, kmean_df.inertia, marker='o', markerfacecolor='blue', markersize=10, color='skyblue', linewidth=1)\n",
    "plt.title(\"Silhouette & Inertia Score Over K\",  fontsize= 25)\n",
    "plt.ylabel(\"Silhouette Score\", color = \"Blue\", fontsize= 18)\n",
    "plt.xlabel(\"Number of K\", color = \"Black\", fontsize= 18)\n",
    "plt.vlines(x = 7,\n",
    "           ymin = 0,\n",
    "           ymax = 12,\n",
    "           color = 'y',\n",
    "           linestyle = '-')\n",
    "plt.twinx()\n",
    "plt.plot(kmean_df.k, kmean_df.sil, marker='X',markerfacecolor='red', markersize=10, color='red', linewidth=1, linestyle='dashed')\n",
    "plt.ylabel(\"Inertia\", color = \"red\", fontsize= 18)\n",
    "plt.tight_layout()"
   ]
  },
  {
   "cell_type": "code",
   "execution_count": 523,
   "metadata": {},
   "outputs": [
    {
     "data": {
      "text/plain": [
       "KMeans(algorithm='auto', copy_x=True, init='k-means++', max_iter=300,\n",
       "       n_clusters=7, n_init=10, n_jobs=None, precompute_distances='auto',\n",
       "       random_state=None, tol=0.0001, verbose=0)"
      ]
     },
     "execution_count": 523,
     "metadata": {},
     "output_type": "execute_result"
    }
   ],
   "source": [
    "km = KMeans(n_clusters = 7)\n",
    "km.fit(geo)"
   ]
  },
  {
   "cell_type": "code",
   "execution_count": 524,
   "metadata": {},
   "outputs": [
    {
     "name": "stderr",
     "output_type": "stream",
     "text": [
      "No handles with labels found to put in legend.\n"
     ]
    },
    {
     "data": {
      "text/plain": [
       "<matplotlib.legend.Legend at 0x1a518d3a10>"
      ]
     },
     "execution_count": 524,
     "metadata": {},
     "output_type": "execute_result"
    },
    {
     "data": {
      "image/png": "[encoded data removed]",
      "text/plain": [
       "<Figure size 720x720 with 1 Axes>"
      ]
     },
     "metadata": {
      "needs_background": "light"
     },
     "output_type": "display_data"
    }
   ],
   "source": [
    "# What do these clusters look like visually?\n",
    "plt.figure(figsize=(10, 10))\n",
    "plt.scatter(df.longitude, df.latitude, c=km.labels_, s=1, cmap=\"tab20\");\n",
    "plt.legend()"
   ]
  },
  {
   "cell_type": "code",
   "execution_count": 503,
   "metadata": {},
   "outputs": [],
   "source": [
    "df['clusters'] = km.labels_"
   ]
  },
  {
   "cell_type": "code",
   "execution_count": 506,
   "metadata": {},
   "outputs": [
    {
     "data": {
      "text/plain": [
       "array([3, 0, 5, 6, 4, 1, 2])"
      ]
     },
     "execution_count": 506,
     "metadata": {},
     "output_type": "execute_result"
    }
   ],
   "source": [
    "df['clusters'].unique()"
   ]
  },
  {
   "cell_type": "code",
   "execution_count": null,
   "metadata": {},
   "outputs": [],
   "source": []
  },
  {
   "cell_type": "code",
   "execution_count": null,
   "metadata": {},
   "outputs": [],
   "source": []
  },
  {
   "cell_type": "markdown",
   "metadata": {},
   "source": [
    "We want to create dummy variables for the city column. We believe cities in nyc are a great indicator on whether or not a place is affluent. For example, the affluency of Downtown Bk and Park slope will be much different and are great predictors for affluency"
   ]
  },
  {
   "cell_type": "code",
   "execution_count": 306,
   "metadata": {},
   "outputs": [],
   "source": [
    "df = pd.concat([df, pd.get_dummies(df['city'])], axis=1)"
   ]
  },
  {
   "cell_type": "markdown",
   "metadata": {},
   "source": [
    "As expected, the affluency values have the highest correlation with affluency. The price value of yelp is up there too and so is new york. We will drop the affluency measures to avoid leakage within the model. A correlation heat map is great baseline to select features for our model"
   ]
  },
  {
   "cell_type": "markdown",
   "metadata": {},
   "source": [
    "## Model Preparation"
   ]
  },
  {
   "cell_type": "markdown",
   "metadata": {},
   "source": [
    "Set up target varible for classification, which is whether or not the zip code is affluent or not. Set up x variables and drop state, id, city, name, categories and all affluent variables. We will set up the train test split to be .33,.67. "
   ]
  },
  {
   "cell_type": "code",
   "execution_count": 308,
   "metadata": {},
   "outputs": [],
   "source": [
    "target = df['affluent']\n",
    "X = df.drop(columns = ['state', 'id', 'city', 'name', 'categories','affluent', 'agi_sum', 'aff_perc', 'high_value'])\n",
    "y = target"
   ]
  },
  {
   "cell_type": "code",
   "execution_count": 309,
   "metadata": {},
   "outputs": [],
   "source": [
    "X_train, X_test, y_train, y_test = train_test_split(X, y, random_state = 14, test_size = 0.33, stratify = y)"
   ]
  },
  {
   "cell_type": "markdown",
   "metadata": {},
   "source": [
    "## Modeling"
   ]
  },
  {
   "cell_type": "markdown",
   "metadata": {},
   "source": [
    "### Baseline Model"
   ]
  },
  {
   "cell_type": "code",
   "execution_count": 310,
   "metadata": {},
   "outputs": [
    {
     "data": {
      "text/plain": [
       "1    4298\n",
       "0    3722\n",
       "Name: affluent, dtype: int64"
      ]
     },
     "execution_count": 310,
     "metadata": {},
     "output_type": "execute_result"
    }
   ],
   "source": [
    "df['affluent'].value_counts()"
   ]
  },
  {
   "cell_type": "code",
   "execution_count": 311,
   "metadata": {},
   "outputs": [
    {
     "data": {
      "text/plain": [
       "1    0.53591\n",
       "0    0.46409\n",
       "Name: affluent, dtype: float64"
      ]
     },
     "execution_count": 311,
     "metadata": {},
     "output_type": "execute_result"
    }
   ],
   "source": [
    "df['affluent'].value_counts(normalize = True)"
   ]
  },
  {
   "cell_type": "markdown",
   "metadata": {},
   "source": [
    "For classification problems, the one rule is to predict the class value that is most common in the training dataset. This means that the training data set has 53 of the instances in class 1 and 47% of the instances in class 0. Therefore, the baseline accuracy is 53%."
   ]
  },
  {
   "cell_type": "markdown",
   "metadata": {},
   "source": [
    "__1. Logistic Regression__"
   ]
  },
  {
   "cell_type": "markdown",
   "metadata": {},
   "source": [
    "Fit a pipeline logistic regression model based on the x features listed above. We will use PCA to reduce dimensions in order to find the most optimal amount of x features."
   ]
  },
  {
   "cell_type": "code",
   "execution_count": 312,
   "metadata": {},
   "outputs": [],
   "source": [
    "log_pipe = Pipeline([\n",
    "    ('sc', StandardScaler()),\n",
    "    ('pca', PCA()),\n",
    "    ('model', LogisticRegression(penalty = 'none', solver = 'lbfgs', random_state= 3479))\n",
    "])"
   ]
  },
  {
   "cell_type": "code",
   "execution_count": 313,
   "metadata": {},
   "outputs": [],
   "source": [
    "# What are the parameters?\n",
    "log_pipe_params = {\n",
    "    'pca__n_components': np.arange(1,10),\n",
    "    'model__penalty': ['l2'],\n",
    "    'model__C': [3, 10, 1000]\n",
    "    \n",
    "    \n",
    "}"
   ]
  },
  {
   "cell_type": "code",
   "execution_count": 314,
   "metadata": {},
   "outputs": [
    {
     "name": "stdout",
     "output_type": "stream",
     "text": [
      "Fitting 5 folds for each of 27 candidates, totalling 135 fits\n"
     ]
    },
    {
     "name": "stderr",
     "output_type": "stream",
     "text": [
      "[Parallel(n_jobs=4)]: Using backend LokyBackend with 4 concurrent workers.\n",
      "[Parallel(n_jobs=4)]: Done  42 tasks      | elapsed:    6.5s\n",
      "[Parallel(n_jobs=4)]: Done 135 out of 135 | elapsed:   10.0s finished\n"
     ]
    }
   ],
   "source": [
    "gs_log_pipe = GridSearchCV(estimator = log_pipe,\n",
    "                       param_grid = log_pipe_params,\n",
    "                       cv = 5,\n",
    "                       verbose = 1,\n",
    "                      n_jobs = 4)\n",
    "results_log = gs_log_pipe.fit(X_train, y_train)"
   ]
  },
  {
   "cell_type": "code",
   "execution_count": 315,
   "metadata": {},
   "outputs": [
    {
     "data": {
      "text/plain": [
       "{'model__C': 10, 'model__penalty': 'l2', 'pca__n_components': 8}"
      ]
     },
     "execution_count": 315,
     "metadata": {},
     "output_type": "execute_result"
    }
   ],
   "source": [
    "gs_log_pipe.best_params_"
   ]
  },
  {
   "cell_type": "code",
   "execution_count": 316,
   "metadata": {},
   "outputs": [
    {
     "data": {
      "text/plain": [
       "0.8059620416933404"
      ]
     },
     "execution_count": 316,
     "metadata": {},
     "output_type": "execute_result"
    }
   ],
   "source": [
    "cross_val_score(gs_log_pipe.best_estimator_, X, target, cv= 5).mean()"
   ]
  },
  {
   "cell_type": "code",
   "execution_count": 317,
   "metadata": {},
   "outputs": [
    {
     "name": "stdout",
     "output_type": "stream",
     "text": [
      "Best TRAIN accuracy: 0.9289\n",
      "Best TEST set accuracy: 0.9294\n"
     ]
    }
   ],
   "source": [
    "train_score_log = results_log.best_score_\n",
    "print('Best TRAIN accuracy: {:.4f}'.format(train_score_log))\n",
    "test_score_log = results_log.score(X_test, y_test)\n",
    "print('Best TEST set accuracy: {:.4f}'.format(test_score_log))"
   ]
  },
  {
   "cell_type": "markdown",
   "metadata": {},
   "source": [
    "__Model 2: FeatureUnion + KNeighbors__"
   ]
  },
  {
   "cell_type": "code",
   "execution_count": 318,
   "metadata": {},
   "outputs": [],
   "source": [
    "pipe_knn = Pipeline([\n",
    "    ('sc', StandardScaler()),\n",
    "    ('pca', PCA()),\n",
    "    ('model', KNeighborsClassifier(n_neighbors=10))\n",
    "])\n",
    "\n",
    "knn_params = {\n",
    "    'pca__n_components': np.arange(1,10),\n",
    "    'model__n_neighbors': range(1, 51, 10),\n",
    "    'model__metric': ['euclidean', 'manhattan']\n",
    "    \n",
    "    \n",
    "}"
   ]
  },
  {
   "cell_type": "code",
   "execution_count": 319,
   "metadata": {},
   "outputs": [],
   "source": [
    "pipe_knn_gridsearch = GridSearchCV(pipe_knn,\n",
    "                                knn_params ,\n",
    "                                cv = 5,\n",
    "                                scoring='accuracy',\n",
    "                                verbose=1)"
   ]
  },
  {
   "cell_type": "code",
   "execution_count": 320,
   "metadata": {},
   "outputs": [
    {
     "name": "stdout",
     "output_type": "stream",
     "text": [
      "Fitting 5 folds for each of 90 candidates, totalling 450 fits\n"
     ]
    },
    {
     "name": "stderr",
     "output_type": "stream",
     "text": [
      "[Parallel(n_jobs=1)]: Using backend SequentialBackend with 1 concurrent workers.\n",
      "[Parallel(n_jobs=1)]: Done 450 out of 450 | elapsed:   48.0s finished\n"
     ]
    }
   ],
   "source": [
    "#fit data\n",
    "results_knn = pipe_knn_gridsearch.fit(X_train, y_train);"
   ]
  },
  {
   "cell_type": "code",
   "execution_count": 321,
   "metadata": {},
   "outputs": [
    {
     "data": {
      "text/plain": [
       "{'model__metric': 'manhattan', 'model__n_neighbors': 1, 'pca__n_components': 5}"
      ]
     },
     "execution_count": 321,
     "metadata": {},
     "output_type": "execute_result"
    }
   ],
   "source": [
    "#search for best score on fitted data\n",
    "pipe_knn_gridsearch.best_params_"
   ]
  },
  {
   "cell_type": "code",
   "execution_count": 322,
   "metadata": {},
   "outputs": [
    {
     "name": "stdout",
     "output_type": "stream",
     "text": [
      "Best TRAIN set accuracy: 0.9849\n",
      "Best TEST set accuracy: 0.9868\n"
     ]
    }
   ],
   "source": [
    "train_score = pipe_knn_gridsearch.best_score_\n",
    "print('Best TRAIN set accuracy: {:.4f}'.format(train_score))\n",
    "test_score = pipe_knn_gridsearch.score(X_test, y_test)\n",
    "print('Best TEST set accuracy: {:.4f}'.format(test_score))"
   ]
  },
  {
   "cell_type": "code",
   "execution_count": 323,
   "metadata": {},
   "outputs": [
    {
     "data": {
      "text/plain": [
       "0.9137272629803302"
      ]
     },
     "execution_count": 323,
     "metadata": {},
     "output_type": "execute_result"
    }
   ],
   "source": [
    "cross_val_score(pipe_knn_gridsearch.best_estimator_, X, target, cv= 5).mean()"
   ]
  },
  {
   "cell_type": "markdown",
   "metadata": {},
   "source": [
    "### Model 3 Decision Trees"
   ]
  },
  {
   "cell_type": "code",
   "execution_count": 324,
   "metadata": {},
   "outputs": [],
   "source": [
    "pipe = Pipeline(steps = [ ('sc', StandardScaler()),\n",
    "                         ('pca', PCA()),     # first tuple is for first step: vectorizer\n",
    "                         ('dt',DecisionTreeClassifier(random_state = 42))\n",
    "                         \n",
    "                        ])    \n",
    "\n",
    "# Construct Grid Parameters\n",
    "hyperparams = {'pca__n_components': np.arange(1,10),\n",
    "               \n",
    "               \n",
    "                                                        # use a single value that isn't built into\n",
    "                                                        # the defaults (otw: stopwords left in\n",
    "               'dt__max_depth': [3, 10, 1000]\n",
    "                \n",
    "              }\n",
    "\n",
    " # Perform Grid Search\n",
    "gs_dt = GridSearchCV(pipe, # pipeline object replaces what we usually had as empty model class\n",
    "                 param_grid=hyperparams,\n",
    "                 cv = 3,\n",
    "                 scoring = 'accuracy')"
   ]
  },
  {
   "cell_type": "code",
   "execution_count": 325,
   "metadata": {},
   "outputs": [],
   "source": [
    "results_decision = gs_dt.fit(X_train, y_train)"
   ]
  },
  {
   "cell_type": "code",
   "execution_count": 326,
   "metadata": {},
   "outputs": [
    {
     "name": "stdout",
     "output_type": "stream",
     "text": [
      "Best TRAIN accuracy: 0.9594\n",
      "Best TEST set accuracy: 0.9584\n"
     ]
    }
   ],
   "source": [
    "train_score_dec = results_decision.best_score_\n",
    "print('Best TRAIN accuracy: {:.4f}'.format(train_score_dec))\n",
    "test_score_dec = results_decision.score(X_test, y_test)\n",
    "print('Best TEST set accuracy: {:.4f}'.format(test_score_dec))"
   ]
  },
  {
   "cell_type": "code",
   "execution_count": 327,
   "metadata": {},
   "outputs": [
    {
     "data": {
      "text/plain": [
       "0.8824408334228823"
      ]
     },
     "execution_count": 327,
     "metadata": {},
     "output_type": "execute_result"
    }
   ],
   "source": [
    "cross_val_score(gs_dt.best_estimator_, X, target, cv= 5).mean()"
   ]
  },
  {
   "cell_type": "markdown",
   "metadata": {},
   "source": [
    "### Model 4  Bagging"
   ]
  },
  {
   "cell_type": "code",
   "execution_count": 328,
   "metadata": {},
   "outputs": [],
   "source": [
    "pipe = Pipeline(steps = [ ('sc', StandardScaler()),\n",
    "                         ('pca', PCA()),     # first tuple is for first step: vectorizer\n",
    "                         ('bg',BaggingClassifier(random_state = 42))\n",
    "                         \n",
    "                        ])    \n",
    "\n",
    "# Construct Grid Parameters\n",
    "hyperparams = {'pca__n_components': np.arange(1,10),\n",
    "               \n",
    "               \n",
    "                                                        # use a single value that isn't built into\n",
    "                                                        # the defaults (otw: stopwords left in\n",
    "               'bg__n_estimators': range(10, 100, 10),\n",
    "                \n",
    "              }\n",
    "\n",
    " # Perform Grid Search\n",
    "gs_bg = GridSearchCV(pipe, # pipeline object replaces what we usually had as empty model class\n",
    "                 param_grid=hyperparams,\n",
    "                 cv = 3,\n",
    "                 scoring = 'accuracy')"
   ]
  },
  {
   "cell_type": "code",
   "execution_count": 329,
   "metadata": {},
   "outputs": [],
   "source": [
    "results_bagging = gs_bg.fit(X_train, y_train)"
   ]
  },
  {
   "cell_type": "code",
   "execution_count": 330,
   "metadata": {},
   "outputs": [
    {
     "name": "stdout",
     "output_type": "stream",
     "text": [
      "Best TRAIN accuracy: 0.9764\n",
      "Best TEST set accuracy: 0.9732\n"
     ]
    }
   ],
   "source": [
    "train_score_bag = results_bagging.best_score_\n",
    "print('Best TRAIN accuracy: {:.4f}'.format(train_score_bag))\n",
    "test_score_bag = results_bagging.score(X_test, y_test)\n",
    "print('Best TEST set accuracy: {:.4f}'.format(test_score_bag))"
   ]
  },
  {
   "cell_type": "code",
   "execution_count": 331,
   "metadata": {},
   "outputs": [
    {
     "data": {
      "text/plain": [
       "0.9132293625829163"
      ]
     },
     "execution_count": 331,
     "metadata": {},
     "output_type": "execute_result"
    }
   ],
   "source": [
    "cross_val_score(gs_bg.best_estimator_, X, target, cv= 5).mean()"
   ]
  },
  {
   "cell_type": "markdown",
   "metadata": {},
   "source": [
    "### Model 5: Random Forrest"
   ]
  },
  {
   "cell_type": "code",
   "execution_count": 332,
   "metadata": {},
   "outputs": [],
   "source": [
    "pipe = Pipeline(steps = [ ('sc', StandardScaler()),\n",
    "                         ('pca', PCA()),     # first tuple is for first step: vectorizer\n",
    "                         ('rf', RandomForestClassifier())\n",
    "                         \n",
    "                        ])    \n",
    "\n",
    "# Construct Grid Parameters\n",
    "hyperparams = {'pca__n_components': np.arange(1,10),\n",
    "               \n",
    "               \n",
    "                                                        # use a single value that isn't built into\n",
    "                                                        # the defaults (otw: stopwords left in\n",
    "               'rf__n_estimators': [100, 150, 200],\n",
    "               'rf__max_depth': [None, 1, 2, 3, 4, 5],\n",
    "}\n",
    "                \n",
    "              \n",
    "\n",
    " # Perform Grid Search\n",
    "gs_rf = GridSearchCV(pipe, # pipeline object replaces what we usually had as empty model class\n",
    "                 param_grid=hyperparams,\n",
    "                 cv = 3,\n",
    "                 scoring = 'accuracy')"
   ]
  },
  {
   "cell_type": "code",
   "execution_count": 333,
   "metadata": {},
   "outputs": [],
   "source": [
    "results_rf= gs_rf.fit(X_train, y_train)"
   ]
  },
  {
   "cell_type": "code",
   "execution_count": 334,
   "metadata": {},
   "outputs": [
    {
     "name": "stdout",
     "output_type": "stream",
     "text": [
      "Best TRAIN accuracy: 0.9730\n",
      "Best TEST set accuracy: 0.9781\n"
     ]
    }
   ],
   "source": [
    "train_score_rf = results_rf.best_score_\n",
    "print('Best TRAIN accuracy: {:.4f}'.format(train_score_rf))\n",
    "test_score_rf = results_rf.score(X_test, y_test)\n",
    "print('Best TEST set accuracy: {:.4f}'.format(test_score_rf))"
   ]
  },
  {
   "cell_type": "code",
   "execution_count": 335,
   "metadata": {},
   "outputs": [
    {
     "data": {
      "text/plain": [
       "0.9220777248348396"
      ]
     },
     "execution_count": 335,
     "metadata": {},
     "output_type": "execute_result"
    }
   ],
   "source": [
    "cross_val_score(gs_rf.best_estimator_, X, target, cv= 5).mean()"
   ]
  },
  {
   "cell_type": "markdown",
   "metadata": {},
   "source": [
    "## Model 6 ADA BOOST"
   ]
  },
  {
   "cell_type": "code",
   "execution_count": 336,
   "metadata": {},
   "outputs": [],
   "source": [
    "pipe = Pipeline(steps = [ ('sc', StandardScaler()),\n",
    "                         ('pca', PCA()),     # first tuple is for first step: vectorizer\n",
    "                         ('ab',AdaBoostClassifier(base_estimator=DecisionTreeClassifier()))\n",
    "                         \n",
    "                        ])    \n",
    "\n",
    "# Construct Grid Parameters\n",
    "hyperparams = {'pca__n_components': np.arange(1,10),\n",
    "               \n",
    "               \n",
    "                                                        # use a single value that isn't built into\n",
    "                                                        # the defaults (otw: stopwords left in\n",
    "                'ab__n_estimators': [50,100],\n",
    "               'ab__base_estimator__max_depth': [1,2],\n",
    "               'ab__learning_rate': [.9, 1.]\n",
    "}\n",
    "                \n",
    "              \n",
    "\n",
    " # Perform Grid Search\n",
    "gs_ab = GridSearchCV(pipe, # pipeline object replaces what we usually had as empty model class\n",
    "                 param_grid=hyperparams,\n",
    "                 cv = 3,\n",
    "                 scoring = 'accuracy')"
   ]
  },
  {
   "cell_type": "code",
   "execution_count": 337,
   "metadata": {},
   "outputs": [
    {
     "name": "stdout",
     "output_type": "stream",
     "text": [
      "Best TRAIN accuracy: 0.9661\n",
      "Best TEST set accuracy: 0.9649\n"
     ]
    }
   ],
   "source": [
    "results_ab = gs_ab.fit(X_train, y_train)\n",
    "train_score_ab = results_ab.best_score_\n",
    "print('Best TRAIN accuracy: {:.4f}'.format(train_score_ab))\n",
    "test_score_ab = results_ab.score(X_test, y_test)\n",
    "print('Best TEST set accuracy: {:.4f}'.format(test_score_ab))"
   ]
  },
  {
   "cell_type": "code",
   "execution_count": 338,
   "metadata": {
    "scrolled": true
   },
   "outputs": [
    {
     "data": {
      "text/plain": [
       "0.9128550658459369"
      ]
     },
     "execution_count": 338,
     "metadata": {},
     "output_type": "execute_result"
    }
   ],
   "source": [
    "cross_val_score(gs_ab.best_estimator_ , X, target, cv= 5).mean()"
   ]
  },
  {
   "cell_type": "markdown",
   "metadata": {},
   "source": [
    "## Model Selection"
   ]
  },
  {
   "cell_type": "code",
   "execution_count": 277,
   "metadata": {},
   "outputs": [],
   "source": [
    "score_df = pd.DataFrame(columns = ['Model', 'Train Score', 'Test Score'])"
   ]
  },
  {
   "cell_type": "code",
   "execution_count": 278,
   "metadata": {},
   "outputs": [],
   "source": [
    "score_df['Model'] = ['Logistic Regression','KNN', 'DecisionTrees', 'Bagging', 'RandomForrest','AdaBoost']"
   ]
  },
  {
   "cell_type": "code",
   "execution_count": 279,
   "metadata": {},
   "outputs": [
    {
     "data": {
      "text/html": [
       "<div>\n",
       "<style scoped>\n",
       "    .dataframe tbody tr th:only-of-type {\n",
       "        vertical-align: middle;\n",
       "    }\n",
       "\n",
       "    .dataframe tbody tr th {\n",
       "        vertical-align: top;\n",
       "    }\n",
       "\n",
       "    .dataframe thead th {\n",
       "        text-align: right;\n",
       "    }\n",
       "</style>\n",
       "<table border=\"1\" class=\"dataframe\">\n",
       "  <thead>\n",
       "    <tr style=\"text-align: right;\">\n",
       "      <th></th>\n",
       "      <th>Model</th>\n",
       "      <th>Train Score</th>\n",
       "      <th>Test Score</th>\n",
       "    </tr>\n",
       "  </thead>\n",
       "  <tbody>\n",
       "    <tr>\n",
       "      <th>0</th>\n",
       "      <td>Logistic Regression</td>\n",
       "      <td>NaN</td>\n",
       "      <td>NaN</td>\n",
       "    </tr>\n",
       "    <tr>\n",
       "      <th>1</th>\n",
       "      <td>KNN</td>\n",
       "      <td>NaN</td>\n",
       "      <td>NaN</td>\n",
       "    </tr>\n",
       "    <tr>\n",
       "      <th>2</th>\n",
       "      <td>DecisionTrees</td>\n",
       "      <td>NaN</td>\n",
       "      <td>NaN</td>\n",
       "    </tr>\n",
       "    <tr>\n",
       "      <th>3</th>\n",
       "      <td>Bagging</td>\n",
       "      <td>NaN</td>\n",
       "      <td>NaN</td>\n",
       "    </tr>\n",
       "    <tr>\n",
       "      <th>4</th>\n",
       "      <td>RandomForrest</td>\n",
       "      <td>NaN</td>\n",
       "      <td>NaN</td>\n",
       "    </tr>\n",
       "    <tr>\n",
       "      <th>5</th>\n",
       "      <td>AdaBoost</td>\n",
       "      <td>NaN</td>\n",
       "      <td>NaN</td>\n",
       "    </tr>\n",
       "  </tbody>\n",
       "</table>\n",
       "</div>"
      ],
      "text/plain": [
       "                 Model Train Score Test Score\n",
       "0  Logistic Regression         NaN        NaN\n",
       "1                  KNN         NaN        NaN\n",
       "2        DecisionTrees         NaN        NaN\n",
       "3              Bagging         NaN        NaN\n",
       "4        RandomForrest         NaN        NaN\n",
       "5             AdaBoost         NaN        NaN"
      ]
     },
     "execution_count": 279,
     "metadata": {},
     "output_type": "execute_result"
    }
   ],
   "source": [
    "score_df"
   ]
  },
  {
   "cell_type": "code",
   "execution_count": 341,
   "metadata": {},
   "outputs": [],
   "source": [
    "score_df['Train Score'] = [results_log.best_score_,pipe_knn_gridsearch.best_score_, results_decision.best_score_,\n",
    "                     results_bagging.best_score_, results_rf.best_score_, results_ab.best_score_]"
   ]
  },
  {
   "cell_type": "code",
   "execution_count": 342,
   "metadata": {},
   "outputs": [],
   "source": [
    "score_df['Train Score'] = [round(x,4) for x in score_df['Train Score']]"
   ]
  },
  {
   "cell_type": "code",
   "execution_count": 339,
   "metadata": {},
   "outputs": [],
   "source": [
    "score_df['Test Score'] = [results_log.score(X_test, y_test),pipe_knn_gridsearch.score(X_test, y_test), results_decision.score(X_test, y_test),\n",
    "                     results_bagging.score(X_test, y_test), results_rf.score(X_test, y_test),results_ab.score(X_test, y_test)]"
   ]
  },
  {
   "cell_type": "code",
   "execution_count": 340,
   "metadata": {},
   "outputs": [],
   "source": [
    "score_df['Test Score'] = [round(x,4) for x in score_df['Test Score']]"
   ]
  },
  {
   "cell_type": "code",
   "execution_count": 343,
   "metadata": {},
   "outputs": [],
   "source": [
    "score_df['Variance'] = score_df['Test Score'] - score_df['Train Score']"
   ]
  },
  {
   "cell_type": "code",
   "execution_count": 344,
   "metadata": {},
   "outputs": [
    {
     "data": {
      "text/html": [
       "<div>\n",
       "<style scoped>\n",
       "    .dataframe tbody tr th:only-of-type {\n",
       "        vertical-align: middle;\n",
       "    }\n",
       "\n",
       "    .dataframe tbody tr th {\n",
       "        vertical-align: top;\n",
       "    }\n",
       "\n",
       "    .dataframe thead th {\n",
       "        text-align: right;\n",
       "    }\n",
       "</style>\n",
       "<table border=\"1\" class=\"dataframe\">\n",
       "  <thead>\n",
       "    <tr style=\"text-align: right;\">\n",
       "      <th></th>\n",
       "      <th>Model</th>\n",
       "      <th>Train Score</th>\n",
       "      <th>Test Score</th>\n",
       "      <th>Variance</th>\n",
       "    </tr>\n",
       "  </thead>\n",
       "  <tbody>\n",
       "    <tr>\n",
       "      <th>0</th>\n",
       "      <td>Logistic Regression</td>\n",
       "      <td>0.9289</td>\n",
       "      <td>0.9294</td>\n",
       "      <td>0.0005</td>\n",
       "    </tr>\n",
       "    <tr>\n",
       "      <th>1</th>\n",
       "      <td>KNN</td>\n",
       "      <td>0.9849</td>\n",
       "      <td>0.9868</td>\n",
       "      <td>0.0019</td>\n",
       "    </tr>\n",
       "    <tr>\n",
       "      <th>2</th>\n",
       "      <td>DecisionTrees</td>\n",
       "      <td>0.9594</td>\n",
       "      <td>0.9584</td>\n",
       "      <td>-0.0010</td>\n",
       "    </tr>\n",
       "    <tr>\n",
       "      <th>3</th>\n",
       "      <td>Bagging</td>\n",
       "      <td>0.9764</td>\n",
       "      <td>0.9732</td>\n",
       "      <td>-0.0032</td>\n",
       "    </tr>\n",
       "    <tr>\n",
       "      <th>4</th>\n",
       "      <td>RandomForrest</td>\n",
       "      <td>0.9730</td>\n",
       "      <td>0.9781</td>\n",
       "      <td>0.0051</td>\n",
       "    </tr>\n",
       "    <tr>\n",
       "      <th>5</th>\n",
       "      <td>AdaBoost</td>\n",
       "      <td>0.9661</td>\n",
       "      <td>0.9649</td>\n",
       "      <td>-0.0012</td>\n",
       "    </tr>\n",
       "  </tbody>\n",
       "</table>\n",
       "</div>"
      ],
      "text/plain": [
       "                 Model  Train Score  Test Score  Variance\n",
       "0  Logistic Regression       0.9289      0.9294    0.0005\n",
       "1                  KNN       0.9849      0.9868    0.0019\n",
       "2        DecisionTrees       0.9594      0.9584   -0.0010\n",
       "3              Bagging       0.9764      0.9732   -0.0032\n",
       "4        RandomForrest       0.9730      0.9781    0.0051\n",
       "5             AdaBoost       0.9661      0.9649   -0.0012"
      ]
     },
     "execution_count": 344,
     "metadata": {},
     "output_type": "execute_result"
    }
   ],
   "source": [
    "score_df"
   ]
  },
  {
   "cell_type": "markdown",
   "metadata": {},
   "source": []
  },
  {
   "cell_type": "markdown",
   "metadata": {},
   "source": [
    "## Model Evaluation "
   ]
  },
  {
   "cell_type": "code",
   "execution_count": null,
   "metadata": {},
   "outputs": [],
   "source": []
  },
  {
   "cell_type": "code",
   "execution_count": null,
   "metadata": {},
   "outputs": [],
   "source": []
  },
  {
   "cell_type": "code",
   "execution_count": null,
   "metadata": {},
   "outputs": [],
   "source": []
  },
  {
   "cell_type": "code",
   "execution_count": null,
   "metadata": {},
   "outputs": [],
   "source": []
  },
  {
   "cell_type": "code",
   "execution_count": null,
   "metadata": {},
   "outputs": [],
   "source": []
  },
  {
   "cell_type": "code",
   "execution_count": null,
   "metadata": {},
   "outputs": [],
   "source": []
  },
  {
   "cell_type": "code",
   "execution_count": null,
   "metadata": {},
   "outputs": [],
   "source": []
  },
  {
   "cell_type": "code",
   "execution_count": null,
   "metadata": {},
   "outputs": [],
   "source": []
  },
  {
   "cell_type": "code",
   "execution_count": null,
   "metadata": {},
   "outputs": [],
   "source": []
  },
  {
   "cell_type": "code",
   "execution_count": null,
   "metadata": {},
   "outputs": [],
   "source": []
  },
  {
   "cell_type": "code",
   "execution_count": null,
   "metadata": {},
   "outputs": [],
   "source": []
  },
  {
   "cell_type": "code",
   "execution_count": null,
   "metadata": {},
   "outputs": [],
   "source": []
  },
  {
   "cell_type": "code",
   "execution_count": null,
   "metadata": {},
   "outputs": [],
   "source": []
  },
  {
   "cell_type": "code",
   "execution_count": null,
   "metadata": {},
   "outputs": [],
   "source": []
  },
  {
   "cell_type": "code",
   "execution_count": null,
   "metadata": {},
   "outputs": [],
   "source": []
  },
  {
   "cell_type": "code",
   "execution_count": null,
   "metadata": {},
   "outputs": [],
   "source": []
  },
  {
   "cell_type": "code",
   "execution_count": null,
   "metadata": {},
   "outputs": [],
   "source": []
  },
  {
   "cell_type": "code",
   "execution_count": null,
   "metadata": {},
   "outputs": [],
   "source": []
  },
  {
   "cell_type": "code",
   "execution_count": null,
   "metadata": {},
   "outputs": [],
   "source": []
  },
  {
   "cell_type": "code",
   "execution_count": null,
   "metadata": {},
   "outputs": [],
   "source": []
  },
  {
   "cell_type": "markdown",
   "metadata": {},
   "source": [
    "## Conclusion"
   ]
  },
  {
   "cell_type": "markdown",
   "metadata": {},
   "source": []
  },
  {
   "cell_type": "markdown",
   "metadata": {},
   "source": [
    "## "
   ]
  }
 ],
 "metadata": {
  "kernelspec": {
   "display_name": "Python 3",
   "language": "python",
   "name": "python3"
  },
  "language_info": {
   "codemirror_mode": {
    "name": "ipython",
    "version": 3
   },
   "file_extension": ".py",
   "mimetype": "text/x-python",
   "name": "python",
   "nbconvert_exporter": "python",
   "pygments_lexer": "ipython3",
   "version": "3.7.5"
  },
  "toc": {
   "base_numbering": 1,
   "nav_menu": {},
   "number_sections": true,
   "sideBar": true,
   "skip_h1_title": false,
   "title_cell": "Table of Contents",
   "title_sidebar": "Contents",
   "toc_cell": false,
   "toc_position": {},
   "toc_section_display": true,
   "toc_window_display": false
  }
 },
 "nbformat": 4,
 "nbformat_minor": 2
}
