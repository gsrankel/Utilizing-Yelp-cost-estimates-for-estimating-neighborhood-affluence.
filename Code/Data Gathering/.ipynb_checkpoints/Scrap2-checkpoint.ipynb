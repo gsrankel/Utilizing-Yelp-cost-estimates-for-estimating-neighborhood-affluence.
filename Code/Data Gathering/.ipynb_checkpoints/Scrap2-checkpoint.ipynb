{
 "cells": [
  {
   "cell_type": "markdown",
   "metadata": {},
   "source": [
    "# Scrap Book 2\n",
    "\n",
    "- Purpose of notebook is to scrape Yelp API for datapoints we can use"
   ]
  },
  {
   "cell_type": "code",
   "execution_count": 4,
   "metadata": {},
   "outputs": [],
   "source": [
    "import json\n",
    "import pandas as pd\n",
    "import numpy as np\n",
    "import requests\n",
    "import time"
   ]
  },
  {
   "cell_type": "markdown",
   "metadata": {},
   "source": [
    "Our data was gathered from Yelp Fusion API. Function was created to extract possible datapoints based on an exact address"
   ]
  },
  {
   "cell_type": "code",
   "execution_count": 10,
   "metadata": {},
   "outputs": [],
   "source": [
    "def query_pushshift(location, kind = 'submission'):\n",
    "    SUBFIELDS = ['id', 'alias', 'name', 'image_url', 'is_closed', 'url', 'review_count', 'categories', 'rating', 'coordinates', 'transactions', 'price', 'location', 'phone', 'display_phone', 'distance']\n",
    "    \n",
    "#define list up here to store infromation ebing done down there\n",
    "    business = []\n",
    "    for i in range(20):\n",
    "        url = 'https://api.yelp.com/v3/businesses/search'\n",
    "        API_key = 'My API'\n",
    "        headers = { \"Authorization\": f'Bearer {API_key}'}\n",
    "        api_params = {'location' : {location},\n",
    "              'limit' : 50,\n",
    "              'offset': i* 50}\n",
    "        print(\"Querying from: \" + url)\n",
    "        res = requests.get(url, headers = headers, params= api_params )\n",
    "        assert res.status_code == 200\n",
    "        mine = res.json()['businesses']\n",
    "        df = pd.DataFrame.from_dict(mine)\n",
    "        business.append(df)\n",
    "        time.sleep(3)\n",
    "        full = pd.concat(business, sort=False)\n",
    "        if kind == \"submission\":\n",
    "        # select desired columns\n",
    "            full = full[SUBFIELDS]\n",
    "    print(\"Query Complete!\")    \n",
    "    return full  "
   ]
  },
  {
   "cell_type": "markdown",
   "metadata": {},
   "source": [
    "We have decided to pull the data for as many areas of New York City as possible, by querying 1000 business around 5 random addresses. We have gathered 5000 businesses this way - as this is the maximum number of daily calls we could have made as per Yelp API policy."
   ]
  },
  {
   "cell_type": "code",
   "execution_count": 11,
   "metadata": {},
   "outputs": [
    {
     "name": "stdout",
     "output_type": "stream",
     "text": [
      "Querying from: https://api.yelp.com/v3/businesses/search\n",
      "Querying from: https://api.yelp.com/v3/businesses/search\n",
      "Querying from: https://api.yelp.com/v3/businesses/search\n",
      "Querying from: https://api.yelp.com/v3/businesses/search\n",
      "Querying from: https://api.yelp.com/v3/businesses/search\n",
      "Querying from: https://api.yelp.com/v3/businesses/search\n",
      "Querying from: https://api.yelp.com/v3/businesses/search\n",
      "Querying from: https://api.yelp.com/v3/businesses/search\n",
      "Querying from: https://api.yelp.com/v3/businesses/search\n",
      "Querying from: https://api.yelp.com/v3/businesses/search\n",
      "Querying from: https://api.yelp.com/v3/businesses/search\n",
      "Querying from: https://api.yelp.com/v3/businesses/search\n",
      "Querying from: https://api.yelp.com/v3/businesses/search\n",
      "Querying from: https://api.yelp.com/v3/businesses/search\n",
      "Querying from: https://api.yelp.com/v3/businesses/search\n",
      "Querying from: https://api.yelp.com/v3/businesses/search\n",
      "Querying from: https://api.yelp.com/v3/businesses/search\n",
      "Querying from: https://api.yelp.com/v3/businesses/search\n",
      "Querying from: https://api.yelp.com/v3/businesses/search\n",
      "Querying from: https://api.yelp.com/v3/businesses/search\n",
      "Query Complete!\n"
     ]
    }
   ],
   "source": [
    "rector_place = query_pushshift('225 Rector Pl, New York, NY 10280')"
   ]
  },
  {
   "cell_type": "code",
   "execution_count": 12,
   "metadata": {},
   "outputs": [
    {
     "name": "stdout",
     "output_type": "stream",
     "text": [
      "Querying from: https://api.yelp.com/v3/businesses/search\n",
      "Querying from: https://api.yelp.com/v3/businesses/search\n",
      "Querying from: https://api.yelp.com/v3/businesses/search\n",
      "Querying from: https://api.yelp.com/v3/businesses/search\n",
      "Querying from: https://api.yelp.com/v3/businesses/search\n",
      "Querying from: https://api.yelp.com/v3/businesses/search\n",
      "Querying from: https://api.yelp.com/v3/businesses/search\n",
      "Querying from: https://api.yelp.com/v3/businesses/search\n",
      "Querying from: https://api.yelp.com/v3/businesses/search\n",
      "Querying from: https://api.yelp.com/v3/businesses/search\n",
      "Querying from: https://api.yelp.com/v3/businesses/search\n",
      "Querying from: https://api.yelp.com/v3/businesses/search\n",
      "Querying from: https://api.yelp.com/v3/businesses/search\n",
      "Querying from: https://api.yelp.com/v3/businesses/search\n",
      "Querying from: https://api.yelp.com/v3/businesses/search\n",
      "Querying from: https://api.yelp.com/v3/businesses/search\n",
      "Querying from: https://api.yelp.com/v3/businesses/search\n",
      "Querying from: https://api.yelp.com/v3/businesses/search\n",
      "Querying from: https://api.yelp.com/v3/businesses/search\n",
      "Querying from: https://api.yelp.com/v3/businesses/search\n",
      "Query Complete!\n"
     ]
    }
   ],
   "source": [
    "midtown_west = query_pushshift('420 9th Ave, New York, NY 10001')"
   ]
  },
  {
   "cell_type": "code",
   "execution_count": 13,
   "metadata": {},
   "outputs": [
    {
     "name": "stdout",
     "output_type": "stream",
     "text": [
      "Querying from: https://api.yelp.com/v3/businesses/search\n",
      "Querying from: https://api.yelp.com/v3/businesses/search\n",
      "Querying from: https://api.yelp.com/v3/businesses/search\n",
      "Querying from: https://api.yelp.com/v3/businesses/search\n",
      "Querying from: https://api.yelp.com/v3/businesses/search\n",
      "Querying from: https://api.yelp.com/v3/businesses/search\n",
      "Querying from: https://api.yelp.com/v3/businesses/search\n",
      "Querying from: https://api.yelp.com/v3/businesses/search\n",
      "Querying from: https://api.yelp.com/v3/businesses/search\n",
      "Querying from: https://api.yelp.com/v3/businesses/search\n",
      "Querying from: https://api.yelp.com/v3/businesses/search\n",
      "Querying from: https://api.yelp.com/v3/businesses/search\n",
      "Querying from: https://api.yelp.com/v3/businesses/search\n",
      "Querying from: https://api.yelp.com/v3/businesses/search\n",
      "Querying from: https://api.yelp.com/v3/businesses/search\n",
      "Querying from: https://api.yelp.com/v3/businesses/search\n",
      "Querying from: https://api.yelp.com/v3/businesses/search\n",
      "Querying from: https://api.yelp.com/v3/businesses/search\n",
      "Querying from: https://api.yelp.com/v3/businesses/search\n",
      "Querying from: https://api.yelp.com/v3/businesses/search\n",
      "Query Complete!\n"
     ]
    }
   ],
   "source": [
    "upper_east_side = query_pushshift('116 E 80th St, New York, NY 10075')"
   ]
  },
  {
   "cell_type": "code",
   "execution_count": 14,
   "metadata": {},
   "outputs": [
    {
     "name": "stdout",
     "output_type": "stream",
     "text": [
      "Querying from: https://api.yelp.com/v3/businesses/search\n",
      "Querying from: https://api.yelp.com/v3/businesses/search\n",
      "Querying from: https://api.yelp.com/v3/businesses/search\n",
      "Querying from: https://api.yelp.com/v3/businesses/search\n",
      "Querying from: https://api.yelp.com/v3/businesses/search\n",
      "Querying from: https://api.yelp.com/v3/businesses/search\n",
      "Querying from: https://api.yelp.com/v3/businesses/search\n",
      "Querying from: https://api.yelp.com/v3/businesses/search\n",
      "Querying from: https://api.yelp.com/v3/businesses/search\n",
      "Querying from: https://api.yelp.com/v3/businesses/search\n",
      "Querying from: https://api.yelp.com/v3/businesses/search\n",
      "Querying from: https://api.yelp.com/v3/businesses/search\n",
      "Querying from: https://api.yelp.com/v3/businesses/search\n",
      "Querying from: https://api.yelp.com/v3/businesses/search\n",
      "Querying from: https://api.yelp.com/v3/businesses/search\n",
      "Querying from: https://api.yelp.com/v3/businesses/search\n",
      "Querying from: https://api.yelp.com/v3/businesses/search\n",
      "Querying from: https://api.yelp.com/v3/businesses/search\n",
      "Querying from: https://api.yelp.com/v3/businesses/search\n",
      "Querying from: https://api.yelp.com/v3/businesses/search\n",
      "Query Complete!\n"
     ]
    }
   ],
   "source": [
    "tribeca = query_pushshift('43 Wooster St, New York, NY 10013')"
   ]
  },
  {
   "cell_type": "code",
   "execution_count": 15,
   "metadata": {},
   "outputs": [
    {
     "name": "stdout",
     "output_type": "stream",
     "text": [
      "Querying from: https://api.yelp.com/v3/businesses/search\n",
      "Querying from: https://api.yelp.com/v3/businesses/search\n",
      "Querying from: https://api.yelp.com/v3/businesses/search\n",
      "Querying from: https://api.yelp.com/v3/businesses/search\n",
      "Querying from: https://api.yelp.com/v3/businesses/search\n",
      "Querying from: https://api.yelp.com/v3/businesses/search\n",
      "Querying from: https://api.yelp.com/v3/businesses/search\n",
      "Querying from: https://api.yelp.com/v3/businesses/search\n",
      "Querying from: https://api.yelp.com/v3/businesses/search\n",
      "Querying from: https://api.yelp.com/v3/businesses/search\n",
      "Querying from: https://api.yelp.com/v3/businesses/search\n",
      "Querying from: https://api.yelp.com/v3/businesses/search\n",
      "Querying from: https://api.yelp.com/v3/businesses/search\n",
      "Querying from: https://api.yelp.com/v3/businesses/search\n",
      "Querying from: https://api.yelp.com/v3/businesses/search\n",
      "Querying from: https://api.yelp.com/v3/businesses/search\n",
      "Querying from: https://api.yelp.com/v3/businesses/search\n",
      "Querying from: https://api.yelp.com/v3/businesses/search\n",
      "Querying from: https://api.yelp.com/v3/businesses/search\n",
      "Querying from: https://api.yelp.com/v3/businesses/search\n",
      "Query Complete!\n"
     ]
    }
   ],
   "source": [
    "midtown_east = query_pushshift('311 E 51st St, New York, NY 10022') "
   ]
  },
  {
   "cell_type": "markdown",
   "metadata": {},
   "source": [
    "Once we have collected the maximum number of data allowed per day - we proceed to concatenate them into one dataframe. We are verifying that they all have the \"price\" ($) as this the feature which we try to invstigate and rop the rows where the price field is null. Afterwards we make sure that all these businesses are unique - as we can not be sure that the data we pulled belongs to different businesses - and we make sure that the businesses are still open:"
   ]
  },
  {
   "cell_type": "code",
   "execution_count": 16,
   "metadata": {},
   "outputs": [],
   "source": [
    "intermediary = pd.concat([rector_place, midtown_west, upper_east_side, tribeca, midtown_east])"
   ]
  },
  {
   "cell_type": "code",
   "execution_count": 17,
   "metadata": {},
   "outputs": [
    {
     "data": {
      "text/plain": [
       "(5000, 16)"
      ]
     },
     "execution_count": 17,
     "metadata": {},
     "output_type": "execute_result"
    }
   ],
   "source": [
    "intermediary.shape"
   ]
  },
  {
   "cell_type": "code",
   "execution_count": 18,
   "metadata": {},
   "outputs": [
    {
     "data": {
      "text/plain": [
       "209"
      ]
     },
     "execution_count": 18,
     "metadata": {},
     "output_type": "execute_result"
    }
   ],
   "source": [
    "intermediary['price'].isnull().sum()"
   ]
  },
  {
   "cell_type": "code",
   "execution_count": 19,
   "metadata": {},
   "outputs": [],
   "source": [
    "intermediary.dropna(subset=['price'], inplace = True)"
   ]
  },
  {
   "cell_type": "code",
   "execution_count": 20,
   "metadata": {},
   "outputs": [
    {
     "data": {
      "text/plain": [
       "(4791, 16)"
      ]
     },
     "execution_count": 20,
     "metadata": {},
     "output_type": "execute_result"
    }
   ],
   "source": [
    "intermediary.shape"
   ]
  },
  {
   "cell_type": "code",
   "execution_count": 21,
   "metadata": {},
   "outputs": [
    {
     "data": {
      "text/plain": [
       "False    4791\n",
       "Name: is_closed, dtype: int64"
      ]
     },
     "execution_count": 21,
     "metadata": {},
     "output_type": "execute_result"
    }
   ],
   "source": [
    "intermediary['is_closed'].value_counts()"
   ]
  },
  {
   "cell_type": "code",
   "execution_count": 22,
   "metadata": {},
   "outputs": [
    {
     "data": {
      "text/plain": [
       "array(['kxykwx5qTWBhlMh18MQ82Q', 'RemvTpxalDjSew5HwmNzUQ',\n",
       "       '8qSOz7oTPUUCafsMOBBNEQ', ..., 'lXzK0i9VnocLzPFwmEQ8Aw',\n",
       "       'rjAD4ynYMvXaL_qA7m-k1g', 'FbNzAk4zFdD4j6gQLunFHw'], dtype=object)"
      ]
     },
     "execution_count": 22,
     "metadata": {},
     "output_type": "execute_result"
    }
   ],
   "source": [
    "intermediary['id'].unique()\n"
   ]
  },
  {
   "cell_type": "code",
   "execution_count": 23,
   "metadata": {},
   "outputs": [],
   "source": [
    "intermediary.drop_duplicates(\"id\", inplace = True)"
   ]
  },
  {
   "cell_type": "code",
   "execution_count": 24,
   "metadata": {},
   "outputs": [
    {
     "data": {
      "text/plain": [
       "(3423, 16)"
      ]
     },
     "execution_count": 24,
     "metadata": {},
     "output_type": "execute_result"
    }
   ],
   "source": [
    "intermediary.shape"
   ]
  },
  {
   "cell_type": "markdown",
   "metadata": {},
   "source": [
    "Now that we have our final data cleaned and ready to be exported - we extract all the zipcodes from the location column for further use. "
   ]
  },
  {
   "cell_type": "code",
   "execution_count": 27,
   "metadata": {},
   "outputs": [],
   "source": [
    "locations = intermediary ['location']\n",
    "zip_codes = [ sub['zip_code'] for sub in locations ] "
   ]
  },
  {
   "cell_type": "code",
   "execution_count": 28,
   "metadata": {},
   "outputs": [
    {
     "data": {
      "text/plain": [
       "3423"
      ]
     },
     "execution_count": 28,
     "metadata": {},
     "output_type": "execute_result"
    }
   ],
   "source": [
    "len(zip_codes)"
   ]
  },
  {
   "cell_type": "code",
   "execution_count": 7,
   "metadata": {},
   "outputs": [
    {
     "data": {
      "text/html": [
       "<div>\n",
       "<style scoped>\n",
       "    .dataframe tbody tr th:only-of-type {\n",
       "        vertical-align: middle;\n",
       "    }\n",
       "\n",
       "    .dataframe tbody tr th {\n",
       "        vertical-align: top;\n",
       "    }\n",
       "\n",
       "    .dataframe thead th {\n",
       "        text-align: right;\n",
       "    }\n",
       "</style>\n",
       "<table border=\"1\" class=\"dataframe\">\n",
       "  <thead>\n",
       "    <tr style=\"text-align: right;\">\n",
       "      <th></th>\n",
       "      <th>id</th>\n",
       "      <th>alias</th>\n",
       "      <th>name</th>\n",
       "      <th>image_url</th>\n",
       "      <th>is_closed</th>\n",
       "      <th>url</th>\n",
       "      <th>review_count</th>\n",
       "      <th>categories</th>\n",
       "      <th>rating</th>\n",
       "      <th>coordinates</th>\n",
       "      <th>transactions</th>\n",
       "      <th>price</th>\n",
       "      <th>location</th>\n",
       "      <th>phone</th>\n",
       "      <th>display_phone</th>\n",
       "      <th>distance</th>\n",
       "    </tr>\n",
       "  </thead>\n",
       "  <tbody>\n",
       "    <tr>\n",
       "      <th>0</th>\n",
       "      <td>kxykwx5qTWBhlMh18MQ82Q</td>\n",
       "      <td>lukes-lobster-fidi-new-york</td>\n",
       "      <td>Luke's Lobster FiDi</td>\n",
       "      <td>https://s3-media2.fl.yelpcdn.com/bphoto/C5NV5l...</td>\n",
       "      <td>False</td>\n",
       "      <td>https://www.yelp.com/biz/lukes-lobster-fidi-ne...</td>\n",
       "      <td>1151</td>\n",
       "      <td>[{'alias': 'seafood', 'title': 'Seafood'}]</td>\n",
       "      <td>4.5</td>\n",
       "      <td>{'latitude': 40.7046213003984, 'longitude': -7...</td>\n",
       "      <td>['delivery', 'pickup']</td>\n",
       "      <td>$$</td>\n",
       "      <td>{'address1': '26 S William St', 'address2': ''...</td>\n",
       "      <td>1.212747e+10</td>\n",
       "      <td>(212) 747-1700</td>\n",
       "      <td>694.914546</td>\n",
       "    </tr>\n",
       "    <tr>\n",
       "      <th>1</th>\n",
       "      <td>RemvTpxalDjSew5HwmNzUQ</td>\n",
       "      <td>the-dead-rabbit-new-york</td>\n",
       "      <td>The Dead Rabbit</td>\n",
       "      <td>https://s3-media2.fl.yelpcdn.com/bphoto/_4T5R0...</td>\n",
       "      <td>False</td>\n",
       "      <td>https://www.yelp.com/biz/the-dead-rabbit-new-y...</td>\n",
       "      <td>1563</td>\n",
       "      <td>[{'alias': 'cocktailbars', 'title': 'Cocktail ...</td>\n",
       "      <td>4.0</td>\n",
       "      <td>{'latitude': 40.70329, 'longitude': -74.01102}</td>\n",
       "      <td>[]</td>\n",
       "      <td>$$</td>\n",
       "      <td>{'address1': '30 Water St', 'address2': '', 'a...</td>\n",
       "      <td>1.646423e+10</td>\n",
       "      <td>(646) 422-7906</td>\n",
       "      <td>801.933360</td>\n",
       "    </tr>\n",
       "    <tr>\n",
       "      <th>2</th>\n",
       "      <td>8qSOz7oTPUUCafsMOBBNEQ</td>\n",
       "      <td>pisillo-italian-panini-new-york</td>\n",
       "      <td>Pisillo Italian Panini</td>\n",
       "      <td>https://s3-media1.fl.yelpcdn.com/bphoto/UoXfEV...</td>\n",
       "      <td>False</td>\n",
       "      <td>https://www.yelp.com/biz/pisillo-italian-panin...</td>\n",
       "      <td>581</td>\n",
       "      <td>[{'alias': 'italian', 'title': 'Italian'}, {'a...</td>\n",
       "      <td>4.5</td>\n",
       "      <td>{'latitude': 40.710558, 'longitude': -74.007594}</td>\n",
       "      <td>['delivery', 'pickup']</td>\n",
       "      <td>$$</td>\n",
       "      <td>{'address1': '97 Nassau St', 'address2': '', '...</td>\n",
       "      <td>1.212227e+10</td>\n",
       "      <td>(212) 227-3104</td>\n",
       "      <td>727.968021</td>\n",
       "    </tr>\n",
       "    <tr>\n",
       "      <th>3</th>\n",
       "      <td>yH6t1JWcwkdWG4CS5KPvow</td>\n",
       "      <td>adriennes-pizzabar-new-york</td>\n",
       "      <td>Adrienne's Pizzabar</td>\n",
       "      <td>https://s3-media4.fl.yelpcdn.com/bphoto/MOG8wp...</td>\n",
       "      <td>False</td>\n",
       "      <td>https://www.yelp.com/biz/adriennes-pizzabar-ne...</td>\n",
       "      <td>1641</td>\n",
       "      <td>[{'alias': 'pizza', 'title': 'Pizza'}, {'alias...</td>\n",
       "      <td>4.0</td>\n",
       "      <td>{'latitude': 40.7043362, 'longitude': -74.0101...</td>\n",
       "      <td>['delivery', 'pickup']</td>\n",
       "      <td>$$</td>\n",
       "      <td>{'address1': '54 Stone St', 'address2': None, ...</td>\n",
       "      <td>1.212248e+10</td>\n",
       "      <td>(212) 248-3838</td>\n",
       "      <td>752.315531</td>\n",
       "    </tr>\n",
       "    <tr>\n",
       "      <th>4</th>\n",
       "      <td>xTnivXEdEtXrnhp-z4JGvg</td>\n",
       "      <td>la-parisienne-new-york-5</td>\n",
       "      <td>La Parisienne</td>\n",
       "      <td>https://s3-media2.fl.yelpcdn.com/bphoto/8i6Hgi...</td>\n",
       "      <td>False</td>\n",
       "      <td>https://www.yelp.com/biz/la-parisienne-new-yor...</td>\n",
       "      <td>448</td>\n",
       "      <td>[{'alias': 'french', 'title': 'French'}, {'ali...</td>\n",
       "      <td>4.5</td>\n",
       "      <td>{'latitude': 40.70961, 'longitude': -74.0093799}</td>\n",
       "      <td>['delivery', 'pickup']</td>\n",
       "      <td>$$</td>\n",
       "      <td>{'address1': '9 Maiden Ln', 'address2': None, ...</td>\n",
       "      <td>1.646756e+10</td>\n",
       "      <td>(646) 756-4911</td>\n",
       "      <td>570.496041</td>\n",
       "    </tr>\n",
       "  </tbody>\n",
       "</table>\n",
       "</div>"
      ],
      "text/plain": [
       "                       id                            alias  \\\n",
       "0  kxykwx5qTWBhlMh18MQ82Q      lukes-lobster-fidi-new-york   \n",
       "1  RemvTpxalDjSew5HwmNzUQ         the-dead-rabbit-new-york   \n",
       "2  8qSOz7oTPUUCafsMOBBNEQ  pisillo-italian-panini-new-york   \n",
       "3  yH6t1JWcwkdWG4CS5KPvow      adriennes-pizzabar-new-york   \n",
       "4  xTnivXEdEtXrnhp-z4JGvg         la-parisienne-new-york-5   \n",
       "\n",
       "                     name                                          image_url  \\\n",
       "0     Luke's Lobster FiDi  https://s3-media2.fl.yelpcdn.com/bphoto/C5NV5l...   \n",
       "1         The Dead Rabbit  https://s3-media2.fl.yelpcdn.com/bphoto/_4T5R0...   \n",
       "2  Pisillo Italian Panini  https://s3-media1.fl.yelpcdn.com/bphoto/UoXfEV...   \n",
       "3     Adrienne's Pizzabar  https://s3-media4.fl.yelpcdn.com/bphoto/MOG8wp...   \n",
       "4           La Parisienne  https://s3-media2.fl.yelpcdn.com/bphoto/8i6Hgi...   \n",
       "\n",
       "   is_closed                                                url  review_count  \\\n",
       "0      False  https://www.yelp.com/biz/lukes-lobster-fidi-ne...          1151   \n",
       "1      False  https://www.yelp.com/biz/the-dead-rabbit-new-y...          1563   \n",
       "2      False  https://www.yelp.com/biz/pisillo-italian-panin...           581   \n",
       "3      False  https://www.yelp.com/biz/adriennes-pizzabar-ne...          1641   \n",
       "4      False  https://www.yelp.com/biz/la-parisienne-new-yor...           448   \n",
       "\n",
       "                                          categories  rating  \\\n",
       "0         [{'alias': 'seafood', 'title': 'Seafood'}]     4.5   \n",
       "1  [{'alias': 'cocktailbars', 'title': 'Cocktail ...     4.0   \n",
       "2  [{'alias': 'italian', 'title': 'Italian'}, {'a...     4.5   \n",
       "3  [{'alias': 'pizza', 'title': 'Pizza'}, {'alias...     4.0   \n",
       "4  [{'alias': 'french', 'title': 'French'}, {'ali...     4.5   \n",
       "\n",
       "                                         coordinates            transactions  \\\n",
       "0  {'latitude': 40.7046213003984, 'longitude': -7...  ['delivery', 'pickup']   \n",
       "1     {'latitude': 40.70329, 'longitude': -74.01102}                      []   \n",
       "2   {'latitude': 40.710558, 'longitude': -74.007594}  ['delivery', 'pickup']   \n",
       "3  {'latitude': 40.7043362, 'longitude': -74.0101...  ['delivery', 'pickup']   \n",
       "4   {'latitude': 40.70961, 'longitude': -74.0093799}  ['delivery', 'pickup']   \n",
       "\n",
       "  price                                           location         phone  \\\n",
       "0    $$  {'address1': '26 S William St', 'address2': ''...  1.212747e+10   \n",
       "1    $$  {'address1': '30 Water St', 'address2': '', 'a...  1.646423e+10   \n",
       "2    $$  {'address1': '97 Nassau St', 'address2': '', '...  1.212227e+10   \n",
       "3    $$  {'address1': '54 Stone St', 'address2': None, ...  1.212248e+10   \n",
       "4    $$  {'address1': '9 Maiden Ln', 'address2': None, ...  1.646756e+10   \n",
       "\n",
       "    display_phone    distance  \n",
       "0  (212) 747-1700  694.914546  \n",
       "1  (646) 422-7906  801.933360  \n",
       "2  (212) 227-3104  727.968021  \n",
       "3  (212) 248-3838  752.315531  \n",
       "4  (646) 756-4911  570.496041  "
      ]
     },
     "execution_count": 7,
     "metadata": {},
     "output_type": "execute_result"
    }
   ],
   "source": [
    "locations = intermediary .head()"
   ]
  },
  {
   "cell_type": "markdown",
   "metadata": {},
   "source": [
    "We export the cleaned data into csv format. "
   ]
  },
  {
   "cell_type": "code",
   "execution_count": 90,
   "metadata": {},
   "outputs": [],
   "source": [
    "intermediary.to_csv('intermediary.csv', index = False)"
   ]
  }
 ],
 "metadata": {
  "kernelspec": {
   "display_name": "Python 3",
   "language": "python",
   "name": "python3"
  },
  "language_info": {
   "codemirror_mode": {
    "name": "ipython",
    "version": 3
   },
   "file_extension": ".py",
   "mimetype": "text/x-python",
   "name": "python",
   "nbconvert_exporter": "python",
   "pygments_lexer": "ipython3",
   "version": "3.7.4"
  },
  "toc": {
   "base_numbering": 1,
   "nav_menu": {},
   "number_sections": true,
   "sideBar": true,
   "skip_h1_title": false,
   "title_cell": "Table of Contents",
   "title_sidebar": "Contents",
   "toc_cell": false,
   "toc_position": {},
   "toc_section_display": true,
   "toc_window_display": false
  }
 },
 "nbformat": 4,
 "nbformat_minor": 2
}
