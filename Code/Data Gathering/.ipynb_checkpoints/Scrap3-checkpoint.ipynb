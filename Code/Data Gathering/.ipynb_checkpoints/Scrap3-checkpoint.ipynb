{
 "cells": [
  {
   "cell_type": "markdown",
   "metadata": {},
   "source": [
    "# Scrap Book 3\n",
    "\n",
    "- Purpose of notebook is to scrape Yelp API for datapoints we can use"
   ]
  },
  {
   "cell_type": "code",
   "execution_count": 394,
   "metadata": {},
   "outputs": [],
   "source": [
    "import pandas as pd\n",
    "import numpy as np\n",
    "import requests\n",
    "import time\n",
    "import matplotlib.pyplot as plt"
   ]
  },
  {
   "cell_type": "markdown",
   "metadata": {},
   "source": [
    "Our data was gathered from Yelp Fusion API. Function was created to extract possible datapoints based on an exact address"
   ]
  },
  {
   "cell_type": "code",
   "execution_count": 13,
   "metadata": {},
   "outputs": [],
   "source": [
    "#define a function that pulls business information off the yelp dataframe\n",
    "def query_pushshift(location, kind = 'submission'):\n",
    "    SUBFIELDS = ['id', 'alias', 'name', 'image_url', 'is_closed', 'url', 'review_count', 'categories', 'rating', 'coordinates', 'transactions', 'price', 'location', 'phone', 'display_phone', 'distance']\n",
    "    \n",
    "#define list up here to store infromation ebing done down there\n",
    "    business = []\n",
    "    for i in range(20):\n",
    "        url = 'https://api.yelp.com/v3/businesses/search'\n",
    "        API_key = 'My API'\n",
    "        headers = { \"Authorization\": f'Bearer {API_key}'}\n",
    "        api_params = {'location' : {location},\n",
    "              'limit' : 50,\n",
    "              'offset': i* 50}\n",
    "        print(\"Querying from: \" + url)\n",
    "        res = requests.get(url, headers = headers, params= api_params )\n",
    "        assert res.status_code == 200\n",
    "        mine = res.json()['businesses']\n",
    "        df = pd.DataFrame.from_dict(mine)\n",
    "        business.append(df)\n",
    "        time.sleep(3)\n",
    "        full = pd.concat(business, sort=False)\n",
    "        if kind == \"submission\":\n",
    "        # select desired columns\n",
    "            full = full[SUBFIELDS]\n",
    "    print(\"Query Complete!\")    \n",
    "    return full      \n"
   ]
  },
  {
   "cell_type": "markdown",
   "metadata": {},
   "source": [
    "We have decided to pull the data for as many areas of New York City as possible, by querying 1000 business around 5 random addresses. We have gathered 5000 businesses this way - as this is the maximum number of daily calls we could have made as per Yelp API policy."
   ]
  },
  {
   "cell_type": "code",
   "execution_count": 382,
   "metadata": {},
   "outputs": [
    {
     "name": "stdout",
     "output_type": "stream",
     "text": [
      "Querying from: https://api.yelp.com/v3/businesses/search\n",
      "Querying from: https://api.yelp.com/v3/businesses/search\n",
      "Querying from: https://api.yelp.com/v3/businesses/search\n",
      "Querying from: https://api.yelp.com/v3/businesses/search\n",
      "Querying from: https://api.yelp.com/v3/businesses/search\n",
      "Querying from: https://api.yelp.com/v3/businesses/search\n",
      "Querying from: https://api.yelp.com/v3/businesses/search\n",
      "Querying from: https://api.yelp.com/v3/businesses/search\n",
      "Querying from: https://api.yelp.com/v3/businesses/search\n",
      "Querying from: https://api.yelp.com/v3/businesses/search\n",
      "Querying from: https://api.yelp.com/v3/businesses/search\n",
      "Querying from: https://api.yelp.com/v3/businesses/search\n",
      "Querying from: https://api.yelp.com/v3/businesses/search\n",
      "Querying from: https://api.yelp.com/v3/businesses/search\n",
      "Querying from: https://api.yelp.com/v3/businesses/search\n",
      "Querying from: https://api.yelp.com/v3/businesses/search\n",
      "Querying from: https://api.yelp.com/v3/businesses/search\n",
      "Querying from: https://api.yelp.com/v3/businesses/search\n",
      "Querying from: https://api.yelp.com/v3/businesses/search\n",
      "Querying from: https://api.yelp.com/v3/businesses/search\n",
      "Query Complete!\n"
     ]
    }
   ],
   "source": [
    "#lower manhattan address\n",
    "df = query_pushshift('13 Doyers St, New York, NY 10013')"
   ]
  },
  {
   "cell_type": "code",
   "execution_count": 400,
   "metadata": {},
   "outputs": [],
   "source": [
    "\n",
    "\n",
    "locations = df['location']\n",
    "zip_codes = [ sub['zip_code'] for sub in locations ] \n",
    "df['zip_codes'] = zip_codes"
   ]
  },
  {
   "cell_type": "code",
   "execution_count": null,
   "metadata": {},
   "outputs": [],
   "source": []
  },
  {
   "cell_type": "code",
   "execution_count": 409,
   "metadata": {},
   "outputs": [
    {
     "name": "stdout",
     "output_type": "stream",
     "text": [
      "Querying from: https://api.yelp.com/v3/businesses/search\n",
      "Querying from: https://api.yelp.com/v3/businesses/search\n",
      "Querying from: https://api.yelp.com/v3/businesses/search\n",
      "Querying from: https://api.yelp.com/v3/businesses/search\n",
      "Querying from: https://api.yelp.com/v3/businesses/search\n",
      "Querying from: https://api.yelp.com/v3/businesses/search\n",
      "Querying from: https://api.yelp.com/v3/businesses/search\n",
      "Querying from: https://api.yelp.com/v3/businesses/search\n",
      "Querying from: https://api.yelp.com/v3/businesses/search\n",
      "Querying from: https://api.yelp.com/v3/businesses/search\n",
      "Querying from: https://api.yelp.com/v3/businesses/search\n",
      "Querying from: https://api.yelp.com/v3/businesses/search\n",
      "Querying from: https://api.yelp.com/v3/businesses/search\n",
      "Querying from: https://api.yelp.com/v3/businesses/search\n",
      "Querying from: https://api.yelp.com/v3/businesses/search\n",
      "Querying from: https://api.yelp.com/v3/businesses/search\n",
      "Querying from: https://api.yelp.com/v3/businesses/search\n",
      "Querying from: https://api.yelp.com/v3/businesses/search\n",
      "Querying from: https://api.yelp.com/v3/businesses/search\n",
      "Querying from: https://api.yelp.com/v3/businesses/search\n",
      "Query Complete!\n"
     ]
    }
   ],
   "source": [
    "# east village address\n",
    "df2 = query_pushshift('65 4th Ave, New York, NY 10003')"
   ]
  },
  {
   "cell_type": "code",
   "execution_count": 410,
   "metadata": {},
   "outputs": [],
   "source": [
    "locations = df2['location']\n",
    "zip_codes = [ sub['zip_code'] for sub in locations ] \n",
    "df2['zip_codes'] = zip_codes"
   ]
  },
  {
   "cell_type": "code",
   "execution_count": 411,
   "metadata": {},
   "outputs": [
    {
     "name": "stdout",
     "output_type": "stream",
     "text": [
      "Querying from: https://api.yelp.com/v3/businesses/search\n",
      "Querying from: https://api.yelp.com/v3/businesses/search\n",
      "Querying from: https://api.yelp.com/v3/businesses/search\n",
      "Querying from: https://api.yelp.com/v3/businesses/search\n",
      "Querying from: https://api.yelp.com/v3/businesses/search\n",
      "Querying from: https://api.yelp.com/v3/businesses/search\n",
      "Querying from: https://api.yelp.com/v3/businesses/search\n",
      "Querying from: https://api.yelp.com/v3/businesses/search\n",
      "Querying from: https://api.yelp.com/v3/businesses/search\n",
      "Querying from: https://api.yelp.com/v3/businesses/search\n",
      "Querying from: https://api.yelp.com/v3/businesses/search\n",
      "Querying from: https://api.yelp.com/v3/businesses/search\n",
      "Querying from: https://api.yelp.com/v3/businesses/search\n",
      "Querying from: https://api.yelp.com/v3/businesses/search\n",
      "Querying from: https://api.yelp.com/v3/businesses/search\n",
      "Querying from: https://api.yelp.com/v3/businesses/search\n",
      "Querying from: https://api.yelp.com/v3/businesses/search\n",
      "Querying from: https://api.yelp.com/v3/businesses/search\n",
      "Querying from: https://api.yelp.com/v3/businesses/search\n",
      "Querying from: https://api.yelp.com/v3/businesses/search\n",
      "Query Complete!\n"
     ]
    }
   ],
   "source": [
    "#West village\n",
    "df3 = query_pushshift('469 6th Ave, New York, NY 10011')"
   ]
  },
  {
   "cell_type": "code",
   "execution_count": 412,
   "metadata": {},
   "outputs": [],
   "source": [
    "locations = df3['location']\n",
    "zip_codes = [ sub['zip_code'] for sub in locations ] \n",
    "df3['zip_codes'] = zip_codes"
   ]
  },
  {
   "cell_type": "code",
   "execution_count": 413,
   "metadata": {},
   "outputs": [
    {
     "name": "stdout",
     "output_type": "stream",
     "text": [
      "Querying from: https://api.yelp.com/v3/businesses/search\n",
      "Querying from: https://api.yelp.com/v3/businesses/search\n",
      "Querying from: https://api.yelp.com/v3/businesses/search\n",
      "Querying from: https://api.yelp.com/v3/businesses/search\n",
      "Querying from: https://api.yelp.com/v3/businesses/search\n",
      "Querying from: https://api.yelp.com/v3/businesses/search\n",
      "Querying from: https://api.yelp.com/v3/businesses/search\n",
      "Querying from: https://api.yelp.com/v3/businesses/search\n",
      "Querying from: https://api.yelp.com/v3/businesses/search\n",
      "Querying from: https://api.yelp.com/v3/businesses/search\n",
      "Querying from: https://api.yelp.com/v3/businesses/search\n",
      "Querying from: https://api.yelp.com/v3/businesses/search\n",
      "Querying from: https://api.yelp.com/v3/businesses/search\n",
      "Querying from: https://api.yelp.com/v3/businesses/search\n",
      "Querying from: https://api.yelp.com/v3/businesses/search\n",
      "Querying from: https://api.yelp.com/v3/businesses/search\n",
      "Querying from: https://api.yelp.com/v3/businesses/search\n",
      "Querying from: https://api.yelp.com/v3/businesses/search\n",
      "Querying from: https://api.yelp.com/v3/businesses/search\n",
      "Querying from: https://api.yelp.com/v3/businesses/search\n",
      "Query Complete!\n"
     ]
    }
   ],
   "source": [
    "#midtown east\n",
    "df4 = query_pushshift('150 W 36th St, New York, NY 10018')"
   ]
  },
  {
   "cell_type": "code",
   "execution_count": 414,
   "metadata": {},
   "outputs": [],
   "source": [
    "locations = df4['location']\n",
    "zip_codes = [ sub['zip_code'] for sub in locations ] \n",
    "df4['zip_codes'] = zip_codes"
   ]
  },
  {
   "cell_type": "code",
   "execution_count": 415,
   "metadata": {},
   "outputs": [
    {
     "name": "stdout",
     "output_type": "stream",
     "text": [
      "Querying from: https://api.yelp.com/v3/businesses/search\n",
      "Querying from: https://api.yelp.com/v3/businesses/search\n",
      "Querying from: https://api.yelp.com/v3/businesses/search\n",
      "Querying from: https://api.yelp.com/v3/businesses/search\n",
      "Querying from: https://api.yelp.com/v3/businesses/search\n",
      "Querying from: https://api.yelp.com/v3/businesses/search\n",
      "Querying from: https://api.yelp.com/v3/businesses/search\n",
      "Querying from: https://api.yelp.com/v3/businesses/search\n",
      "Querying from: https://api.yelp.com/v3/businesses/search\n",
      "Querying from: https://api.yelp.com/v3/businesses/search\n",
      "Querying from: https://api.yelp.com/v3/businesses/search\n",
      "Querying from: https://api.yelp.com/v3/businesses/search\n",
      "Querying from: https://api.yelp.com/v3/businesses/search\n",
      "Querying from: https://api.yelp.com/v3/businesses/search\n",
      "Querying from: https://api.yelp.com/v3/businesses/search\n",
      "Querying from: https://api.yelp.com/v3/businesses/search\n",
      "Querying from: https://api.yelp.com/v3/businesses/search\n",
      "Querying from: https://api.yelp.com/v3/businesses/search\n",
      "Querying from: https://api.yelp.com/v3/businesses/search\n",
      "Querying from: https://api.yelp.com/v3/businesses/search\n",
      "Query Complete!\n"
     ]
    }
   ],
   "source": [
    "#hells kitchen\n",
    "df5 = query_pushshift('165 W 26th St, New York, NY 10001')"
   ]
  },
  {
   "cell_type": "markdown",
   "metadata": {},
   "source": [
    "Once we have collected the maximum number of data allowed per day - we proceed to concatenate them into one dataframe. We are verifying that they all have the \"price\" ($) as this the feature which we try to invstigate and rop the rows where the price field is null. Afterwards we make sure that all these businesses are unique - as we can not be sure that the data we pulled belongs to different businesses - and we make sure that the businesses are still open:"
   ]
  },
  {
   "cell_type": "code",
   "execution_count": 417,
   "metadata": {},
   "outputs": [],
   "source": [
    "all_dfs = [df, df2, df3, df4, df5]\n",
    "\n",
    "merge_df = pd.concat(all_dfs, sort = False)"
   ]
  },
  {
   "cell_type": "code",
   "execution_count": 418,
   "metadata": {},
   "outputs": [
    {
     "data": {
      "text/plain": [
       "(5000, 17)"
      ]
     },
     "execution_count": 418,
     "metadata": {},
     "output_type": "execute_result"
    }
   ],
   "source": [
    "merge_df.shape"
   ]
  },
  {
   "cell_type": "markdown",
   "metadata": {},
   "source": [
    "Now that we have our final data cleaned and ready to be exported - we extract all the zipcodes from the location column for further use. "
   ]
  },
  {
   "cell_type": "code",
   "execution_count": 416,
   "metadata": {},
   "outputs": [],
   "source": [
    "locations = df5['location']\n",
    "zip_codes = [ sub['zip_code'] for sub in locations ] \n",
    "df5['zip_codes'] = zip_codes"
   ]
  },
  {
   "cell_type": "code",
   "execution_count": 419,
   "metadata": {},
   "outputs": [],
   "source": [
    "merge_df.to_csv('brooklyn.csv', index=False)\n"
   ]
  }
 ],
 "metadata": {
  "kernelspec": {
   "display_name": "Python 3",
   "language": "python",
   "name": "python3"
  },
  "language_info": {
   "codemirror_mode": {
    "name": "ipython",
    "version": 3
   },
   "file_extension": ".py",
   "mimetype": "text/x-python",
   "name": "python",
   "nbconvert_exporter": "python",
   "pygments_lexer": "ipython3",
   "version": "3.7.4"
  },
  "toc": {
   "base_numbering": 1,
   "nav_menu": {},
   "number_sections": true,
   "sideBar": true,
   "skip_h1_title": false,
   "title_cell": "Table of Contents",
   "title_sidebar": "Contents",
   "toc_cell": false,
   "toc_position": {},
   "toc_section_display": true,
   "toc_window_display": false
  }
 },
 "nbformat": 4,
 "nbformat_minor": 2
}
